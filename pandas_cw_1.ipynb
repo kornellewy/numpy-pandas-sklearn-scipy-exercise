{
  "nbformat": 4,
  "nbformat_minor": 0,
  "metadata": {
    "colab": {
      "name": "pandas_cw_1",
      "version": "0.3.2",
      "provenance": [],
      "collapsed_sections": [],
      "include_colab_link": true
    },
    "kernelspec": {
      "name": "python3",
      "display_name": "Python 3"
    }
  },
  "cells": [
    {
      "cell_type": "markdown",
      "metadata": {
        "id": "view-in-github",
        "colab_type": "text"
      },
      "source": [
        "<a href=\"https://colab.research.google.com/github/kornellewy/numpy-pandas-sklearn-scipy-exercise/blob/master/pandas_cw_1.ipynb\" target=\"_parent\"><img src=\"https://colab.research.google.com/assets/colab-badge.svg\" alt=\"Open In Colab\"/></a>"
      ]
    },
    {
      "cell_type": "code",
      "metadata": {
        "id": "6-sqLtHijJny",
        "colab_type": "code",
        "colab": {}
      },
      "source": [
        "# # https://www.machinelearningplus.com/python/101-pandas-exercises-python/"
      ],
      "execution_count": 0,
      "outputs": []
    },
    {
      "cell_type": "code",
      "metadata": {
        "id": "oP3uiyLQdvK7",
        "colab_type": "code",
        "colab": {}
      },
      "source": [
        "import numpy as np\n",
        "import pandas as pd"
      ],
      "execution_count": 0,
      "outputs": []
    },
    {
      "cell_type": "code",
      "metadata": {
        "id": "Sf6N7D_bdlFe",
        "colab_type": "code",
        "colab": {}
      },
      "source": [
        "# 2. How to create a series from a list, numpy array and dict?\n",
        "# Create a pandas series from each of the items below: a list,\n",
        "#  numpy and a dictionary\n",
        "mylist = list('abcedfghijklmnopqrstuvwxyz')\n",
        "myarr = np.arange(26)\n",
        "mydict = dict(zip(mylist, myarr))\n",
        "a = pd.Series(mylist)\n",
        "b = pd.Series(myarr)\n",
        "c = pd.Series(mydict) "
      ],
      "execution_count": 0,
      "outputs": []
    },
    {
      "cell_type": "code",
      "metadata": {
        "id": "I2JdYyjYdtaz",
        "colab_type": "code",
        "colab": {}
      },
      "source": [
        "# 3. How to convert the index of a series into a column of a dataframe?\n",
        "# Convert the series ser into a dataframe with its index as another column\n",
        "# on the dataframe.\n",
        "mylist = list('abcedfghijklmnopqrstuvwxyz')\n",
        "myarr = np.arange(26)\n",
        "mydict = dict(zip(mylist, myarr))\n",
        "a = pd.Series(mydict)\n",
        "a = a.to_frame().reset_index()"
      ],
      "execution_count": 0,
      "outputs": []
    },
    {
      "cell_type": "code",
      "metadata": {
        "id": "lzvCTYESeiLh",
        "colab_type": "code",
        "colab": {}
      },
      "source": [
        " #4. How to combine many series to form a dataframe?\n",
        "ser1 = pd.Series(list('abcedfghijklmnopqrstuvwxyz'))\n",
        "ser2 = pd.Series(np.arange(26))\n",
        "a = pd.concat([ser1, ser2], axis=1)"
      ],
      "execution_count": 0,
      "outputs": []
    },
    {
      "cell_type": "code",
      "metadata": {
        "id": "0ZxScOpdfdFm",
        "colab_type": "code",
        "colab": {}
      },
      "source": [
        "# 5. How to assign name to the series’ index?\n",
        "# give a name to the series ser calling it ‘alphabets’.\n",
        "a = pd.Series(list('abcedfghijklmnopqrstuvwxyz'))\n",
        "a.name = 'alphabets'"
      ],
      "execution_count": 0,
      "outputs": []
    },
    {
      "cell_type": "code",
      "metadata": {
        "id": "iMcYMIZDs6tT",
        "colab_type": "code",
        "outputId": "594e54df-a279-439c-ed2d-00ddb2dca572",
        "colab": {
          "base_uri": "https://localhost:8080/",
          "height": 86
        }
      },
      "source": [
        "# 6. How to get the items of series A not present in series B?\n",
        "# From ser1 remove items present in ser2.\n",
        "a = pd.Series([1, 2, 3, 4, 5])\n",
        "b = pd.Series([4, 5, 6, 7, 8])\n",
        "a[~a.isin(b)]"
      ],
      "execution_count": 279,
      "outputs": [
        {
          "output_type": "execute_result",
          "data": {
            "text/plain": [
              "0    1\n",
              "1    2\n",
              "2    3\n",
              "dtype: int64"
            ]
          },
          "metadata": {
            "tags": []
          },
          "execution_count": 279
        }
      ]
    },
    {
      "cell_type": "code",
      "metadata": {
        "id": "gSTIQeoruTGn",
        "colab_type": "code",
        "outputId": "abda2d30-c667-4ac1-cd2c-6cca3aa9c8be",
        "colab": {
          "base_uri": "https://localhost:8080/",
          "height": 139
        }
      },
      "source": [
        "# 7. How to get the items not common to both series A and series B?\n",
        "# Get all items of ser1 and ser2 not common to both.\n",
        "a = pd.Series([1, 2, 3, 4, 5])\n",
        "b = pd.Series([4, 5, 6, 7, 8])\n",
        "c = pd.Series(np.union1d(a,b))\n",
        "d = pd.Series(np.intersect1d(a,b))\n",
        "c[~c.isin(d)]"
      ],
      "execution_count": 280,
      "outputs": [
        {
          "output_type": "execute_result",
          "data": {
            "text/plain": [
              "0    1\n",
              "1    2\n",
              "2    3\n",
              "5    6\n",
              "6    7\n",
              "7    8\n",
              "dtype: int64"
            ]
          },
          "metadata": {
            "tags": []
          },
          "execution_count": 280
        }
      ]
    },
    {
      "cell_type": "code",
      "metadata": {
        "id": "ufngk1VIvz4a",
        "colab_type": "code",
        "outputId": "40085edc-b013-4f2f-e87e-7aa9a4771f8f",
        "colab": {
          "base_uri": "https://localhost:8080/",
          "height": 121
        }
      },
      "source": [
        "# 8. How to get the minimum, 25th percentile,\n",
        "# median, 75th, and max of a numeric series?\n",
        "# Compute the minimum, 25th percentile, median, \n",
        "# 75th, and maximum of ser.\n",
        "state = np.random.RandomState(100)\n",
        "a = pd.Series(state.normal(10, 5, 25))\n",
        "b = pd.Series(np.percentile(a, q=[0, 25, 50, 75, 100]))\n",
        "b"
      ],
      "execution_count": 281,
      "outputs": [
        {
          "output_type": "execute_result",
          "data": {
            "text/plain": [
              "0    1.2512\n",
              "1    7.7099\n",
              "2   10.9226\n",
              "3   13.3636\n",
              "4   18.0949\n",
              "dtype: float64"
            ]
          },
          "metadata": {
            "tags": []
          },
          "execution_count": 281
        }
      ]
    },
    {
      "cell_type": "code",
      "metadata": {
        "id": "MRfbDXZNxTYQ",
        "colab_type": "code",
        "outputId": "7cadf80e-c3af-4f8b-eda2-45c9862195c4",
        "colab": {
          "base_uri": "https://localhost:8080/",
          "height": 173
        }
      },
      "source": [
        "# 9. How to get frequency counts of unique items of a series?\n",
        "# Calculte the frequency counts of each unique value ser.\n",
        "a = pd.Series(np.take(list('abcdefgh'), np.random.randint(8, size=30)))\n",
        "a.value_counts()"
      ],
      "execution_count": 282,
      "outputs": [
        {
          "output_type": "execute_result",
          "data": {
            "text/plain": [
              "b    7\n",
              "f    5\n",
              "d    4\n",
              "c    4\n",
              "h    4\n",
              "a    3\n",
              "e    2\n",
              "g    1\n",
              "dtype: int64"
            ]
          },
          "metadata": {
            "tags": []
          },
          "execution_count": 282
        }
      ]
    },
    {
      "cell_type": "code",
      "metadata": {
        "id": "heuUrbx1yhL9",
        "colab_type": "code",
        "colab": {}
      },
      "source": [
        "# 10. How to keep only top 2 most frequent values\n",
        "# as it is and replace everything else as ‘Other’?\n",
        "# From ser, keep the top 2 most frequent items as it\n",
        "# is and replace everything else as ‘Other’\n",
        "a = pd.Series(np.take(list('abcdefgh'), np.random.randint(8, size=30)))\n",
        "b = a.value_counts().index[:2]\n",
        "a[~a.isin(b)] = 'Other'"
      ],
      "execution_count": 0,
      "outputs": []
    },
    {
      "cell_type": "code",
      "metadata": {
        "id": "UKM088yxzfnL",
        "colab_type": "code",
        "outputId": "40f903a1-ecde-4b66-949e-8331ccf71ae8",
        "colab": {
          "base_uri": "https://localhost:8080/",
          "height": 139
        }
      },
      "source": [
        "# 11. How to bin a numeric series to 10 groups of equal size?\n",
        "# in the series ser into 10 equal deciles and\n",
        "# replace the values with the bin name.\n",
        "a = pd.Series(np.random.random(20))\n",
        "b = pd.qcut(a, q=[0, .10, .20, .3, .4, .5, .6, .7, .8, .9, 1], \n",
        "labels=['1st', '2nd', '3rd', '4th', '5th', '6th', '7th', '8th', '9th', '10th']).head()\n",
        "b"
      ],
      "execution_count": 284,
      "outputs": [
        {
          "output_type": "execute_result",
          "data": {
            "text/plain": [
              "0    8th\n",
              "1    7th\n",
              "2    5th\n",
              "3    9th\n",
              "4    1st\n",
              "dtype: category\n",
              "Categories (10, object): [1st < 2nd < 3rd < 4th ... 7th < 8th < 9th < 10th]"
            ]
          },
          "metadata": {
            "tags": []
          },
          "execution_count": 284
        }
      ]
    },
    {
      "cell_type": "code",
      "metadata": {
        "id": "WbvGdjfmA3vf",
        "colab_type": "code",
        "outputId": "67b7f100-a625-49d1-bf9b-d0b17ed2d266",
        "colab": {
          "base_uri": "https://localhost:8080/",
          "height": 269
        }
      },
      "source": [
        "# 12. How to convert a numpy array to a dataframe of given shape? (L1)\n",
        "#  Reshape the series ser into a dataframe with 7 rows and 5 columns\n",
        "ser = pd.Series(np.random.randint(1, 10, 35))\n",
        "ser = pd.DataFrame(data=ser.values.reshape(7,5))\n",
        "ser"
      ],
      "execution_count": 285,
      "outputs": [
        {
          "output_type": "execute_result",
          "data": {
            "text/html": [
              "<div>\n",
              "<style scoped>\n",
              "    .dataframe tbody tr th:only-of-type {\n",
              "        vertical-align: middle;\n",
              "    }\n",
              "\n",
              "    .dataframe tbody tr th {\n",
              "        vertical-align: top;\n",
              "    }\n",
              "\n",
              "    .dataframe thead th {\n",
              "        text-align: right;\n",
              "    }\n",
              "</style>\n",
              "<table border=\"1\" class=\"dataframe\">\n",
              "  <thead>\n",
              "    <tr style=\"text-align: right;\">\n",
              "      <th></th>\n",
              "      <th>0</th>\n",
              "      <th>1</th>\n",
              "      <th>2</th>\n",
              "      <th>3</th>\n",
              "      <th>4</th>\n",
              "    </tr>\n",
              "  </thead>\n",
              "  <tbody>\n",
              "    <tr>\n",
              "      <th>0</th>\n",
              "      <td>3</td>\n",
              "      <td>6</td>\n",
              "      <td>8</td>\n",
              "      <td>4</td>\n",
              "      <td>2</td>\n",
              "    </tr>\n",
              "    <tr>\n",
              "      <th>1</th>\n",
              "      <td>2</td>\n",
              "      <td>8</td>\n",
              "      <td>8</td>\n",
              "      <td>3</td>\n",
              "      <td>6</td>\n",
              "    </tr>\n",
              "    <tr>\n",
              "      <th>2</th>\n",
              "      <td>4</td>\n",
              "      <td>5</td>\n",
              "      <td>8</td>\n",
              "      <td>5</td>\n",
              "      <td>3</td>\n",
              "    </tr>\n",
              "    <tr>\n",
              "      <th>3</th>\n",
              "      <td>1</td>\n",
              "      <td>2</td>\n",
              "      <td>6</td>\n",
              "      <td>5</td>\n",
              "      <td>5</td>\n",
              "    </tr>\n",
              "    <tr>\n",
              "      <th>4</th>\n",
              "      <td>8</td>\n",
              "      <td>3</td>\n",
              "      <td>2</td>\n",
              "      <td>9</td>\n",
              "      <td>1</td>\n",
              "    </tr>\n",
              "    <tr>\n",
              "      <th>5</th>\n",
              "      <td>7</td>\n",
              "      <td>6</td>\n",
              "      <td>7</td>\n",
              "      <td>4</td>\n",
              "      <td>1</td>\n",
              "    </tr>\n",
              "    <tr>\n",
              "      <th>6</th>\n",
              "      <td>2</td>\n",
              "      <td>9</td>\n",
              "      <td>8</td>\n",
              "      <td>6</td>\n",
              "      <td>6</td>\n",
              "    </tr>\n",
              "  </tbody>\n",
              "</table>\n",
              "</div>"
            ],
            "text/plain": [
              "   0  1  2  3  4\n",
              "0  3  6  8  4  2\n",
              "1  2  8  8  3  6\n",
              "2  4  5  8  5  3\n",
              "3  1  2  6  5  5\n",
              "4  8  3  2  9  1\n",
              "5  7  6  7  4  1\n",
              "6  2  9  8  6  6"
            ]
          },
          "metadata": {
            "tags": []
          },
          "execution_count": 285
        }
      ]
    },
    {
      "cell_type": "code",
      "metadata": {
        "id": "0A7VPBsMBiBd",
        "colab_type": "code",
        "outputId": "971c9e2e-2a8d-40bc-a543-c94c91908434",
        "colab": {
          "base_uri": "https://localhost:8080/",
          "height": 52
        }
      },
      "source": [
        "# 13. How to find the positions of \n",
        "# numbers that are multiples of 3 from a series?\n",
        "# Find the positions of numbers that are multiples of 3 from ser.\n",
        "np.random.seed(100)\n",
        "a = pd.Series(np.random.randint(1, 10, 7))\n",
        "b = pd.Series(np.where(a%3==0))\n",
        "print(b)"
      ],
      "execution_count": 286,
      "outputs": [
        {
          "output_type": "stream",
          "text": [
            "0    [0, 1]\n",
            "dtype: object\n"
          ],
          "name": "stdout"
        }
      ]
    },
    {
      "cell_type": "code",
      "metadata": {
        "id": "iOiJmAODC921",
        "colab_type": "code",
        "outputId": "ab15f248-03cd-4a56-86b2-ec08c4a05830",
        "colab": {
          "base_uri": "https://localhost:8080/",
          "height": 121
        }
      },
      "source": [
        "# 14. How to extract items at given positions from a series\n",
        "# From ser, extract the items at positions in list pos.\n",
        "a = pd.Series(list('abcdefghijklmnopqrstuvwxyz'))\n",
        "b = [0, 4, 8, 14, 20]\n",
        "c = a.take(b)\n",
        "c"
      ],
      "execution_count": 287,
      "outputs": [
        {
          "output_type": "execute_result",
          "data": {
            "text/plain": [
              "0     a\n",
              "4     e\n",
              "8     i\n",
              "14    o\n",
              "20    u\n",
              "dtype: object"
            ]
          },
          "metadata": {
            "tags": []
          },
          "execution_count": 287
        }
      ]
    },
    {
      "cell_type": "code",
      "metadata": {
        "id": "FIAatjvMFYsC",
        "colab_type": "code",
        "outputId": "3c5c3578-3cd1-47f5-a8b9-0bc5d22f0128",
        "colab": {
          "base_uri": "https://localhost:8080/",
          "height": 206
        }
      },
      "source": [
        "#15. How to stack two series vertically and horizontally ?\n",
        "#Stack ser1 and ser2 vertically and horizontally (to form a dataframe).\n",
        "ser1 = pd.Series(range(5))\n",
        "ser2 = pd.Series(list('abcde'))\n",
        "# vertically\n",
        "ser3 = ser1.append(ser2)\n",
        "# horizontally\n",
        "ser3 = pd.concat([ser1 ,ser2], axis=1) \n",
        "ser3"
      ],
      "execution_count": 288,
      "outputs": [
        {
          "output_type": "execute_result",
          "data": {
            "text/html": [
              "<div>\n",
              "<style scoped>\n",
              "    .dataframe tbody tr th:only-of-type {\n",
              "        vertical-align: middle;\n",
              "    }\n",
              "\n",
              "    .dataframe tbody tr th {\n",
              "        vertical-align: top;\n",
              "    }\n",
              "\n",
              "    .dataframe thead th {\n",
              "        text-align: right;\n",
              "    }\n",
              "</style>\n",
              "<table border=\"1\" class=\"dataframe\">\n",
              "  <thead>\n",
              "    <tr style=\"text-align: right;\">\n",
              "      <th></th>\n",
              "      <th>0</th>\n",
              "      <th>1</th>\n",
              "    </tr>\n",
              "  </thead>\n",
              "  <tbody>\n",
              "    <tr>\n",
              "      <th>0</th>\n",
              "      <td>0</td>\n",
              "      <td>a</td>\n",
              "    </tr>\n",
              "    <tr>\n",
              "      <th>1</th>\n",
              "      <td>1</td>\n",
              "      <td>b</td>\n",
              "    </tr>\n",
              "    <tr>\n",
              "      <th>2</th>\n",
              "      <td>2</td>\n",
              "      <td>c</td>\n",
              "    </tr>\n",
              "    <tr>\n",
              "      <th>3</th>\n",
              "      <td>3</td>\n",
              "      <td>d</td>\n",
              "    </tr>\n",
              "    <tr>\n",
              "      <th>4</th>\n",
              "      <td>4</td>\n",
              "      <td>e</td>\n",
              "    </tr>\n",
              "  </tbody>\n",
              "</table>\n",
              "</div>"
            ],
            "text/plain": [
              "   0  1\n",
              "0  0  a\n",
              "1  1  b\n",
              "2  2  c\n",
              "3  3  d\n",
              "4  4  e"
            ]
          },
          "metadata": {
            "tags": []
          },
          "execution_count": 288
        }
      ]
    },
    {
      "cell_type": "code",
      "metadata": {
        "id": "V6XbakrTFp4s",
        "colab_type": "code",
        "outputId": "7cd27215-6c7c-4508-e681-dbf1afed9af5",
        "colab": {
          "base_uri": "https://localhost:8080/",
          "height": 34
        }
      },
      "source": [
        "# 16. How to get the positions of items of series A in another series B?\n",
        "# Get the positions of items of ser2 in ser1 as a list.\n",
        "ser1 = pd.Series([10, 9, 6, 5, 3, 1, 12, 8, 13])\n",
        "ser2 = pd.Series([1, 3, 10, 13])\n",
        "ser3 = ser1[ser1.isin(ser2)].index\n",
        "ser3 "
      ],
      "execution_count": 289,
      "outputs": [
        {
          "output_type": "execute_result",
          "data": {
            "text/plain": [
              "Int64Index([0, 4, 5, 8], dtype='int64')"
            ]
          },
          "metadata": {
            "tags": []
          },
          "execution_count": 289
        }
      ]
    },
    {
      "cell_type": "code",
      "metadata": {
        "id": "cYR8ydsK_nQe",
        "colab_type": "code",
        "outputId": "193d3888-6493-44a1-e608-62afe6a98946",
        "colab": {
          "base_uri": "https://localhost:8080/",
          "height": 34
        }
      },
      "source": [
        "# 17. How to compute the mean squared error on a truth and predicted series?\n",
        "# Compute the mean squared error of truth and pred series.\n",
        "truth = pd.Series(range(10))\n",
        "pred = pd.Series(range(10)) + np.random.random(10)\n",
        "mse = np.mean( np.power( np.subtract( truth, pred ), 2 ) )\n",
        "mse"
      ],
      "execution_count": 290,
      "outputs": [
        {
          "output_type": "execute_result",
          "data": {
            "text/plain": [
              "0.24287166298707774"
            ]
          },
          "metadata": {
            "tags": []
          },
          "execution_count": 290
        }
      ]
    },
    {
      "cell_type": "code",
      "metadata": {
        "id": "Yh4jdzL_Iz5Z",
        "colab_type": "code",
        "outputId": "f4a06215-fa4c-41cb-9b1d-b84240b333c9",
        "colab": {
          "base_uri": "https://localhost:8080/",
          "height": 34
        }
      },
      "source": [
        "# 18. How to convert the first character\n",
        "# of each element in a series to uppercase?\n",
        "# Change the first character of each word to upper case \n",
        "# in each word of ser.\n",
        "ser = pd.Series(['how', 'to', 'kick', 'ass?'])\n",
        "ser = [word.capitalize() for word in ser]\n",
        "ser"
      ],
      "execution_count": 291,
      "outputs": [
        {
          "output_type": "execute_result",
          "data": {
            "text/plain": [
              "['How', 'To', 'Kick', 'Ass?']"
            ]
          },
          "metadata": {
            "tags": []
          },
          "execution_count": 291
        }
      ]
    },
    {
      "cell_type": "code",
      "metadata": {
        "id": "k7EZ9wqXKDOv",
        "colab_type": "code",
        "outputId": "d99ccca8-35f1-4ce3-eec4-7e9bdf1c373c",
        "colab": {
          "base_uri": "https://localhost:8080/",
          "height": 104
        }
      },
      "source": [
        "#19. How to calculate the number of characters in each word in a series?\n",
        "ser = pd.Series(['how', 'to', 'kick', 'ass?'])\n",
        "word_count = pd.Series([len(word) for word in ser])\n",
        "word_count"
      ],
      "execution_count": 292,
      "outputs": [
        {
          "output_type": "execute_result",
          "data": {
            "text/plain": [
              "0    3\n",
              "1    2\n",
              "2    4\n",
              "3    4\n",
              "dtype: int64"
            ]
          },
          "metadata": {
            "tags": []
          },
          "execution_count": 292
        }
      ]
    },
    {
      "cell_type": "code",
      "metadata": {
        "id": "c1hnTkj3LNDz",
        "colab_type": "code",
        "colab": {}
      },
      "source": [
        "# 20. How to compute difference of differences between consequtive\n",
        "# numbers of a series?\n",
        "ser = pd.Series([1, 3, 6, 10, 15, 21, 27, 35])\n",
        "serd = ser.diff().tolist()\n",
        "serdd = ser.diff().diff().tolist()"
      ],
      "execution_count": 0,
      "outputs": []
    },
    {
      "cell_type": "code",
      "metadata": {
        "id": "-_Dd4DsGTyh-",
        "colab_type": "code",
        "outputId": "0f90e4a1-2fe0-4b8a-c825-134d558a4289",
        "colab": {
          "base_uri": "https://localhost:8080/",
          "height": 139
        }
      },
      "source": [
        "# 21. How to convert a series of date-strings to a timeseries?\n",
        "ser = pd.Series(['01 Jan 2010', '02-02-2011', '20120303', '2013/04/04', '2014-05-05', '2015-06-06T12:20'])\n",
        "ser = pd.to_datetime(ser)\n",
        "ser"
      ],
      "execution_count": 294,
      "outputs": [
        {
          "output_type": "execute_result",
          "data": {
            "text/plain": [
              "0   2010-01-01 00:00:00\n",
              "1   2011-02-02 00:00:00\n",
              "2   2012-03-03 00:00:00\n",
              "3   2013-04-04 00:00:00\n",
              "4   2014-05-05 00:00:00\n",
              "5   2015-06-06 12:20:00\n",
              "dtype: datetime64[ns]"
            ]
          },
          "metadata": {
            "tags": []
          },
          "execution_count": 294
        }
      ]
    },
    {
      "cell_type": "code",
      "metadata": {
        "id": "8WvLiSfILSG2",
        "colab_type": "code",
        "colab": {}
      },
      "source": [
        "#22. How to get the day of month, week number,\n",
        "# day of year and day of week from a series of date strings?\n",
        "ser = pd.Series(['01 Jan 2010', '02-02-2011', '20120303', '2013/04/04', '2014-05-05', '2015-06-06T12:20'])\n",
        "ser = pd.to_datetime(ser)\n",
        "days = ser.dt.day.tolist()\n",
        "weeks = ser.dt.week.tolist()\n",
        "days_num_year = ser.dt.dayofyear.tolist()\n",
        "days_num_week = ser.dt.weekday_name.tolist()\n"
      ],
      "execution_count": 0,
      "outputs": []
    },
    {
      "cell_type": "code",
      "metadata": {
        "id": "dJ8emQ3OLS5N",
        "colab_type": "code",
        "outputId": "4a886bfd-32f1-472d-f639-fd8c4f1608e6",
        "colab": {
          "base_uri": "https://localhost:8080/",
          "height": 86
        }
      },
      "source": [
        "# 23. How to convert year-month string to dates corresponding to the 4th day of the month?\n",
        "# Change ser to dates that start with 4th of the respective months.\n",
        "ser = pd.Series(['Jan 2010', 'Feb 2011', 'Mar 2012'])\n",
        "ser = pd.to_datetime(ser)\n",
        "ser = ser.apply(lambda dt: dt.replace(day=4))\n",
        "ser"
      ],
      "execution_count": 296,
      "outputs": [
        {
          "output_type": "execute_result",
          "data": {
            "text/plain": [
              "0   2010-01-04\n",
              "1   2011-02-04\n",
              "2   2012-03-04\n",
              "dtype: datetime64[ns]"
            ]
          },
          "metadata": {
            "tags": []
          },
          "execution_count": 296
        }
      ]
    },
    {
      "cell_type": "code",
      "metadata": {
        "id": "MDQBCds5LZm8",
        "colab_type": "code",
        "outputId": "af1c687f-eacd-4b43-a66c-5bed50231908",
        "colab": {
          "base_uri": "https://localhost:8080/",
          "height": 34
        }
      },
      "source": [
        "# 24. How to filter words that contain atleast 2 vowels from a series?\n",
        "# From ser, extract words that contain atleast 2 vowels.\n",
        "# słowa zawierające co najmniej 2 samogłoski.\n",
        "ser = pd.Series(['Apple', 'Orange', 'Plan', 'Python', 'Money'])\n",
        "vowels =  list('aeiouAEIOU')\n",
        "def filter_vowels(words, count):\n",
        "    result = []\n",
        "    for word in words:\n",
        "        if (sum(p in vowels for p in word) >= count):\n",
        "             result.append(word)\n",
        "    return result\n",
        "output = filter_vowels(ser.to_list(), 2)\n",
        "output"
      ],
      "execution_count": 297,
      "outputs": [
        {
          "output_type": "execute_result",
          "data": {
            "text/plain": [
              "['Apple', 'Orange', 'Money']"
            ]
          },
          "metadata": {
            "tags": []
          },
          "execution_count": 297
        }
      ]
    },
    {
      "cell_type": "code",
      "metadata": {
        "id": "iN8IQNKqaHR0",
        "colab_type": "code",
        "outputId": "9ada4a4a-df1f-468b-87d4-3a4aaca7b505",
        "colab": {
          "base_uri": "https://localhost:8080/",
          "height": 86
        }
      },
      "source": [
        "# 25. How to filter valid emails from a series?\n",
        "# Extract the valid emails from the series emails. \n",
        "# The regex pattern for valid emails is provided as reference.\n",
        "import re\n",
        "emails = pd.Series(['buying books at amazom.com', 'rameses@egypt.com', 'matt@t.co', 'narendra@modi.com'])\n",
        "pattern ='[A-Za-z0-9._%+-]+@[A-Za-z0-9.-]+\\\\.[A-Za-z]{2,4}'\n",
        "emails =  emails.str.findall(pattern, flags=re.IGNORECASE)\n",
        "emails = emails.drop(0)\n",
        "emails"
      ],
      "execution_count": 298,
      "outputs": [
        {
          "output_type": "execute_result",
          "data": {
            "text/plain": [
              "1    [rameses@egypt.com]\n",
              "2            [matt@t.co]\n",
              "3    [narendra@modi.com]\n",
              "dtype: object"
            ]
          },
          "metadata": {
            "tags": []
          },
          "execution_count": 298
        }
      ]
    },
    {
      "cell_type": "code",
      "metadata": {
        "id": "5yXyR3sqn29q",
        "colab_type": "code",
        "outputId": "89662048-249a-494f-f15f-a9ccf0258217",
        "colab": {
          "base_uri": "https://localhost:8080/",
          "height": 69
        }
      },
      "source": [
        "# 26. How to get the mean of a series grouped by another series?\n",
        "# Compute the mean of weights of each fruit.\n",
        "fruit = pd.Series(np.random.choice(['apple', 'banana', 'carrot'], 10))\n",
        "weight = pd.Series(np.linspace(1, 10, 10))\n",
        "weight.groupby(fruit).mean()"
      ],
      "execution_count": 299,
      "outputs": [
        {
          "output_type": "execute_result",
          "data": {
            "text/plain": [
              "apple    4.0000\n",
              "banana   6.5000\n",
              "dtype: float64"
            ]
          },
          "metadata": {
            "tags": []
          },
          "execution_count": 299
        }
      ]
    },
    {
      "cell_type": "code",
      "metadata": {
        "id": "_8x6IRty570D",
        "colab_type": "code",
        "outputId": "d6ec8bcf-f8f6-438a-8b21-8d16db0fade2",
        "colab": {
          "base_uri": "https://localhost:8080/",
          "height": 34
        }
      },
      "source": [
        "# 27. How to compute the euclidean distance between two series?\n",
        "# Compute the euclidean distance between series (points) p and q\n",
        "p = pd.Series([1, 2, 3, 4, 5, 6, 7, 8, 9, 10])\n",
        "q = pd.Series([10, 9, 8, 7, 6, 5, 4, 3, 2, 1])\n",
        "dist = np.linalg.norm(p-q)\n",
        "dist"
      ],
      "execution_count": 300,
      "outputs": [
        {
          "output_type": "execute_result",
          "data": {
            "text/plain": [
              "18.16590212458495"
            ]
          },
          "metadata": {
            "tags": []
          },
          "execution_count": 300
        }
      ]
    },
    {
      "cell_type": "code",
      "metadata": {
        "id": "heBxPezu36WQ",
        "colab_type": "code",
        "outputId": "c814fd85-33c4-4dc0-b2d2-d89b3fd474cb",
        "colab": {
          "base_uri": "https://localhost:8080/",
          "height": 34
        }
      },
      "source": [
        "# 28. How to find all the local maxima (or peaks) in a numeric series?\n",
        "# Get the positions of peaks (values surrounded by smaller values on both sides)\n",
        "# in ser.\n",
        "a = pd.Series([2, 10, 3, 4, 9, 10, 2, 7, 3]).values\n",
        "from scipy.signal import argrelextrema\n",
        "index = argrelextrema(a, np.greater)\n",
        "index"
      ],
      "execution_count": 301,
      "outputs": [
        {
          "output_type": "execute_result",
          "data": {
            "text/plain": [
              "(array([1, 5, 7]),)"
            ]
          },
          "metadata": {
            "tags": []
          },
          "execution_count": 301
        }
      ]
    },
    {
      "cell_type": "code",
      "metadata": {
        "id": "JTt8xHSQ5EbN",
        "colab_type": "code",
        "outputId": "e70faf07-10eb-4bab-b557-3490230d8add",
        "colab": {
          "base_uri": "https://localhost:8080/",
          "height": 34
        }
      },
      "source": [
        "# 29. How to replace missing spaces in a string with the least frequent \n",
        "# character?\n",
        "# eplace the spaces in my_str with the least frequent character.\n",
        "s = 'dbc deb abed gade'\n",
        "a = np.array(list(s))\n",
        "keys, count  = np.unique(a, return_counts=True)\n",
        "b = keys[np.argmin(count)]\n",
        "c = np.where(a == ' ', b, a)\n",
        "c=c.tolist()\n",
        "c=''.join(c)\n",
        "c"
      ],
      "execution_count": 302,
      "outputs": [
        {
          "output_type": "execute_result",
          "data": {
            "text/plain": [
              "'dbccdebcabedcgade'"
            ]
          },
          "metadata": {
            "tags": []
          },
          "execution_count": 302
        }
      ]
    },
    {
      "cell_type": "code",
      "metadata": {
        "id": "ravHEafv-uTC",
        "colab_type": "code",
        "outputId": "38a56085-e69e-4b05-a42b-6f8576762a64",
        "colab": {
          "base_uri": "https://localhost:8080/",
          "height": 208
        }
      },
      "source": [
        "# 30. How to create a TimeSeries starting ‘2000-01-01’ and 10 weekends \n",
        "# (saturdays) after that having random numbers as values?\n",
        "np.random.seed(100)\n",
        "a = pd.Series(np.random.randint(1,10,10), \n",
        "              pd.date_range('2000-01-01', periods=10, freq='W-SAT'))\n",
        "a\n"
      ],
      "execution_count": 303,
      "outputs": [
        {
          "output_type": "execute_result",
          "data": {
            "text/plain": [
              "2000-01-01    9\n",
              "2000-01-08    9\n",
              "2000-01-15    4\n",
              "2000-01-22    8\n",
              "2000-01-29    8\n",
              "2000-02-05    1\n",
              "2000-02-12    5\n",
              "2000-02-19    3\n",
              "2000-02-26    6\n",
              "2000-03-04    3\n",
              "Freq: W-SAT, dtype: int64"
            ]
          },
          "metadata": {
            "tags": []
          },
          "execution_count": 303
        }
      ]
    },
    {
      "cell_type": "code",
      "metadata": {
        "id": "R2x_Y97BAw51",
        "colab_type": "code",
        "outputId": "b6a78578-aba4-4a1e-a357-32f3e0cd9cdb",
        "colab": {
          "base_uri": "https://localhost:8080/",
          "height": 104
        }
      },
      "source": [
        "# 31. How to fill an intermittent time series so all missing dates show up\n",
        "# with values of previous non-missing date?\n",
        "a = pd.Series([1,10,3,np.nan], index=pd.to_datetime(['2000-01-01',\n",
        "                                                     '2000-01-03',\n",
        "                                                     '2000-01-06',\n",
        "                                                     '2000-01-08']))\n",
        "index = a.index[a.apply(np.isnan)]\n",
        "prev_index = (a[index].shift(-2, 'D')).index\n",
        "a = a.fillna(value=a[prev_index].values[0].astype(int))\n",
        "a"
      ],
      "execution_count": 304,
      "outputs": [
        {
          "output_type": "execute_result",
          "data": {
            "text/plain": [
              "2000-01-01    1.0000\n",
              "2000-01-03   10.0000\n",
              "2000-01-06    3.0000\n",
              "2000-01-08    3.0000\n",
              "dtype: float64"
            ]
          },
          "metadata": {
            "tags": []
          },
          "execution_count": 304
        }
      ]
    },
    {
      "cell_type": "code",
      "metadata": {
        "id": "nuZad-ZqZ3ny",
        "colab_type": "code",
        "outputId": "e159c2bd-ab3f-4ad9-ac9f-f58dd47c77a5",
        "colab": {
          "base_uri": "https://localhost:8080/",
          "height": 34
        }
      },
      "source": [
        "# 32. How to compute the autocorrelations of a numeric series?\n",
        "# Compute autocorrelations for the first 10 lags of ser. Find out which \n",
        "# lag has the largest correlation.\n",
        "np.random.seed(100)\n",
        "a = pd.Series(np.arange(20) + np.random.normal(1, 10, 20))\n",
        "b = [a.autocorr(i).round(2) for i in range(11)]\n",
        "b"
      ],
      "execution_count": 305,
      "outputs": [
        {
          "output_type": "execute_result",
          "data": {
            "text/plain": [
              "[1.0, 0.21, 0.08, 0.41, 0.21, 0.01, 0.03, 0.4, 0.16, 0.39, -0.02]"
            ]
          },
          "metadata": {
            "tags": []
          },
          "execution_count": 305
        }
      ]
    },
    {
      "cell_type": "code",
      "metadata": {
        "id": "VbfXcnM3nENY",
        "colab_type": "code",
        "colab": {}
      },
      "source": [
        "# 33. How to import only every nth row from a csv file \n",
        "# to create a dataframe?\n",
        "# Import every 50th row of BostonHousing dataset as a dataframe.\n",
        "# method 1\n",
        "df = pd.read_csv('https://raw.githubusercontent.com/selva86/datasets/master/BostonHousing.csv',\n",
        "                 chunksize=50)\n",
        "df2 = pd.DataFrame()\n",
        "for i in df:\n",
        "    df2 = df2.append(i.iloc[0,:])\n",
        "# method 2\n",
        "df = pd.read_csv('https://raw.githubusercontent.com/selva86/datasets/master/BostonHousing.csv', chunksize=50)\n",
        "df2 = pd.concat([chunk.iloc[0] for chunk in df], axis=1)\n",
        "df2 = df2.transpose()"
      ],
      "execution_count": 0,
      "outputs": []
    },
    {
      "cell_type": "code",
      "metadata": {
        "id": "v47lUCUtqycY",
        "colab_type": "code",
        "outputId": "4303e436-132f-4b1e-822b-dab5c1c641d5",
        "colab": {
          "base_uri": "https://localhost:8080/",
          "height": 424
        }
      },
      "source": [
        "# 34. How to change column values when importing csv to a dataframe?\n",
        "# import the boston housing dataset, but while importing change the 'medv'\n",
        "# (median house value) column so that values < 25 becomes ‘Low’ \n",
        "# and > 25 becomes ‘High’.\n",
        "df = pd.read_csv('https://raw.githubusercontent.com/selva86/datasets/master/BostonHousing.csv',\n",
        "                 converters={'medv': lambda x: 'high' if float(x) > 25 else 'low'})\n",
        "df"
      ],
      "execution_count": 307,
      "outputs": [
        {
          "output_type": "execute_result",
          "data": {
            "text/html": [
              "<div>\n",
              "<style scoped>\n",
              "    .dataframe tbody tr th:only-of-type {\n",
              "        vertical-align: middle;\n",
              "    }\n",
              "\n",
              "    .dataframe tbody tr th {\n",
              "        vertical-align: top;\n",
              "    }\n",
              "\n",
              "    .dataframe thead th {\n",
              "        text-align: right;\n",
              "    }\n",
              "</style>\n",
              "<table border=\"1\" class=\"dataframe\">\n",
              "  <thead>\n",
              "    <tr style=\"text-align: right;\">\n",
              "      <th></th>\n",
              "      <th>crim</th>\n",
              "      <th>zn</th>\n",
              "      <th>indus</th>\n",
              "      <th>chas</th>\n",
              "      <th>nox</th>\n",
              "      <th>...</th>\n",
              "      <th>tax</th>\n",
              "      <th>ptratio</th>\n",
              "      <th>b</th>\n",
              "      <th>lstat</th>\n",
              "      <th>medv</th>\n",
              "    </tr>\n",
              "  </thead>\n",
              "  <tbody>\n",
              "    <tr>\n",
              "      <th>0</th>\n",
              "      <td>0.0063</td>\n",
              "      <td>18.0000</td>\n",
              "      <td>2.3100</td>\n",
              "      <td>0</td>\n",
              "      <td>0.5380</td>\n",
              "      <td>...</td>\n",
              "      <td>296</td>\n",
              "      <td>15.3000</td>\n",
              "      <td>396.9000</td>\n",
              "      <td>4.9800</td>\n",
              "      <td>low</td>\n",
              "    </tr>\n",
              "    <tr>\n",
              "      <th>1</th>\n",
              "      <td>0.0273</td>\n",
              "      <td>0.0000</td>\n",
              "      <td>7.0700</td>\n",
              "      <td>0</td>\n",
              "      <td>0.4690</td>\n",
              "      <td>...</td>\n",
              "      <td>242</td>\n",
              "      <td>17.8000</td>\n",
              "      <td>396.9000</td>\n",
              "      <td>9.1400</td>\n",
              "      <td>low</td>\n",
              "    </tr>\n",
              "    <tr>\n",
              "      <th>2</th>\n",
              "      <td>0.0273</td>\n",
              "      <td>0.0000</td>\n",
              "      <td>7.0700</td>\n",
              "      <td>0</td>\n",
              "      <td>0.4690</td>\n",
              "      <td>...</td>\n",
              "      <td>242</td>\n",
              "      <td>17.8000</td>\n",
              "      <td>392.8300</td>\n",
              "      <td>4.0300</td>\n",
              "      <td>high</td>\n",
              "    </tr>\n",
              "    <tr>\n",
              "      <th>3</th>\n",
              "      <td>0.0324</td>\n",
              "      <td>0.0000</td>\n",
              "      <td>2.1800</td>\n",
              "      <td>0</td>\n",
              "      <td>0.4580</td>\n",
              "      <td>...</td>\n",
              "      <td>222</td>\n",
              "      <td>18.7000</td>\n",
              "      <td>394.6300</td>\n",
              "      <td>2.9400</td>\n",
              "      <td>high</td>\n",
              "    </tr>\n",
              "    <tr>\n",
              "      <th>4</th>\n",
              "      <td>0.0691</td>\n",
              "      <td>0.0000</td>\n",
              "      <td>2.1800</td>\n",
              "      <td>0</td>\n",
              "      <td>0.4580</td>\n",
              "      <td>...</td>\n",
              "      <td>222</td>\n",
              "      <td>18.7000</td>\n",
              "      <td>396.9000</td>\n",
              "      <td>5.3300</td>\n",
              "      <td>high</td>\n",
              "    </tr>\n",
              "    <tr>\n",
              "      <th>...</th>\n",
              "      <td>...</td>\n",
              "      <td>...</td>\n",
              "      <td>...</td>\n",
              "      <td>...</td>\n",
              "      <td>...</td>\n",
              "      <td>...</td>\n",
              "      <td>...</td>\n",
              "      <td>...</td>\n",
              "      <td>...</td>\n",
              "      <td>...</td>\n",
              "      <td>...</td>\n",
              "    </tr>\n",
              "    <tr>\n",
              "      <th>501</th>\n",
              "      <td>0.0626</td>\n",
              "      <td>0.0000</td>\n",
              "      <td>11.9300</td>\n",
              "      <td>0</td>\n",
              "      <td>0.5730</td>\n",
              "      <td>...</td>\n",
              "      <td>273</td>\n",
              "      <td>21.0000</td>\n",
              "      <td>391.9900</td>\n",
              "      <td>9.6700</td>\n",
              "      <td>low</td>\n",
              "    </tr>\n",
              "    <tr>\n",
              "      <th>502</th>\n",
              "      <td>0.0453</td>\n",
              "      <td>0.0000</td>\n",
              "      <td>11.9300</td>\n",
              "      <td>0</td>\n",
              "      <td>0.5730</td>\n",
              "      <td>...</td>\n",
              "      <td>273</td>\n",
              "      <td>21.0000</td>\n",
              "      <td>396.9000</td>\n",
              "      <td>9.0800</td>\n",
              "      <td>low</td>\n",
              "    </tr>\n",
              "    <tr>\n",
              "      <th>503</th>\n",
              "      <td>0.0608</td>\n",
              "      <td>0.0000</td>\n",
              "      <td>11.9300</td>\n",
              "      <td>0</td>\n",
              "      <td>0.5730</td>\n",
              "      <td>...</td>\n",
              "      <td>273</td>\n",
              "      <td>21.0000</td>\n",
              "      <td>396.9000</td>\n",
              "      <td>5.6400</td>\n",
              "      <td>low</td>\n",
              "    </tr>\n",
              "    <tr>\n",
              "      <th>504</th>\n",
              "      <td>0.1096</td>\n",
              "      <td>0.0000</td>\n",
              "      <td>11.9300</td>\n",
              "      <td>0</td>\n",
              "      <td>0.5730</td>\n",
              "      <td>...</td>\n",
              "      <td>273</td>\n",
              "      <td>21.0000</td>\n",
              "      <td>393.4500</td>\n",
              "      <td>6.4800</td>\n",
              "      <td>low</td>\n",
              "    </tr>\n",
              "    <tr>\n",
              "      <th>505</th>\n",
              "      <td>0.0474</td>\n",
              "      <td>0.0000</td>\n",
              "      <td>11.9300</td>\n",
              "      <td>0</td>\n",
              "      <td>0.5730</td>\n",
              "      <td>...</td>\n",
              "      <td>273</td>\n",
              "      <td>21.0000</td>\n",
              "      <td>396.9000</td>\n",
              "      <td>7.8800</td>\n",
              "      <td>low</td>\n",
              "    </tr>\n",
              "  </tbody>\n",
              "</table>\n",
              "<p>506 rows × 14 columns</p>\n",
              "</div>"
            ],
            "text/plain": [
              "      crim      zn   indus  chas    nox  ...  tax  ptratio        b  lstat  \\\n",
              "0   0.0063 18.0000  2.3100     0 0.5380  ...  296  15.3000 396.9000 4.9800   \n",
              "1   0.0273  0.0000  7.0700     0 0.4690  ...  242  17.8000 396.9000 9.1400   \n",
              "2   0.0273  0.0000  7.0700     0 0.4690  ...  242  17.8000 392.8300 4.0300   \n",
              "3   0.0324  0.0000  2.1800     0 0.4580  ...  222  18.7000 394.6300 2.9400   \n",
              "4   0.0691  0.0000  2.1800     0 0.4580  ...  222  18.7000 396.9000 5.3300   \n",
              "..     ...     ...     ...   ...    ...  ...  ...      ...      ...    ...   \n",
              "501 0.0626  0.0000 11.9300     0 0.5730  ...  273  21.0000 391.9900 9.6700   \n",
              "502 0.0453  0.0000 11.9300     0 0.5730  ...  273  21.0000 396.9000 9.0800   \n",
              "503 0.0608  0.0000 11.9300     0 0.5730  ...  273  21.0000 396.9000 5.6400   \n",
              "504 0.1096  0.0000 11.9300     0 0.5730  ...  273  21.0000 393.4500 6.4800   \n",
              "505 0.0474  0.0000 11.9300     0 0.5730  ...  273  21.0000 396.9000 7.8800   \n",
              "\n",
              "     medv  \n",
              "0     low  \n",
              "1     low  \n",
              "2    high  \n",
              "3    high  \n",
              "4    high  \n",
              "..    ...  \n",
              "501   low  \n",
              "502   low  \n",
              "503   low  \n",
              "504   low  \n",
              "505   low  \n",
              "\n",
              "[506 rows x 14 columns]"
            ]
          },
          "metadata": {
            "tags": []
          },
          "execution_count": 307
        }
      ]
    },
    {
      "cell_type": "code",
      "metadata": {
        "id": "LUwz-Rsfq2nX",
        "colab_type": "code",
        "outputId": "8da2a44c-e46b-45de-9144-5f1fa07fb2b3",
        "colab": {
          "base_uri": "https://localhost:8080/",
          "height": 269
        }
      },
      "source": [
        "#35.How to create a dataframe with rows as strides from a given series?\n",
        "L = pd.Series(range(15))\n",
        "L = np.array([0,1,2,3])\n",
        "#\n",
        "def zad35(L, n):\n",
        "    L2 = L\n",
        "    for i in range(n):\n",
        "        L2 = np.add(L2, 2)\n",
        "        L = np.vstack((L, L2))\n",
        "    return L\n",
        "L = pd.DataFrame(zad35(L, 6))\n",
        "L\n"
      ],
      "execution_count": 308,
      "outputs": [
        {
          "output_type": "execute_result",
          "data": {
            "text/html": [
              "<div>\n",
              "<style scoped>\n",
              "    .dataframe tbody tr th:only-of-type {\n",
              "        vertical-align: middle;\n",
              "    }\n",
              "\n",
              "    .dataframe tbody tr th {\n",
              "        vertical-align: top;\n",
              "    }\n",
              "\n",
              "    .dataframe thead th {\n",
              "        text-align: right;\n",
              "    }\n",
              "</style>\n",
              "<table border=\"1\" class=\"dataframe\">\n",
              "  <thead>\n",
              "    <tr style=\"text-align: right;\">\n",
              "      <th></th>\n",
              "      <th>0</th>\n",
              "      <th>1</th>\n",
              "      <th>2</th>\n",
              "      <th>3</th>\n",
              "    </tr>\n",
              "  </thead>\n",
              "  <tbody>\n",
              "    <tr>\n",
              "      <th>0</th>\n",
              "      <td>0</td>\n",
              "      <td>1</td>\n",
              "      <td>2</td>\n",
              "      <td>3</td>\n",
              "    </tr>\n",
              "    <tr>\n",
              "      <th>1</th>\n",
              "      <td>2</td>\n",
              "      <td>3</td>\n",
              "      <td>4</td>\n",
              "      <td>5</td>\n",
              "    </tr>\n",
              "    <tr>\n",
              "      <th>2</th>\n",
              "      <td>4</td>\n",
              "      <td>5</td>\n",
              "      <td>6</td>\n",
              "      <td>7</td>\n",
              "    </tr>\n",
              "    <tr>\n",
              "      <th>3</th>\n",
              "      <td>6</td>\n",
              "      <td>7</td>\n",
              "      <td>8</td>\n",
              "      <td>9</td>\n",
              "    </tr>\n",
              "    <tr>\n",
              "      <th>4</th>\n",
              "      <td>8</td>\n",
              "      <td>9</td>\n",
              "      <td>10</td>\n",
              "      <td>11</td>\n",
              "    </tr>\n",
              "    <tr>\n",
              "      <th>5</th>\n",
              "      <td>10</td>\n",
              "      <td>11</td>\n",
              "      <td>12</td>\n",
              "      <td>13</td>\n",
              "    </tr>\n",
              "    <tr>\n",
              "      <th>6</th>\n",
              "      <td>12</td>\n",
              "      <td>13</td>\n",
              "      <td>14</td>\n",
              "      <td>15</td>\n",
              "    </tr>\n",
              "  </tbody>\n",
              "</table>\n",
              "</div>"
            ],
            "text/plain": [
              "    0   1   2   3\n",
              "0   0   1   2   3\n",
              "1   2   3   4   5\n",
              "2   4   5   6   7\n",
              "3   6   7   8   9\n",
              "4   8   9  10  11\n",
              "5  10  11  12  13\n",
              "6  12  13  14  15"
            ]
          },
          "metadata": {
            "tags": []
          },
          "execution_count": 308
        }
      ]
    },
    {
      "cell_type": "code",
      "metadata": {
        "id": "9JHY2CMrylND",
        "colab_type": "code",
        "outputId": "aa4a57f1-8b67-4df7-96b0-a8b48cdedb11",
        "colab": {
          "base_uri": "https://localhost:8080/",
          "height": 206
        }
      },
      "source": [
        "# 36. How to import only specified columns from a csv file?\n",
        "df = pd.read_csv('https://raw.githubusercontent.com/selva86/datasets/master/BostonHousing.csv',\n",
        "                 usecols=['medv', 'crim'])\n",
        "df.head()"
      ],
      "execution_count": 309,
      "outputs": [
        {
          "output_type": "execute_result",
          "data": {
            "text/html": [
              "<div>\n",
              "<style scoped>\n",
              "    .dataframe tbody tr th:only-of-type {\n",
              "        vertical-align: middle;\n",
              "    }\n",
              "\n",
              "    .dataframe tbody tr th {\n",
              "        vertical-align: top;\n",
              "    }\n",
              "\n",
              "    .dataframe thead th {\n",
              "        text-align: right;\n",
              "    }\n",
              "</style>\n",
              "<table border=\"1\" class=\"dataframe\">\n",
              "  <thead>\n",
              "    <tr style=\"text-align: right;\">\n",
              "      <th></th>\n",
              "      <th>crim</th>\n",
              "      <th>medv</th>\n",
              "    </tr>\n",
              "  </thead>\n",
              "  <tbody>\n",
              "    <tr>\n",
              "      <th>0</th>\n",
              "      <td>0.0063</td>\n",
              "      <td>24.0000</td>\n",
              "    </tr>\n",
              "    <tr>\n",
              "      <th>1</th>\n",
              "      <td>0.0273</td>\n",
              "      <td>21.6000</td>\n",
              "    </tr>\n",
              "    <tr>\n",
              "      <th>2</th>\n",
              "      <td>0.0273</td>\n",
              "      <td>34.7000</td>\n",
              "    </tr>\n",
              "    <tr>\n",
              "      <th>3</th>\n",
              "      <td>0.0324</td>\n",
              "      <td>33.4000</td>\n",
              "    </tr>\n",
              "    <tr>\n",
              "      <th>4</th>\n",
              "      <td>0.0691</td>\n",
              "      <td>36.2000</td>\n",
              "    </tr>\n",
              "  </tbody>\n",
              "</table>\n",
              "</div>"
            ],
            "text/plain": [
              "    crim    medv\n",
              "0 0.0063 24.0000\n",
              "1 0.0273 21.6000\n",
              "2 0.0273 34.7000\n",
              "3 0.0324 33.4000\n",
              "4 0.0691 36.2000"
            ]
          },
          "metadata": {
            "tags": []
          },
          "execution_count": 309
        }
      ]
    },
    {
      "cell_type": "code",
      "metadata": {
        "id": "jku46MC84ZFB",
        "colab_type": "code",
        "outputId": "aa9f4d45-09c1-4893-9478-3eed9e576b1d",
        "colab": {
          "base_uri": "https://localhost:8080/",
          "height": 347
        }
      },
      "source": [
        "# 37. How to get the nrows, ncolumns, datatype, summary stats of each \n",
        "# column of a dataframe? Also get the array and list equivalent.\n",
        "df = pd.read_csv('https://raw.githubusercontent.com/selva86/datasets/master/Cars93_miss.csv')\n",
        "#  number of rows and columns\n",
        "print(df.shape)\n",
        "# datatypes\n",
        "print(df.dtypes)\n",
        "# how many columns under each dtype\n",
        "print(df.get_dtype_counts())\n",
        "print(df.dtypes.value_counts())\n",
        "# summary statistics\n",
        "df_stats = df.describe()\n",
        "# numpy array \n",
        "df_arr = df.values\n",
        "# list\n",
        "df_list = df.values.tolist()"
      ],
      "execution_count": 310,
      "outputs": [
        {
          "output_type": "stream",
          "text": [
            "(93, 27)\n",
            "Manufacturer       object\n",
            "Model              object\n",
            "Type               object\n",
            "Min.Price         float64\n",
            "Price             float64\n",
            "                   ...   \n",
            "Rear.seat.room    float64\n",
            "Luggage.room      float64\n",
            "Weight            float64\n",
            "Origin             object\n",
            "Make               object\n",
            "Length: 27, dtype: object\n",
            "float64    18\n",
            "object      9\n",
            "dtype: int64\n",
            "float64    18\n",
            "object      9\n",
            "dtype: int64\n"
          ],
          "name": "stdout"
        }
      ]
    },
    {
      "cell_type": "code",
      "metadata": {
        "id": "Ip6dwfCO40sG",
        "colab_type": "code",
        "outputId": "405a091f-69b1-437c-818a-b516e40a7e7e",
        "colab": {
          "base_uri": "https://localhost:8080/",
          "height": 225
        }
      },
      "source": [
        "# 38. How to extract the row and column number of a particular cell with\n",
        "# given criterion?\n",
        "df=pd.read_csv('https://raw.githubusercontent.com/selva86/datasets/master/Cars93_miss.csv')\n",
        "# index\n",
        "df['Price'].idxmax()\n",
        "# value\n",
        "df['Price'][df['Price'].idxmax()]\n",
        "# get row\n",
        "df.iloc[df['Price'].idxmax()]"
      ],
      "execution_count": 311,
      "outputs": [
        {
          "output_type": "execute_result",
          "data": {
            "text/plain": [
              "Manufacturer           Mercedes-Benz\n",
              "Model                           300E\n",
              "Type                         Midsize\n",
              "Min.Price                    43.8000\n",
              "Price                        61.9000\n",
              "                         ...        \n",
              "Rear.seat.room                   NaN\n",
              "Luggage.room                 15.0000\n",
              "Weight                     3525.0000\n",
              "Origin                       non-USA\n",
              "Make              Mercedes-Benz 300E\n",
              "Name: 58, Length: 27, dtype: object"
            ]
          },
          "metadata": {
            "tags": []
          },
          "execution_count": 311
        }
      ]
    },
    {
      "cell_type": "code",
      "metadata": {
        "id": "h9R_b7xX9xbV",
        "colab_type": "code",
        "outputId": "5305f62d-2f44-4f6d-b5f6-813083b5007a",
        "colab": {
          "base_uri": "https://localhost:8080/",
          "height": 235
        }
      },
      "source": [
        "# 39. How to rename a specific columns in a dataframe?\n",
        "# Rename the column Type as CarType in df and replace \n",
        "# the ‘.’ in column names with ‘_’.\n",
        "df = pd.read_csv('https://raw.githubusercontent.com/selva86/datasets/master/Cars93_miss.csv')\n",
        "# Rename the column Type as CarType in df\n",
        "df = df.rename(columns={\"Type\": \"CarType\"})\n",
        "# replace the ‘.’ in column names with ‘_’. \n",
        "names =  df.columns.values.tolist()\n",
        "namess  = [n.replace('.', '_') for n in names]\n",
        "df.columns = namess\n",
        "df.head(5)"
      ],
      "execution_count": 312,
      "outputs": [
        {
          "output_type": "execute_result",
          "data": {
            "text/html": [
              "<div>\n",
              "<style scoped>\n",
              "    .dataframe tbody tr th:only-of-type {\n",
              "        vertical-align: middle;\n",
              "    }\n",
              "\n",
              "    .dataframe tbody tr th {\n",
              "        vertical-align: top;\n",
              "    }\n",
              "\n",
              "    .dataframe thead th {\n",
              "        text-align: right;\n",
              "    }\n",
              "</style>\n",
              "<table border=\"1\" class=\"dataframe\">\n",
              "  <thead>\n",
              "    <tr style=\"text-align: right;\">\n",
              "      <th></th>\n",
              "      <th>Manufacturer</th>\n",
              "      <th>Model</th>\n",
              "      <th>CarType</th>\n",
              "      <th>Min_Price</th>\n",
              "      <th>Price</th>\n",
              "      <th>...</th>\n",
              "      <th>Rear_seat_room</th>\n",
              "      <th>Luggage_room</th>\n",
              "      <th>Weight</th>\n",
              "      <th>Origin</th>\n",
              "      <th>Make</th>\n",
              "    </tr>\n",
              "  </thead>\n",
              "  <tbody>\n",
              "    <tr>\n",
              "      <th>0</th>\n",
              "      <td>Acura</td>\n",
              "      <td>Integra</td>\n",
              "      <td>Small</td>\n",
              "      <td>12.9000</td>\n",
              "      <td>15.9000</td>\n",
              "      <td>...</td>\n",
              "      <td>26.5000</td>\n",
              "      <td>nan</td>\n",
              "      <td>2705.0000</td>\n",
              "      <td>non-USA</td>\n",
              "      <td>Acura Integra</td>\n",
              "    </tr>\n",
              "    <tr>\n",
              "      <th>1</th>\n",
              "      <td>NaN</td>\n",
              "      <td>Legend</td>\n",
              "      <td>Midsize</td>\n",
              "      <td>29.2000</td>\n",
              "      <td>33.9000</td>\n",
              "      <td>...</td>\n",
              "      <td>30.0000</td>\n",
              "      <td>15.0000</td>\n",
              "      <td>3560.0000</td>\n",
              "      <td>non-USA</td>\n",
              "      <td>Acura Legend</td>\n",
              "    </tr>\n",
              "    <tr>\n",
              "      <th>2</th>\n",
              "      <td>Audi</td>\n",
              "      <td>90</td>\n",
              "      <td>Compact</td>\n",
              "      <td>25.9000</td>\n",
              "      <td>29.1000</td>\n",
              "      <td>...</td>\n",
              "      <td>28.0000</td>\n",
              "      <td>14.0000</td>\n",
              "      <td>3375.0000</td>\n",
              "      <td>non-USA</td>\n",
              "      <td>Audi 90</td>\n",
              "    </tr>\n",
              "    <tr>\n",
              "      <th>3</th>\n",
              "      <td>Audi</td>\n",
              "      <td>100</td>\n",
              "      <td>Midsize</td>\n",
              "      <td>nan</td>\n",
              "      <td>37.7000</td>\n",
              "      <td>...</td>\n",
              "      <td>31.0000</td>\n",
              "      <td>17.0000</td>\n",
              "      <td>3405.0000</td>\n",
              "      <td>non-USA</td>\n",
              "      <td>Audi 100</td>\n",
              "    </tr>\n",
              "    <tr>\n",
              "      <th>4</th>\n",
              "      <td>BMW</td>\n",
              "      <td>535i</td>\n",
              "      <td>Midsize</td>\n",
              "      <td>nan</td>\n",
              "      <td>30.0000</td>\n",
              "      <td>...</td>\n",
              "      <td>27.0000</td>\n",
              "      <td>13.0000</td>\n",
              "      <td>3640.0000</td>\n",
              "      <td>non-USA</td>\n",
              "      <td>BMW 535i</td>\n",
              "    </tr>\n",
              "  </tbody>\n",
              "</table>\n",
              "<p>5 rows × 27 columns</p>\n",
              "</div>"
            ],
            "text/plain": [
              "  Manufacturer    Model  CarType  Min_Price   Price  ...  Rear_seat_room  \\\n",
              "0        Acura  Integra    Small    12.9000 15.9000  ...         26.5000   \n",
              "1          NaN   Legend  Midsize    29.2000 33.9000  ...         30.0000   \n",
              "2         Audi       90  Compact    25.9000 29.1000  ...         28.0000   \n",
              "3         Audi      100  Midsize        nan 37.7000  ...         31.0000   \n",
              "4          BMW     535i  Midsize        nan 30.0000  ...         27.0000   \n",
              "\n",
              "   Luggage_room    Weight   Origin           Make  \n",
              "0           nan 2705.0000  non-USA  Acura Integra  \n",
              "1       15.0000 3560.0000  non-USA   Acura Legend  \n",
              "2       14.0000 3375.0000  non-USA        Audi 90  \n",
              "3       17.0000 3405.0000  non-USA       Audi 100  \n",
              "4       13.0000 3640.0000  non-USA       BMW 535i  \n",
              "\n",
              "[5 rows x 27 columns]"
            ]
          },
          "metadata": {
            "tags": []
          },
          "execution_count": 312
        }
      ]
    },
    {
      "cell_type": "code",
      "metadata": {
        "id": "ZAiHiNBVBf0b",
        "colab_type": "code",
        "outputId": "b84335e9-5df7-4134-c77c-d8373bc9ca7a",
        "colab": {
          "base_uri": "https://localhost:8080/",
          "height": 34
        }
      },
      "source": [
        "# 40. How to check if a dataframe has any missing values?\n",
        "# Check if df has any missing values.\n",
        "df = pd.read_csv('https://raw.githubusercontent.com/selva86/datasets/master/Cars93_miss.csv')\n",
        "df.isnull().values.any()"
      ],
      "execution_count": 313,
      "outputs": [
        {
          "output_type": "execute_result",
          "data": {
            "text/plain": [
              "True"
            ]
          },
          "metadata": {
            "tags": []
          },
          "execution_count": 313
        }
      ]
    },
    {
      "cell_type": "code",
      "metadata": {
        "id": "6OydEggGEFX0",
        "colab_type": "code",
        "outputId": "a9a7e3b5-96e2-4351-e45a-ebb8701a062d",
        "colab": {
          "base_uri": "https://localhost:8080/",
          "height": 34
        }
      },
      "source": [
        "# 41. How to count the number of missing values in each column?\n",
        "# Count the number of missing values in each column of df. \n",
        "# Which column has the maximum number of missing values?\n",
        "df = pd.read_csv('https://raw.githubusercontent.com/selva86/datasets/master/Cars93_miss.csv')\n",
        "# df.columns.values.tolist()\n",
        "df.isna().sum().idxmax()"
      ],
      "execution_count": 314,
      "outputs": [
        {
          "output_type": "execute_result",
          "data": {
            "text/plain": [
              "'Luggage.room'"
            ]
          },
          "metadata": {
            "tags": []
          },
          "execution_count": 314
        }
      ]
    },
    {
      "cell_type": "code",
      "metadata": {
        "id": "ONZccqfpUER9",
        "colab_type": "code",
        "colab": {}
      },
      "source": [
        "# 42. How to replace missing values of multiple numeric \n",
        "# columns with the mean?\n",
        "# Replace missing values in Min.Price and Max.Price columns with\n",
        "# their respective mean.\n",
        "df=pd.read_csv('https://raw.githubusercontent.com/selva86/datasets/master/Cars93_miss.csv')\n",
        "df['Min.Price']=df['Min.Price'].fillna(df['Min.Price'].mean())\n",
        "df['Max.Price']=df['Max.Price'].fillna(df['Max.Price'].mean())\n"
      ],
      "execution_count": 0,
      "outputs": []
    },
    {
      "cell_type": "code",
      "metadata": {
        "id": "pIqlvCI6ZfuU",
        "colab_type": "code",
        "colab": {}
      },
      "source": [
        "# 43. How to use apply function on existing columns with global variables\n",
        "# as additional arguments?\n",
        "# In df, use apply method to replace the missing values in Min.Price with\n",
        "# the column’s mean and those in Max.Price with the column’s median\n",
        "df=pd.read_csv('https://raw.githubusercontent.com/selva86/datasets/master/Cars93_miss.csv')\n",
        "df['Min.Price']=df['Min.Price'].fillna(df.mean())\n",
        "df['Max.Price']=df['Max.Price'].fillna(df['Max.Price'].median())"
      ],
      "execution_count": 0,
      "outputs": []
    },
    {
      "cell_type": "code",
      "metadata": {
        "id": "LscxYzlEaFS4",
        "colab_type": "code",
        "outputId": "1c0d44b1-77f7-4711-e71f-768eb1b6606e",
        "colab": {
          "base_uri": "https://localhost:8080/",
          "height": 104
        }
      },
      "source": [
        "# 44. How to select a specific column from a dataframe as a dataframe \n",
        "# instead of a series?\n",
        "# Get the first column (a) in df as a dataframe \n",
        "# (rather than as a Series).\n",
        "df = pd.DataFrame(np.arange(20).reshape(-1, 5), columns=list('abcde'))\n",
        "df['a']"
      ],
      "execution_count": 317,
      "outputs": [
        {
          "output_type": "execute_result",
          "data": {
            "text/plain": [
              "0     0\n",
              "1     5\n",
              "2    10\n",
              "3    15\n",
              "Name: a, dtype: int64"
            ]
          },
          "metadata": {
            "tags": []
          },
          "execution_count": 317
        }
      ]
    },
    {
      "cell_type": "code",
      "metadata": {
        "id": "nwx3Zz1heGPO",
        "colab_type": "code",
        "outputId": "76467795-3f68-447a-dc82-790873b4bc18",
        "colab": {
          "base_uri": "https://localhost:8080/",
          "height": 34
        }
      },
      "source": [
        "# 45. How to change the order of columns of a dataframe?\n",
        "# In df, interchange columns 'a' and 'c'.\n",
        "# Create a generic function to interchange two columns,\n",
        "# without hardcoding column names.\n",
        "# Sort the columns in reverse alphabetical order,\n",
        "# that is colume 'e' first through column 'a' last\n",
        "df = pd.DataFrame(np.arange(20).reshape(-1, 5), columns=list('abcde'))\n",
        "# interchange columns 'a' and 'c'\n",
        "names =  df.columns.values.tolist()\n",
        "names[0], names[2] = names[2], names[0]\n",
        "df.columns = names\n",
        "# Create a generic function to interchange two columns\n",
        "def swap_col_names(df, i, j):\n",
        "    names =  df.columns.values.tolist()\n",
        "    names[i], names[j] = names[j], names[i]\n",
        "    df.columns = names\n",
        "    return df\n",
        "df = swap_col_names(df, 2, 0)\n",
        "# Sort the columns in reverse alphabetical order,\n",
        "# that is colume 'e' first through column 'a' last\n",
        "names =  df.columns.values.tolist()\n",
        "names.reverse()\n",
        "names"
      ],
      "execution_count": 318,
      "outputs": [
        {
          "output_type": "execute_result",
          "data": {
            "text/plain": [
              "['e', 'd', 'c', 'b', 'a']"
            ]
          },
          "metadata": {
            "tags": []
          },
          "execution_count": 318
        }
      ]
    },
    {
      "cell_type": "code",
      "metadata": {
        "id": "IuOsY2MHhxUR",
        "colab_type": "code",
        "outputId": "156d404c-f057-4b92-ec38-6993ea0b5ea9",
        "colab": {
          "base_uri": "https://localhost:8080/",
          "height": 424
        }
      },
      "source": [
        "# 46. How to set the number of rows and columns displayed in the output?\n",
        "# Change the pamdas display settings on printing the dataframe df it shows\n",
        "# a maximum of 10 rows and 10 columns.\n",
        "df = pd.read_csv('https://raw.githubusercontent.com/selva86/datasets/master/Cars93_miss.csv')\n",
        "pd.options.display.max_rows = 10\n",
        "pd.options.display.max_columns =10\n",
        "df"
      ],
      "execution_count": 319,
      "outputs": [
        {
          "output_type": "execute_result",
          "data": {
            "text/html": [
              "<div>\n",
              "<style scoped>\n",
              "    .dataframe tbody tr th:only-of-type {\n",
              "        vertical-align: middle;\n",
              "    }\n",
              "\n",
              "    .dataframe tbody tr th {\n",
              "        vertical-align: top;\n",
              "    }\n",
              "\n",
              "    .dataframe thead th {\n",
              "        text-align: right;\n",
              "    }\n",
              "</style>\n",
              "<table border=\"1\" class=\"dataframe\">\n",
              "  <thead>\n",
              "    <tr style=\"text-align: right;\">\n",
              "      <th></th>\n",
              "      <th>Manufacturer</th>\n",
              "      <th>Model</th>\n",
              "      <th>Type</th>\n",
              "      <th>Min.Price</th>\n",
              "      <th>Price</th>\n",
              "      <th>...</th>\n",
              "      <th>Rear.seat.room</th>\n",
              "      <th>Luggage.room</th>\n",
              "      <th>Weight</th>\n",
              "      <th>Origin</th>\n",
              "      <th>Make</th>\n",
              "    </tr>\n",
              "  </thead>\n",
              "  <tbody>\n",
              "    <tr>\n",
              "      <th>0</th>\n",
              "      <td>Acura</td>\n",
              "      <td>Integra</td>\n",
              "      <td>Small</td>\n",
              "      <td>12.9000</td>\n",
              "      <td>15.9000</td>\n",
              "      <td>...</td>\n",
              "      <td>26.5000</td>\n",
              "      <td>nan</td>\n",
              "      <td>2705.0000</td>\n",
              "      <td>non-USA</td>\n",
              "      <td>Acura Integra</td>\n",
              "    </tr>\n",
              "    <tr>\n",
              "      <th>1</th>\n",
              "      <td>NaN</td>\n",
              "      <td>Legend</td>\n",
              "      <td>Midsize</td>\n",
              "      <td>29.2000</td>\n",
              "      <td>33.9000</td>\n",
              "      <td>...</td>\n",
              "      <td>30.0000</td>\n",
              "      <td>15.0000</td>\n",
              "      <td>3560.0000</td>\n",
              "      <td>non-USA</td>\n",
              "      <td>Acura Legend</td>\n",
              "    </tr>\n",
              "    <tr>\n",
              "      <th>2</th>\n",
              "      <td>Audi</td>\n",
              "      <td>90</td>\n",
              "      <td>Compact</td>\n",
              "      <td>25.9000</td>\n",
              "      <td>29.1000</td>\n",
              "      <td>...</td>\n",
              "      <td>28.0000</td>\n",
              "      <td>14.0000</td>\n",
              "      <td>3375.0000</td>\n",
              "      <td>non-USA</td>\n",
              "      <td>Audi 90</td>\n",
              "    </tr>\n",
              "    <tr>\n",
              "      <th>3</th>\n",
              "      <td>Audi</td>\n",
              "      <td>100</td>\n",
              "      <td>Midsize</td>\n",
              "      <td>nan</td>\n",
              "      <td>37.7000</td>\n",
              "      <td>...</td>\n",
              "      <td>31.0000</td>\n",
              "      <td>17.0000</td>\n",
              "      <td>3405.0000</td>\n",
              "      <td>non-USA</td>\n",
              "      <td>Audi 100</td>\n",
              "    </tr>\n",
              "    <tr>\n",
              "      <th>4</th>\n",
              "      <td>BMW</td>\n",
              "      <td>535i</td>\n",
              "      <td>Midsize</td>\n",
              "      <td>nan</td>\n",
              "      <td>30.0000</td>\n",
              "      <td>...</td>\n",
              "      <td>27.0000</td>\n",
              "      <td>13.0000</td>\n",
              "      <td>3640.0000</td>\n",
              "      <td>non-USA</td>\n",
              "      <td>BMW 535i</td>\n",
              "    </tr>\n",
              "    <tr>\n",
              "      <th>...</th>\n",
              "      <td>...</td>\n",
              "      <td>...</td>\n",
              "      <td>...</td>\n",
              "      <td>...</td>\n",
              "      <td>...</td>\n",
              "      <td>...</td>\n",
              "      <td>...</td>\n",
              "      <td>...</td>\n",
              "      <td>...</td>\n",
              "      <td>...</td>\n",
              "      <td>...</td>\n",
              "    </tr>\n",
              "    <tr>\n",
              "      <th>88</th>\n",
              "      <td>Volkswagen</td>\n",
              "      <td>Eurovan</td>\n",
              "      <td>Van</td>\n",
              "      <td>16.6000</td>\n",
              "      <td>19.7000</td>\n",
              "      <td>...</td>\n",
              "      <td>34.0000</td>\n",
              "      <td>nan</td>\n",
              "      <td>3960.0000</td>\n",
              "      <td>NaN</td>\n",
              "      <td>Volkswagen Eurovan</td>\n",
              "    </tr>\n",
              "    <tr>\n",
              "      <th>89</th>\n",
              "      <td>Volkswagen</td>\n",
              "      <td>Passat</td>\n",
              "      <td>Compact</td>\n",
              "      <td>17.6000</td>\n",
              "      <td>20.0000</td>\n",
              "      <td>...</td>\n",
              "      <td>31.5000</td>\n",
              "      <td>14.0000</td>\n",
              "      <td>2985.0000</td>\n",
              "      <td>non-USA</td>\n",
              "      <td>Volkswagen Passat</td>\n",
              "    </tr>\n",
              "    <tr>\n",
              "      <th>90</th>\n",
              "      <td>Volkswagen</td>\n",
              "      <td>Corrado</td>\n",
              "      <td>Sporty</td>\n",
              "      <td>22.9000</td>\n",
              "      <td>23.3000</td>\n",
              "      <td>...</td>\n",
              "      <td>26.0000</td>\n",
              "      <td>15.0000</td>\n",
              "      <td>2810.0000</td>\n",
              "      <td>non-USA</td>\n",
              "      <td>Volkswagen Corrado</td>\n",
              "    </tr>\n",
              "    <tr>\n",
              "      <th>91</th>\n",
              "      <td>Volvo</td>\n",
              "      <td>240</td>\n",
              "      <td>Compact</td>\n",
              "      <td>21.8000</td>\n",
              "      <td>22.7000</td>\n",
              "      <td>...</td>\n",
              "      <td>29.5000</td>\n",
              "      <td>14.0000</td>\n",
              "      <td>2985.0000</td>\n",
              "      <td>non-USA</td>\n",
              "      <td>Volvo 240</td>\n",
              "    </tr>\n",
              "    <tr>\n",
              "      <th>92</th>\n",
              "      <td>NaN</td>\n",
              "      <td>850</td>\n",
              "      <td>Midsize</td>\n",
              "      <td>24.8000</td>\n",
              "      <td>26.7000</td>\n",
              "      <td>...</td>\n",
              "      <td>30.0000</td>\n",
              "      <td>15.0000</td>\n",
              "      <td>3245.0000</td>\n",
              "      <td>non-USA</td>\n",
              "      <td>Volvo 850</td>\n",
              "    </tr>\n",
              "  </tbody>\n",
              "</table>\n",
              "<p>93 rows × 27 columns</p>\n",
              "</div>"
            ],
            "text/plain": [
              "   Manufacturer    Model     Type  Min.Price   Price  ...  Rear.seat.room  \\\n",
              "0         Acura  Integra    Small    12.9000 15.9000  ...         26.5000   \n",
              "1           NaN   Legend  Midsize    29.2000 33.9000  ...         30.0000   \n",
              "2          Audi       90  Compact    25.9000 29.1000  ...         28.0000   \n",
              "3          Audi      100  Midsize        nan 37.7000  ...         31.0000   \n",
              "4           BMW     535i  Midsize        nan 30.0000  ...         27.0000   \n",
              "..          ...      ...      ...        ...     ...  ...             ...   \n",
              "88   Volkswagen  Eurovan      Van    16.6000 19.7000  ...         34.0000   \n",
              "89   Volkswagen   Passat  Compact    17.6000 20.0000  ...         31.5000   \n",
              "90   Volkswagen  Corrado   Sporty    22.9000 23.3000  ...         26.0000   \n",
              "91        Volvo      240  Compact    21.8000 22.7000  ...         29.5000   \n",
              "92          NaN      850  Midsize    24.8000 26.7000  ...         30.0000   \n",
              "\n",
              "    Luggage.room    Weight   Origin                Make  \n",
              "0            nan 2705.0000  non-USA       Acura Integra  \n",
              "1        15.0000 3560.0000  non-USA        Acura Legend  \n",
              "2        14.0000 3375.0000  non-USA             Audi 90  \n",
              "3        17.0000 3405.0000  non-USA            Audi 100  \n",
              "4        13.0000 3640.0000  non-USA            BMW 535i  \n",
              "..           ...       ...      ...                 ...  \n",
              "88           nan 3960.0000      NaN  Volkswagen Eurovan  \n",
              "89       14.0000 2985.0000  non-USA   Volkswagen Passat  \n",
              "90       15.0000 2810.0000  non-USA  Volkswagen Corrado  \n",
              "91       14.0000 2985.0000  non-USA           Volvo 240  \n",
              "92       15.0000 3245.0000  non-USA           Volvo 850  \n",
              "\n",
              "[93 rows x 27 columns]"
            ]
          },
          "metadata": {
            "tags": []
          },
          "execution_count": 319
        }
      ]
    },
    {
      "cell_type": "code",
      "metadata": {
        "id": "ADJj6QT6gnvQ",
        "colab_type": "code",
        "outputId": "06ca058f-87f0-44cb-da7a-ab261ab0a192",
        "colab": {
          "base_uri": "https://localhost:8080/",
          "height": 175
        }
      },
      "source": [
        "# 47. How to format or suppress scientific notations in a pandas dataframe?\n",
        "# suppress scientific notations like ‘e-03’ in df and print upto 4 numbers \n",
        "# after decimal.\n",
        "df = pd.DataFrame(np.random.random(4)**10, columns=['random'])\n",
        "pd.options.display.float_format = '{:.4f}'.format\n",
        "df"
      ],
      "execution_count": 320,
      "outputs": [
        {
          "output_type": "execute_result",
          "data": {
            "text/html": [
              "<div>\n",
              "<style scoped>\n",
              "    .dataframe tbody tr th:only-of-type {\n",
              "        vertical-align: middle;\n",
              "    }\n",
              "\n",
              "    .dataframe tbody tr th {\n",
              "        vertical-align: top;\n",
              "    }\n",
              "\n",
              "    .dataframe thead th {\n",
              "        text-align: right;\n",
              "    }\n",
              "</style>\n",
              "<table border=\"1\" class=\"dataframe\">\n",
              "  <thead>\n",
              "    <tr style=\"text-align: right;\">\n",
              "      <th></th>\n",
              "      <th>random</th>\n",
              "    </tr>\n",
              "  </thead>\n",
              "  <tbody>\n",
              "    <tr>\n",
              "      <th>0</th>\n",
              "      <td>0.0000</td>\n",
              "    </tr>\n",
              "    <tr>\n",
              "      <th>1</th>\n",
              "      <td>0.0000</td>\n",
              "    </tr>\n",
              "    <tr>\n",
              "      <th>2</th>\n",
              "      <td>0.1017</td>\n",
              "    </tr>\n",
              "    <tr>\n",
              "      <th>3</th>\n",
              "      <td>0.0000</td>\n",
              "    </tr>\n",
              "  </tbody>\n",
              "</table>\n",
              "</div>"
            ],
            "text/plain": [
              "   random\n",
              "0  0.0000\n",
              "1  0.0000\n",
              "2  0.1017\n",
              "3  0.0000"
            ]
          },
          "metadata": {
            "tags": []
          },
          "execution_count": 320
        }
      ]
    },
    {
      "cell_type": "code",
      "metadata": {
        "id": "9kL0ka6hhITm",
        "colab_type": "code",
        "outputId": "44a8d06c-b215-4dae-8f71-57e5ef5f169c",
        "colab": {
          "base_uri": "https://localhost:8080/",
          "height": 175
        }
      },
      "source": [
        "# 48. How to format all the values in a dataframe as percentages?\n",
        "# Format the values in column 'random' of df as percentages.\n",
        "df = pd.DataFrame(np.random.random(4), columns=['random'])\n",
        "df['random'] = pd.Series([\"{0:.2f}%\".format(val * 100) for val in df['random']], index = df.index)\n",
        "df"
      ],
      "execution_count": 321,
      "outputs": [
        {
          "output_type": "execute_result",
          "data": {
            "text/html": [
              "<div>\n",
              "<style scoped>\n",
              "    .dataframe tbody tr th:only-of-type {\n",
              "        vertical-align: middle;\n",
              "    }\n",
              "\n",
              "    .dataframe tbody tr th {\n",
              "        vertical-align: top;\n",
              "    }\n",
              "\n",
              "    .dataframe thead th {\n",
              "        text-align: right;\n",
              "    }\n",
              "</style>\n",
              "<table border=\"1\" class=\"dataframe\">\n",
              "  <thead>\n",
              "    <tr style=\"text-align: right;\">\n",
              "      <th></th>\n",
              "      <th>random</th>\n",
              "    </tr>\n",
              "  </thead>\n",
              "  <tbody>\n",
              "    <tr>\n",
              "      <th>0</th>\n",
              "      <td>59.88%</td>\n",
              "    </tr>\n",
              "    <tr>\n",
              "      <th>1</th>\n",
              "      <td>60.38%</td>\n",
              "    </tr>\n",
              "    <tr>\n",
              "      <th>2</th>\n",
              "      <td>10.51%</td>\n",
              "    </tr>\n",
              "    <tr>\n",
              "      <th>3</th>\n",
              "      <td>38.19%</td>\n",
              "    </tr>\n",
              "  </tbody>\n",
              "</table>\n",
              "</div>"
            ],
            "text/plain": [
              "   random\n",
              "0  59.88%\n",
              "1  60.38%\n",
              "2  10.51%\n",
              "3  38.19%"
            ]
          },
          "metadata": {
            "tags": []
          },
          "execution_count": 321
        }
      ]
    },
    {
      "cell_type": "code",
      "metadata": {
        "id": "GLbDzXXukaC6",
        "colab_type": "code",
        "outputId": "fa6554c6-0db0-49b1-dc06-7dd8e69e47ee",
        "colab": {
          "base_uri": "https://localhost:8080/",
          "height": 424
        }
      },
      "source": [
        "# 50. How to create a primary key index by combining relevant columns?\n",
        "# In df, Replace NaNs with ‘missing’ in columns 'Manufacturer', 'Model' and\n",
        "# 'Type' and create a index as a combination of these three columns and\n",
        "# check if the index is a primary key.\n",
        "df = pd.read_csv('https://raw.githubusercontent.com/selva86/datasets/master/Cars93_miss.csv',\n",
        "                 usecols=[0,1,2,3,5])\n",
        "df = df.fillna('missing')\n",
        "df['dupa'] = df.apply(lambda row: str(row['Manufacturer']+row['Model']), axis=1)\n",
        "df\n"
      ],
      "execution_count": 322,
      "outputs": [
        {
          "output_type": "execute_result",
          "data": {
            "text/html": [
              "<div>\n",
              "<style scoped>\n",
              "    .dataframe tbody tr th:only-of-type {\n",
              "        vertical-align: middle;\n",
              "    }\n",
              "\n",
              "    .dataframe tbody tr th {\n",
              "        vertical-align: top;\n",
              "    }\n",
              "\n",
              "    .dataframe thead th {\n",
              "        text-align: right;\n",
              "    }\n",
              "</style>\n",
              "<table border=\"1\" class=\"dataframe\">\n",
              "  <thead>\n",
              "    <tr style=\"text-align: right;\">\n",
              "      <th></th>\n",
              "      <th>Manufacturer</th>\n",
              "      <th>Model</th>\n",
              "      <th>Type</th>\n",
              "      <th>Min.Price</th>\n",
              "      <th>Max.Price</th>\n",
              "      <th>dupa</th>\n",
              "    </tr>\n",
              "  </thead>\n",
              "  <tbody>\n",
              "    <tr>\n",
              "      <th>0</th>\n",
              "      <td>Acura</td>\n",
              "      <td>Integra</td>\n",
              "      <td>Small</td>\n",
              "      <td>12.9000</td>\n",
              "      <td>18.8000</td>\n",
              "      <td>AcuraIntegra</td>\n",
              "    </tr>\n",
              "    <tr>\n",
              "      <th>1</th>\n",
              "      <td>missing</td>\n",
              "      <td>Legend</td>\n",
              "      <td>Midsize</td>\n",
              "      <td>29.2000</td>\n",
              "      <td>38.7000</td>\n",
              "      <td>missingLegend</td>\n",
              "    </tr>\n",
              "    <tr>\n",
              "      <th>2</th>\n",
              "      <td>Audi</td>\n",
              "      <td>90</td>\n",
              "      <td>Compact</td>\n",
              "      <td>25.9000</td>\n",
              "      <td>32.3000</td>\n",
              "      <td>Audi90</td>\n",
              "    </tr>\n",
              "    <tr>\n",
              "      <th>3</th>\n",
              "      <td>Audi</td>\n",
              "      <td>100</td>\n",
              "      <td>Midsize</td>\n",
              "      <td>missing</td>\n",
              "      <td>44.6000</td>\n",
              "      <td>Audi100</td>\n",
              "    </tr>\n",
              "    <tr>\n",
              "      <th>4</th>\n",
              "      <td>BMW</td>\n",
              "      <td>535i</td>\n",
              "      <td>Midsize</td>\n",
              "      <td>missing</td>\n",
              "      <td>missing</td>\n",
              "      <td>BMW535i</td>\n",
              "    </tr>\n",
              "    <tr>\n",
              "      <th>...</th>\n",
              "      <td>...</td>\n",
              "      <td>...</td>\n",
              "      <td>...</td>\n",
              "      <td>...</td>\n",
              "      <td>...</td>\n",
              "      <td>...</td>\n",
              "    </tr>\n",
              "    <tr>\n",
              "      <th>88</th>\n",
              "      <td>Volkswagen</td>\n",
              "      <td>Eurovan</td>\n",
              "      <td>Van</td>\n",
              "      <td>16.6000</td>\n",
              "      <td>22.7000</td>\n",
              "      <td>VolkswagenEurovan</td>\n",
              "    </tr>\n",
              "    <tr>\n",
              "      <th>89</th>\n",
              "      <td>Volkswagen</td>\n",
              "      <td>Passat</td>\n",
              "      <td>Compact</td>\n",
              "      <td>17.6000</td>\n",
              "      <td>22.4000</td>\n",
              "      <td>VolkswagenPassat</td>\n",
              "    </tr>\n",
              "    <tr>\n",
              "      <th>90</th>\n",
              "      <td>Volkswagen</td>\n",
              "      <td>Corrado</td>\n",
              "      <td>Sporty</td>\n",
              "      <td>22.9000</td>\n",
              "      <td>23.7000</td>\n",
              "      <td>VolkswagenCorrado</td>\n",
              "    </tr>\n",
              "    <tr>\n",
              "      <th>91</th>\n",
              "      <td>Volvo</td>\n",
              "      <td>240</td>\n",
              "      <td>Compact</td>\n",
              "      <td>21.8000</td>\n",
              "      <td>23.5000</td>\n",
              "      <td>Volvo240</td>\n",
              "    </tr>\n",
              "    <tr>\n",
              "      <th>92</th>\n",
              "      <td>missing</td>\n",
              "      <td>850</td>\n",
              "      <td>Midsize</td>\n",
              "      <td>24.8000</td>\n",
              "      <td>28.5000</td>\n",
              "      <td>missing850</td>\n",
              "    </tr>\n",
              "  </tbody>\n",
              "</table>\n",
              "<p>93 rows × 6 columns</p>\n",
              "</div>"
            ],
            "text/plain": [
              "   Manufacturer    Model     Type Min.Price Max.Price               dupa\n",
              "0         Acura  Integra    Small   12.9000   18.8000       AcuraIntegra\n",
              "1       missing   Legend  Midsize   29.2000   38.7000      missingLegend\n",
              "2          Audi       90  Compact   25.9000   32.3000             Audi90\n",
              "3          Audi      100  Midsize   missing   44.6000            Audi100\n",
              "4           BMW     535i  Midsize   missing   missing            BMW535i\n",
              "..          ...      ...      ...       ...       ...                ...\n",
              "88   Volkswagen  Eurovan      Van   16.6000   22.7000  VolkswagenEurovan\n",
              "89   Volkswagen   Passat  Compact   17.6000   22.4000   VolkswagenPassat\n",
              "90   Volkswagen  Corrado   Sporty   22.9000   23.7000  VolkswagenCorrado\n",
              "91        Volvo      240  Compact   21.8000   23.5000           Volvo240\n",
              "92      missing      850  Midsize   24.8000   28.5000         missing850\n",
              "\n",
              "[93 rows x 6 columns]"
            ]
          },
          "metadata": {
            "tags": []
          },
          "execution_count": 322
        }
      ]
    },
    {
      "cell_type": "code",
      "metadata": {
        "id": "lkQNQ1Z4ypMn",
        "colab_type": "code",
        "outputId": "548ae4f6-0bec-4864-8485-fa6cd24e6f31",
        "colab": {
          "base_uri": "https://localhost:8080/",
          "height": 225
        }
      },
      "source": [
        "# 51. How to get the row number of the nth largest value in a column?\n",
        "# Find the row position of the 5th largest value of column 'a' in df.\n",
        "df = pd.DataFrame(np.random.randint(1, 30, 30).reshape(10,-1),\n",
        "                  columns=list('abc'))\n",
        "a =  df['a'].idxmax()\n",
        "print(df)\n",
        "print(a)"
      ],
      "execution_count": 323,
      "outputs": [
        {
          "output_type": "stream",
          "text": [
            "    a   b   c\n",
            "0   8  14   7\n",
            "1  13  19   1\n",
            "2  25   3  22\n",
            "3  11  18   9\n",
            "4  14  11  18\n",
            "5  22   5  19\n",
            "6   9  28  28\n",
            "7  20  22  15\n",
            "8   1  14  26\n",
            "9  13  11   4\n",
            "2\n"
          ],
          "name": "stdout"
        }
      ]
    },
    {
      "cell_type": "code",
      "metadata": {
        "id": "GOp91iYmLTXk",
        "colab_type": "code",
        "outputId": "89e7fc66-4389-4103-a229-d308d48f6695",
        "colab": {
          "base_uri": "https://localhost:8080/",
          "height": 72
        }
      },
      "source": [
        "# 52. How to find the position of the nth largest value greater than a \n",
        "# given value?\n",
        "# In ser, find the position of the 2nd largest value\n",
        "# greater than the mean.\n",
        "#method1 fast\n",
        "a= pd.Series(np.random.randint(1, 100, 15))\n",
        "b= np.argwhere(a > a.mean())[1]\n",
        "#method 2\n",
        "a = pd.Series(np.random.randint(1, 100, 15))\n",
        "s = a.mean()\n",
        "b = a[a > s]\n",
        "b = b.sort_values()\n",
        "b = b.index[1]\n"
      ],
      "execution_count": 324,
      "outputs": [
        {
          "output_type": "stream",
          "text": [
            "/usr/local/lib/python3.6/dist-packages/numpy/core/fromnumeric.py:56: FutureWarning: Series.nonzero() is deprecated and will be removed in a future version.Use Series.to_numpy().nonzero() instead\n",
            "  return getattr(obj, method)(*args, **kwds)\n"
          ],
          "name": "stderr"
        }
      ]
    },
    {
      "cell_type": "code",
      "metadata": {
        "id": "ixEACJtAL6BN",
        "colab_type": "code",
        "outputId": "74770b34-277d-4465-94c4-728b591d220c",
        "colab": {
          "base_uri": "https://localhost:8080/",
          "height": 34
        }
      },
      "source": [
        "# 53. How to get the last n rows of a dataframe with row sum > 100?\n",
        "# Get the last two rows of df whose row sum is greater than 100.\n",
        "df = pd.DataFrame(np.random.randint(10, 40, 60).reshape(-1, 4))\n",
        "# method 1 fast\n",
        "# print row sums\n",
        "rowsums = df.apply(np.sum, axis=1)\n",
        "# last two rows with row sum greater than 100\n",
        "last_two_rows = df.iloc[np.where(rowsums > 100)[0][-2:], :]\n",
        "# method 2\n",
        "df['sum'] = [np.sum(df.iloc[[i]].values) for i in range(df.shape[0])]\n",
        "a = df['sum'][df['sum']>100].index[-1]\n",
        "b = df['sum'][df['sum']>100].index[-2]\n",
        "print(a, b)"
      ],
      "execution_count": 325,
      "outputs": [
        {
          "output_type": "stream",
          "text": [
            "14 12\n"
          ],
          "name": "stdout"
        }
      ]
    },
    {
      "cell_type": "code",
      "metadata": {
        "id": "YwNydLC4SOy5",
        "colab_type": "code",
        "outputId": "a1286ece-edfe-4e41-8b18-00653711ff2d",
        "colab": {
          "base_uri": "https://localhost:8080/",
          "height": 121
        }
      },
      "source": [
        "# 54. How to find and cap outliers from a series or dataframe column?\n",
        "# Replace all values of ser in the lower 5%ile and greater than\n",
        "# 95%ile with respective 5th and 95th %ile value.\n",
        "a = pd.Series(np.logspace(-2, 2, 30))\n",
        "minimal_value =  np.multiply(a[a.idxmax()],0.05)\n",
        "maximal_value =  np.multiply(a[a.idxmax()],0.95)\n",
        "a = np.where(a<=minimal_value, minimal_value, a)\n",
        "a = np.where(a>=maximal_value, maximal_value, a)\n",
        "a"
      ],
      "execution_count": 326,
      "outputs": [
        {
          "output_type": "execute_result",
          "data": {
            "text/plain": [
              "array([ 5.        ,  5.        ,  5.        ,  5.        ,  5.        ,\n",
              "        5.        ,  5.        ,  5.        ,  5.        ,  5.        ,\n",
              "        5.        ,  5.        ,  5.        ,  5.        ,  5.        ,\n",
              "        5.        ,  5.        ,  5.        ,  5.        ,  5.        ,\n",
              "        5.73615251,  7.88046282, 10.82636734, 14.87352107, 20.43359718,\n",
              "       28.07216204, 38.56620421, 52.98316906, 72.78953844, 95.        ])"
            ]
          },
          "metadata": {
            "tags": []
          },
          "execution_count": 326
        }
      ]
    },
    {
      "cell_type": "code",
      "metadata": {
        "id": "DAczWWsSh8r1",
        "colab_type": "code",
        "outputId": "5faf6b12-370e-406a-f881-0bbd7104eb2c",
        "colab": {
          "base_uri": "https://localhost:8080/",
          "height": 434
        }
      },
      "source": [
        "# 55. How to reshape a dataframe to the largest possible square after \n",
        "# removing the negative values?\n",
        "# Reshape df to the largest possible square with negative values removed.\n",
        "# Drop the smallest values if need be. The order of the positive numbers\n",
        "# in the result should remain the same as the original.\n",
        "# method 1 mine\n",
        "np.random.seed(100)\n",
        "df = pd.DataFrame(np.random.randint(-20, 50, 100).reshape(10,-1))\n",
        "df = np.where(df<0, np.nan, df)\n",
        "df = np.array([i[~np.isnan(i)] for i in df])\n",
        "minimal_len = np.min([i.shape[0] for i in df])\n",
        "# cut col\n",
        "df = df[0:minimal_len]\n",
        "# cut rows\n",
        "df = np.array([i[:minimal_len] for i in df])\n",
        "print(df)\n",
        "# method 2 their\n",
        "# Input\n",
        "df = pd.DataFrame(np.random.randint(-20, 50, 100).reshape(10,-1))\n",
        "print(df)\n",
        "# Solution\n",
        "\n",
        "# Step 1: remove negative values from arr\n",
        "arr = df[df > 0].values.flatten()\n",
        "arr_qualified = arr[~np.isnan(arr)]\n",
        "# Step 2: find side-length of largest possible square\n",
        "n = int(np.floor(arr_qualified.shape[0]**.5))\n",
        "# Step 3: Take top n^2 items without changing positions\n",
        "top_indexes = np.argsort(arr_qualified)[::-1]\n",
        "output = np.take(arr_qualified, sorted(top_indexes[:n**2])).reshape(n, -1)\n",
        "print(output)"
      ],
      "execution_count": 327,
      "outputs": [
        {
          "output_type": "stream",
          "text": [
            "[[ 4. 47. 28. 32. 33.]\n",
            " [ 4. 40. 38.  7. 11.]\n",
            " [39. 47. 29. 27. 45.]\n",
            " [35. 43. 33.  7. 36.]\n",
            " [27. 19. 18. 24. 44.]]\n",
            "    0   1   2   3   4   5   6   7   8   9\n",
            "0  -3  25  25  15  -4  -8  47   0 -10 -12\n",
            "1  10  -8  -2  24  37 -20  34  46  -4 -15\n",
            "2  31  14  47  34 -19  -6  13   0  20   4\n",
            "3  38   8 -13 -18  43 -18  -3  33  10  47\n",
            "4   8  17  -3 -10  -7   5  46  -5  -9  18\n",
            "5   2  35  37  31  28  33  -3  45  22  24\n",
            "6  -4  31  34  35  22  41  17 -18  42  -4\n",
            "7  33  27  28 -11  29  33  14 -17  -9  29\n",
            "8   9  16  47   6  32  16  11  48  41  16\n",
            "9  22  -7  28  12  18  20  33  -6  18  17\n",
            "[[25. 25. 15. 47. 10. 24. 37. 34.]\n",
            " [46. 31. 14. 47. 34. 13. 20. 38.]\n",
            " [ 8. 43. 33. 10. 47.  8. 17. 46.]\n",
            " [18. 35. 37. 31. 28. 33. 45. 22.]\n",
            " [24. 31. 34. 35. 22. 41. 17. 42.]\n",
            " [33. 27. 28. 29. 33. 14. 29.  9.]\n",
            " [16. 47. 32. 16. 11. 48. 41. 16.]\n",
            " [22. 28. 12. 18. 20. 33. 18. 17.]]\n"
          ],
          "name": "stdout"
        }
      ]
    },
    {
      "cell_type": "code",
      "metadata": {
        "id": "R-5cqQ5ZzEEf",
        "colab_type": "code",
        "colab": {}
      },
      "source": [
        "# 56. How to swap two rows of a dataframe?\n",
        "# Swap rows 1 and 2 in df.\n",
        "df = pd.DataFrame(np.arange(25).reshape(5, -1))\n",
        "temp = df.iloc[1].copy\n",
        "a, b = df.iloc[1, :].copy(), df.iloc[2, :].copy()\n",
        "df.iloc[1, :], df.iloc[2, :] = b, a"
      ],
      "execution_count": 0,
      "outputs": []
    },
    {
      "cell_type": "code",
      "metadata": {
        "id": "qH9Bnr0C_CD8",
        "colab_type": "code",
        "outputId": "aa8f0c68-f13d-4926-f49c-513c2b289880",
        "colab": {
          "base_uri": "https://localhost:8080/",
          "height": 121
        }
      },
      "source": [
        "# 57. How to reverse the rows of a dataframe?\n",
        "df = pd.DataFrame(np.arange(25).reshape(5, -1))\n",
        "df = df.iloc[::-1]\n",
        "print(df)"
      ],
      "execution_count": 329,
      "outputs": [
        {
          "output_type": "stream",
          "text": [
            "    0   1   2   3   4\n",
            "4  20  21  22  23  24\n",
            "3  15  16  17  18  19\n",
            "2  10  11  12  13  14\n",
            "1   5   6   7   8   9\n",
            "0   0   1   2   3   4\n"
          ],
          "name": "stdout"
        }
      ]
    },
    {
      "cell_type": "code",
      "metadata": {
        "id": "7sW85KKn-BKy",
        "colab_type": "code",
        "outputId": "797f1c66-063b-454e-93ba-69746ea3e159",
        "colab": {
          "base_uri": "https://localhost:8080/",
          "height": 206
        }
      },
      "source": [
        "# 58. How to create one-hot encodings of a categorical\n",
        "# variable (dummy variables)?\n",
        "# Get one-hot encodings for column 'a' in the dataframe df and \n",
        "# append it as columns.\n",
        "df = pd.DataFrame(np.arange(25).reshape(5,-1), columns=list('abcde'))\n",
        "a = pd.get_dummies(df['a'])\n",
        "a"
      ],
      "execution_count": 330,
      "outputs": [
        {
          "output_type": "execute_result",
          "data": {
            "text/html": [
              "<div>\n",
              "<style scoped>\n",
              "    .dataframe tbody tr th:only-of-type {\n",
              "        vertical-align: middle;\n",
              "    }\n",
              "\n",
              "    .dataframe tbody tr th {\n",
              "        vertical-align: top;\n",
              "    }\n",
              "\n",
              "    .dataframe thead th {\n",
              "        text-align: right;\n",
              "    }\n",
              "</style>\n",
              "<table border=\"1\" class=\"dataframe\">\n",
              "  <thead>\n",
              "    <tr style=\"text-align: right;\">\n",
              "      <th></th>\n",
              "      <th>0</th>\n",
              "      <th>5</th>\n",
              "      <th>10</th>\n",
              "      <th>15</th>\n",
              "      <th>20</th>\n",
              "    </tr>\n",
              "  </thead>\n",
              "  <tbody>\n",
              "    <tr>\n",
              "      <th>0</th>\n",
              "      <td>1</td>\n",
              "      <td>0</td>\n",
              "      <td>0</td>\n",
              "      <td>0</td>\n",
              "      <td>0</td>\n",
              "    </tr>\n",
              "    <tr>\n",
              "      <th>1</th>\n",
              "      <td>0</td>\n",
              "      <td>1</td>\n",
              "      <td>0</td>\n",
              "      <td>0</td>\n",
              "      <td>0</td>\n",
              "    </tr>\n",
              "    <tr>\n",
              "      <th>2</th>\n",
              "      <td>0</td>\n",
              "      <td>0</td>\n",
              "      <td>1</td>\n",
              "      <td>0</td>\n",
              "      <td>0</td>\n",
              "    </tr>\n",
              "    <tr>\n",
              "      <th>3</th>\n",
              "      <td>0</td>\n",
              "      <td>0</td>\n",
              "      <td>0</td>\n",
              "      <td>1</td>\n",
              "      <td>0</td>\n",
              "    </tr>\n",
              "    <tr>\n",
              "      <th>4</th>\n",
              "      <td>0</td>\n",
              "      <td>0</td>\n",
              "      <td>0</td>\n",
              "      <td>0</td>\n",
              "      <td>1</td>\n",
              "    </tr>\n",
              "  </tbody>\n",
              "</table>\n",
              "</div>"
            ],
            "text/plain": [
              "   0   5   10  15  20\n",
              "0   1   0   0   0   0\n",
              "1   0   1   0   0   0\n",
              "2   0   0   1   0   0\n",
              "3   0   0   0   1   0\n",
              "4   0   0   0   0   1"
            ]
          },
          "metadata": {
            "tags": []
          },
          "execution_count": 330
        }
      ]
    },
    {
      "cell_type": "code",
      "metadata": {
        "id": "s4CAAszD-nha",
        "colab_type": "code",
        "outputId": "570fc97a-ecd3-4100-d128-912a4fa655b8",
        "colab": {
          "base_uri": "https://localhost:8080/",
          "height": 191
        }
      },
      "source": [
        "# 59.Which column contains the highest number of row-wise maximum values?\n",
        "#Obtain the column name with the highest number of row-wise maximum’s in df.\n",
        "# method 1 fast\n",
        "# Input\n",
        "df = pd.DataFrame(np.random.randint(1,100, 40).reshape(10, -1))\n",
        "# Solution\n",
        "print('Column with highest row maxes: ',\n",
        "      df.apply(np.argmax, axis=1).value_counts().index[0])\n",
        "# method 2\n",
        "df = pd.DataFrame(np.random.randint(1,100, 40).reshape(10, -1))\n",
        "max_values = [value[value.idxmax()] for _, value in df.iterrows()] \n",
        "# column idx\n",
        "a = df.isin(max_values).sum().idxmax()\n",
        "print(a)"
      ],
      "execution_count": 331,
      "outputs": [
        {
          "output_type": "stream",
          "text": [
            "/usr/local/lib/python3.6/dist-packages/numpy/core/fromnumeric.py:56: FutureWarning: \n",
            "The current behaviour of 'Series.argmax' is deprecated, use 'idxmax'\n",
            "instead.\n",
            "The behavior of 'argmax' will be corrected to return the positional\n",
            "maximum in the future. For now, use 'series.values.argmax' or\n",
            "'np.argmax(np.array(values))' to get the position of the maximum\n",
            "row.\n",
            "  return getattr(obj, method)(*args, **kwds)\n"
          ],
          "name": "stderr"
        },
        {
          "output_type": "stream",
          "text": [
            "Column with highest row maxes:  1\n",
            "0\n"
          ],
          "name": "stdout"
        }
      ]
    },
    {
      "cell_type": "code",
      "metadata": {
        "id": "MgjlcOjNDUoF",
        "colab_type": "code",
        "colab": {}
      },
      "source": [
        "# 60. How to create a new column that contains the row number of \n",
        "# nearest column by euclidean distance?\n",
        "# Create a new column such that, each row contains the row number of \n",
        "# nearest row-record by euclidean distance.\n",
        "# in np: dist = numpy.linalg.norm(a-b)\n",
        "# method 1\n",
        "np.random.seed(100)\n",
        "df = pd.DataFrame(np.random.randint(1,100, 40).reshape(10, -1),\n",
        "                  columns=list('pqrs'), index=list('abcdefghij'))\n",
        "nearest_row = []\n",
        "nearest_dist = []\n",
        "for idx1, row1 in df.iterrows():\n",
        "    a = np.array([np.linalg.norm(row1-row2) for idx, row2 in df.iterrows()])\n",
        "    nearest_row.append(np.where(a == np.partition(a, 1)[1])[0][0])\n",
        "    nearest_dist.append(np.partition(a, 1)[1])\n",
        "df['nearest_row'] = nearest_row\n",
        "df['nearest_dist'] = nearest_dist\n",
        "# method 2\n",
        "np.random.seed(100)\n",
        "df = pd.DataFrame(np.random.randint(1,100, 40).reshape(10, -1),\n",
        "                  columns=list('pqrs'), index=list('abcdefghij'))\n",
        "# Solution\n",
        "import numpy as np\n",
        "# init outputs\n",
        "nearest_rows = []\n",
        "nearest_distance = []\n",
        "# iterate rows.\n",
        "for i, row in df.iterrows():\n",
        "    curr = row\n",
        "    rest = df.drop(i)\n",
        "    e_dists = {}  # init dict to store euclidean dists for current row.\n",
        "    # iterate rest of rows for current row\n",
        "    for j, contestant in rest.iterrows():\n",
        "        # compute euclidean dist and update e_dists\n",
        "        e_dists.update({j: round(np.linalg.norm(curr.values - contestant.values))})\n",
        "    # update nearest row to current row and the distance value\n",
        "    nearest_rows.append(max(e_dists, key=e_dists.get))\n",
        "    nearest_distance.append(max(e_dists.values()))\n",
        "df['nearest_row'] = nearest_rows\n",
        "df['dist'] = nearest_distance"
      ],
      "execution_count": 0,
      "outputs": []
    },
    {
      "cell_type": "code",
      "metadata": {
        "id": "1TIKEccgMJMn",
        "colab_type": "code",
        "outputId": "79677b02-9d0b-4231-eb7a-70af338dae67",
        "colab": {
          "base_uri": "https://localhost:8080/",
          "height": 208
        }
      },
      "source": [
        "# 61. How to know the maximum possible correlation value of each column\n",
        "# against other columns?\n",
        "# Compute maximum possible absolute correlation value of each column against\n",
        "# other columns in df\n",
        "np.random.seed(100)\n",
        "df = pd.DataFrame(np.random.randint(1,100, 80).reshape(8, -1),\n",
        "                  columns=list('pqrstuvwxy'), index=list('abcdefgh'))\n",
        "cor = np.abs(df.corr())\n",
        "cor = cor.apply(lambda x: sorted(x)[-2])\n",
        "cor"
      ],
      "execution_count": 333,
      "outputs": [
        {
          "output_type": "execute_result",
          "data": {
            "text/plain": [
              "p   0.4548\n",
              "q   0.5120\n",
              "r   0.5120\n",
              "s   0.9052\n",
              "t   0.4464\n",
              "u   0.9052\n",
              "v   0.5127\n",
              "w   0.3948\n",
              "x   0.5471\n",
              "y   0.5047\n",
              "dtype: float64"
            ]
          },
          "metadata": {
            "tags": []
          },
          "execution_count": 333
        }
      ]
    },
    {
      "cell_type": "code",
      "metadata": {
        "id": "iQjTQEmRUCZ1",
        "colab_type": "code",
        "colab": {}
      },
      "source": [
        "# 62. How to create a column containing the minimum \n",
        "# by maximum of each row?\n",
        "# Compute the minimum-by-maximum for every row of df.\n",
        "df = pd.DataFrame(np.random.randint(1,100, 80).reshape(8, -1))\n",
        "#method 1\n",
        "df['min/max'] = np.min(df, axis=1)/np.max(df, axis=1)\n",
        "#method 2 \n",
        "df['min/max'] = [row.min()/row.max() for idx, row in df.iterrows()]"
      ],
      "execution_count": 0,
      "outputs": []
    },
    {
      "cell_type": "code",
      "metadata": {
        "id": "IEivIMM_fXdP",
        "colab_type": "code",
        "colab": {
          "base_uri": "https://localhost:8080/",
          "height": 52
        },
        "outputId": "86faf378-f2cf-4c3e-d56d-e9380e8bd6ec"
      },
      "source": [
        "%%time\n",
        "# 63. How to create a column that contains the penultimate value in each row?\n",
        "# Create a new column 'penultimate' which has the second largest value of\n",
        "# each row of df.\n",
        "df = pd.DataFrame(np.random.randint(1,100, 80).reshape(8, -1))\n",
        "# np.partition(a, 1)[1]\n",
        "# [np.linalg.norm(row1-row2) for idx, row2 in df.iterrows()]\n",
        "df['penultimate'] = [np.partition(row, -2)[-2] for idx, row in df.iterrows()]\n",
        "df"
      ],
      "execution_count": 335,
      "outputs": [
        {
          "output_type": "stream",
          "text": [
            "CPU times: user 5.82 ms, sys: 0 ns, total: 5.82 ms\n",
            "Wall time: 7.03 ms\n"
          ],
          "name": "stdout"
        }
      ]
    },
    {
      "cell_type": "code",
      "metadata": {
        "id": "0q6-i3mXmQpX",
        "colab_type": "code",
        "colab": {
          "base_uri": "https://localhost:8080/",
          "height": 295
        },
        "outputId": "2ed5e04c-f578-4e03-89c2-40ecb91170b8"
      },
      "source": [
        "# 64. How to normalize all columns in a dataframe?\n",
        "# ormalize all columns of df by subtracting the column mean and\n",
        "# divide by standard deviation.\n",
        "# Range all columns of df such that the minimum value in each colum\n",
        "# is 0 and max is 1.\n",
        "from sklearn.preprocessing import StandardScaler, MinMaxScaler\n",
        "df = pd.DataFrame(np.random.randint(1,100, 80).reshape(8, -1))\n",
        "# subtracting the column mean and divide by standard deviation.\n",
        "scaler = StandardScaler(copy = False)\n",
        "df = scaler.fit_transform(df)\n",
        "# minimum value in each colum is 0 and max is 1\n",
        "scaler = MinMaxScaler(copy = False)\n",
        "df = scaler.fit_transform(df)\n",
        "df"
      ],
      "execution_count": 336,
      "outputs": [
        {
          "output_type": "execute_result",
          "data": {
            "text/plain": [
              "array([[0.51612903, 0.        , 0.46875   , 0.5505618 , 0.38461538,\n",
              "        0.01162791, 0.        , 0.25      , 0.31521739, 0.11111111],\n",
              "       [1.        , 0.74358974, 0.109375  , 0.53932584, 0.42307692,\n",
              "        0.8255814 , 0.26315789, 1.        , 1.        , 1.        ],\n",
              "       [0.89247312, 0.79487179, 0.65625   , 1.        , 0.42307692,\n",
              "        0.46511628, 0.02631579, 0.22916667, 0.89130435, 0.        ],\n",
              "       [0.40860215, 0.3974359 , 0.53125   , 1.        , 0.        ,\n",
              "        0.41860465, 0.98684211, 0.        , 0.        , 0.75      ],\n",
              "       [0.44086022, 0.44871795, 0.        , 0.80898876, 1.        ,\n",
              "        0.12790698, 1.        , 0.58333333, 0.73913043, 0.61111111],\n",
              "       [0.        , 1.        , 1.        , 0.06741573, 0.98076923,\n",
              "        0.        , 1.        , 0.8125    , 0.42391304, 0.11111111],\n",
              "       [0.37634409, 0.21794872, 0.        , 0.        , 0.48076923,\n",
              "        0.98837209, 0.82894737, 0.875     , 1.        , 0.55555556],\n",
              "       [0.47311828, 0.05128205, 0.21875   , 0.12359551, 0.05769231,\n",
              "        1.        , 0.15789474, 0.45833333, 0.08695652, 0.22222222]])"
            ]
          },
          "metadata": {
            "tags": []
          },
          "execution_count": 336
        }
      ]
    },
    {
      "cell_type": "code",
      "metadata": {
        "id": "tnFP9oDzq6Pa",
        "colab_type": "code",
        "colab": {
          "base_uri": "https://localhost:8080/",
          "height": 139
        },
        "outputId": "7cf06eec-5257-47e3-f03d-b642e9cc1ead"
      },
      "source": [
        "# 65. How to compute the correlation of each row with the suceeding row?\n",
        "# Compute the correlation of each row of df with its succeeding row.\n",
        "df = pd.DataFrame(np.random.randint(1,100, 80).reshape(8, -1))\n",
        "cor = np.abs(df.T.corr())\n",
        "cor_row_to_row = [row[idx+1] for idx, row in cor.iterrows() if (idx < 7)]\n",
        "cor_row_to_row"
      ],
      "execution_count": 338,
      "outputs": [
        {
          "output_type": "execute_result",
          "data": {
            "text/plain": [
              "[0.2941474943839492,\n",
              " 0.11578553346964404,\n",
              " 0.5454464330014843,\n",
              " 0.8014249504481016,\n",
              " 0.7234335388804092,\n",
              " 0.02404312538329484,\n",
              " 0.26711613030210735]"
            ]
          },
          "metadata": {
            "tags": []
          },
          "execution_count": 338
        }
      ]
    },
    {
      "cell_type": "code",
      "metadata": {
        "id": "fcO8xRYrrVqD",
        "colab_type": "code",
        "colab": {
          "base_uri": "https://localhost:8080/",
          "height": 418
        },
        "outputId": "f5048d86-20a1-4d00-8394-aa1ab7ae5e01"
      },
      "source": [
        "# 66. How to replace both the diagonals of dataframe with 0?\n",
        "# Replace both values in both diagonals of df with 0.\n",
        "# method 1\n",
        "df = pd.DataFrame(np.random.randint(1,100, 100).reshape(10, -1))\n",
        "for i in range(df.shape[0]):\n",
        "    df.iat[i, i] = 0\n",
        "    df.iat[df.shape[0]-i-1, i] = 0\n",
        "# method 2\n",
        "df = pd.DataFrame(np.random.randint(1,100, 100).reshape(10, -1))\n",
        "df.values[[np.arange(df.shape[0])]*2] = 0\n",
        "df.values[np.arange(df.shape[0]), [np.flipud(np.arange(df.shape[0]))]] = 0\n",
        "df"
      ],
      "execution_count": 339,
      "outputs": [
        {
          "output_type": "stream",
          "text": [
            "/usr/local/lib/python3.6/dist-packages/ipykernel_launcher.py:7: FutureWarning: Using a non-tuple sequence for multidimensional indexing is deprecated; use `arr[tuple(seq)]` instead of `arr[seq]`. In the future this will be interpreted as an array index, `arr[np.array(seq)]`, which will result either in an error or a different result.\n",
            "  import sys\n"
          ],
          "name": "stderr"
        },
        {
          "output_type": "execute_result",
          "data": {
            "text/html": [
              "<div>\n",
              "<style scoped>\n",
              "    .dataframe tbody tr th:only-of-type {\n",
              "        vertical-align: middle;\n",
              "    }\n",
              "\n",
              "    .dataframe tbody tr th {\n",
              "        vertical-align: top;\n",
              "    }\n",
              "\n",
              "    .dataframe thead th {\n",
              "        text-align: right;\n",
              "    }\n",
              "</style>\n",
              "<table border=\"1\" class=\"dataframe\">\n",
              "  <thead>\n",
              "    <tr style=\"text-align: right;\">\n",
              "      <th></th>\n",
              "      <th>0</th>\n",
              "      <th>1</th>\n",
              "      <th>2</th>\n",
              "      <th>3</th>\n",
              "      <th>4</th>\n",
              "      <th>5</th>\n",
              "      <th>6</th>\n",
              "      <th>7</th>\n",
              "      <th>8</th>\n",
              "      <th>9</th>\n",
              "    </tr>\n",
              "  </thead>\n",
              "  <tbody>\n",
              "    <tr>\n",
              "      <th>0</th>\n",
              "      <td>0</td>\n",
              "      <td>40</td>\n",
              "      <td>83</td>\n",
              "      <td>4</td>\n",
              "      <td>34</td>\n",
              "      <td>38</td>\n",
              "      <td>42</td>\n",
              "      <td>54</td>\n",
              "      <td>7</td>\n",
              "      <td>0</td>\n",
              "    </tr>\n",
              "    <tr>\n",
              "      <th>1</th>\n",
              "      <td>19</td>\n",
              "      <td>0</td>\n",
              "      <td>95</td>\n",
              "      <td>20</td>\n",
              "      <td>85</td>\n",
              "      <td>74</td>\n",
              "      <td>16</td>\n",
              "      <td>78</td>\n",
              "      <td>0</td>\n",
              "      <td>48</td>\n",
              "    </tr>\n",
              "    <tr>\n",
              "      <th>2</th>\n",
              "      <td>38</td>\n",
              "      <td>58</td>\n",
              "      <td>0</td>\n",
              "      <td>60</td>\n",
              "      <td>54</td>\n",
              "      <td>47</td>\n",
              "      <td>48</td>\n",
              "      <td>0</td>\n",
              "      <td>46</td>\n",
              "      <td>79</td>\n",
              "    </tr>\n",
              "    <tr>\n",
              "      <th>3</th>\n",
              "      <td>61</td>\n",
              "      <td>45</td>\n",
              "      <td>9</td>\n",
              "      <td>0</td>\n",
              "      <td>8</td>\n",
              "      <td>54</td>\n",
              "      <td>0</td>\n",
              "      <td>65</td>\n",
              "      <td>35</td>\n",
              "      <td>5</td>\n",
              "    </tr>\n",
              "    <tr>\n",
              "      <th>4</th>\n",
              "      <td>13</td>\n",
              "      <td>41</td>\n",
              "      <td>35</td>\n",
              "      <td>94</td>\n",
              "      <td>0</td>\n",
              "      <td>0</td>\n",
              "      <td>83</td>\n",
              "      <td>13</td>\n",
              "      <td>86</td>\n",
              "      <td>24</td>\n",
              "    </tr>\n",
              "    <tr>\n",
              "      <th>5</th>\n",
              "      <td>68</td>\n",
              "      <td>61</td>\n",
              "      <td>80</td>\n",
              "      <td>10</td>\n",
              "      <td>0</td>\n",
              "      <td>0</td>\n",
              "      <td>73</td>\n",
              "      <td>17</td>\n",
              "      <td>92</td>\n",
              "      <td>27</td>\n",
              "    </tr>\n",
              "    <tr>\n",
              "      <th>6</th>\n",
              "      <td>28</td>\n",
              "      <td>89</td>\n",
              "      <td>35</td>\n",
              "      <td>0</td>\n",
              "      <td>59</td>\n",
              "      <td>75</td>\n",
              "      <td>0</td>\n",
              "      <td>45</td>\n",
              "      <td>55</td>\n",
              "      <td>84</td>\n",
              "    </tr>\n",
              "    <tr>\n",
              "      <th>7</th>\n",
              "      <td>8</td>\n",
              "      <td>52</td>\n",
              "      <td>0</td>\n",
              "      <td>42</td>\n",
              "      <td>30</td>\n",
              "      <td>76</td>\n",
              "      <td>71</td>\n",
              "      <td>0</td>\n",
              "      <td>15</td>\n",
              "      <td>10</td>\n",
              "    </tr>\n",
              "    <tr>\n",
              "      <th>8</th>\n",
              "      <td>79</td>\n",
              "      <td>0</td>\n",
              "      <td>28</td>\n",
              "      <td>56</td>\n",
              "      <td>3</td>\n",
              "      <td>21</td>\n",
              "      <td>47</td>\n",
              "      <td>59</td>\n",
              "      <td>0</td>\n",
              "      <td>61</td>\n",
              "    </tr>\n",
              "    <tr>\n",
              "      <th>9</th>\n",
              "      <td>0</td>\n",
              "      <td>66</td>\n",
              "      <td>67</td>\n",
              "      <td>21</td>\n",
              "      <td>65</td>\n",
              "      <td>79</td>\n",
              "      <td>68</td>\n",
              "      <td>9</td>\n",
              "      <td>13</td>\n",
              "      <td>0</td>\n",
              "    </tr>\n",
              "  </tbody>\n",
              "</table>\n",
              "</div>"
            ],
            "text/plain": [
              "    0   1   2   3   4   5   6   7   8   9\n",
              "0   0  40  83   4  34  38  42  54   7   0\n",
              "1  19   0  95  20  85  74  16  78   0  48\n",
              "2  38  58   0  60  54  47  48   0  46  79\n",
              "3  61  45   9   0   8  54   0  65  35   5\n",
              "4  13  41  35  94   0   0  83  13  86  24\n",
              "5  68  61  80  10   0   0  73  17  92  27\n",
              "6  28  89  35   0  59  75   0  45  55  84\n",
              "7   8  52   0  42  30  76  71   0  15  10\n",
              "8  79   0  28  56   3  21  47  59   0  61\n",
              "9   0  66  67  21  65  79  68   9  13   0"
            ]
          },
          "metadata": {
            "tags": []
          },
          "execution_count": 339
        }
      ]
    },
    {
      "cell_type": "code",
      "metadata": {
        "id": "YRPnmS380FU_",
        "colab_type": "code",
        "colab": {
          "base_uri": "https://localhost:8080/",
          "height": 86
        },
        "outputId": "86648763-5227-40d7-c383-dd9bbb6973bf"
      },
      "source": [
        "# 67. How to get the particular group of a groupby dataframe by key?\n",
        "# This is a question related to understanding of grouped dataframe. From \n",
        "# df_grouped, get the group belonging to 'apple' as a dataframe.\n",
        "df = pd.DataFrame({'col1': ['apple', 'banana', 'orange'] * 3,\n",
        "                   'col2': np.random.rand(9),\n",
        "                   'col3': np.random.randint(0, 15, 9)})\n",
        "df_grouped = df.groupby(['col1'])\n",
        "for i, dff in df_grouped:\n",
        "    if i == 'apple':\n",
        "        print(dff)"
      ],
      "execution_count": 340,
      "outputs": [
        {
          "output_type": "stream",
          "text": [
            "    col1   col2  col3\n",
            "0  apple 0.3299     2\n",
            "3  apple 0.7782    12\n",
            "6  apple 0.6526     6\n"
          ],
          "name": "stdout"
        }
      ]
    },
    {
      "cell_type": "code",
      "metadata": {
        "id": "5wMAS4pP0P1I",
        "colab_type": "code",
        "colab": {
          "base_uri": "https://localhost:8080/",
          "height": 34
        },
        "outputId": "3764a0ec-4301-450e-e94b-09b0698aab19"
      },
      "source": [
        "# 68. How to get the n’th largest value of a column when grouped by \n",
        "# another column?\n",
        "# In df, find the second largest value of 'taste' for 'banana'\n",
        "df = pd.DataFrame({'fruit': ['apple', 'banana', 'orange'] * 3,\n",
        "                   'rating': np.random.rand(9),\n",
        "                   'taste': np.random.randint(0, 15, 9)})\n",
        "df_grouped = df['taste'].groupby(df['fruit'])\n",
        "df_grouped.get_group('banana').sort_values().iloc[-2]\n"
      ],
      "execution_count": 341,
      "outputs": [
        {
          "output_type": "execute_result",
          "data": {
            "text/plain": [
              "0"
            ]
          },
          "metadata": {
            "tags": []
          },
          "execution_count": 341
        }
      ]
    },
    {
      "cell_type": "code",
      "metadata": {
        "id": "2mh-FCQx6D9u",
        "colab_type": "code",
        "colab": {
          "base_uri": "https://localhost:8080/",
          "height": 104
        },
        "outputId": "4c5a5b6e-a3a6-4a1e-b639-fe74b99de547"
      },
      "source": [
        "# 69. How to compute grouped mean on pandas dataframe and keep the \n",
        "# grouped column as another column (not index)?\n",
        "# In df, Compute the mean price of every fruit, while keeping the fruit\n",
        "# as another column instead of an index.\n",
        "df = pd.DataFrame({'fruit': ['apple', 'banana', 'orange'] * 3,\n",
        "                   'rating': np.random.rand(9),\n",
        "                   'price': np.random.randint(0, 15, 9)})\n",
        "df_grouped = df['price'].groupby(df['fruit']).mean()\n",
        "df_grouped"
      ],
      "execution_count": 345,
      "outputs": [
        {
          "output_type": "execute_result",
          "data": {
            "text/plain": [
              "fruit\n",
              "apple    4.6667\n",
              "banana   7.6667\n",
              "orange   5.6667\n",
              "Name: price, dtype: float64"
            ]
          },
          "metadata": {
            "tags": []
          },
          "execution_count": 345
        }
      ]
    },
    {
      "cell_type": "code",
      "metadata": {
        "id": "5_ZaG1SULqtg",
        "colab_type": "code",
        "colab": {}
      },
      "source": [
        "# 70. How to join two dataframes by 2 columns \n",
        "# so they have only the common rows?\n",
        "# Join dataframes df1 and df2 by ‘fruit-pazham’ and ‘weight-kilo’.\n",
        "#method 1 fast\n",
        "df1 = pd.DataFrame({'fruit': ['apple', 'banana', 'orange'] * 3,\n",
        "                    'weight': ['high', 'medium', 'low'] * 3,\n",
        "                    'price': np.random.randint(0, 15, 9)})\n",
        "df2 = pd.DataFrame({'pazham': ['apple', 'orange', 'pine'] * 2,\n",
        "                    'kilo': ['high', 'low'] * 3,\n",
        "                    'price': np.random.randint(0, 15, 6)})\n",
        "pd.merge(df1, df2, how='inner', left_on=['fruit', 'weight'], right_on=['pazham', 'kilo'], suffixes=['_left', '_right'])\n",
        "#method 2\n",
        "df1 = pd.DataFrame({'fruit': ['apple', 'banana', 'orange'] * 3,\n",
        "                    'weight': ['high', 'medium', 'low'] * 3,\n",
        "                    'price': np.random.randint(0, 15, 9)})\n",
        "\n",
        "df2 = pd.DataFrame({'pazham': ['apple', 'orange', 'pine'] * 2,\n",
        "                    'kilo': ['high', 'low'] * 3,\n",
        "                    'price': np.random.randint(0, 15, 6)})\n",
        "df = pd.concat([df1, df2], axis=1)\n",
        "df = df.dropna()\n",
        "df"
      ],
      "execution_count": 0,
      "outputs": []
    },
    {
      "cell_type": "code",
      "metadata": {
        "id": "ofVkPXwONf5j",
        "colab_type": "code",
        "colab": {
          "base_uri": "https://localhost:8080/",
          "height": 34
        },
        "outputId": "bd21c2e2-6ac0-476e-da55-0a55d345fa4c"
      },
      "source": [
        "# 72. How to get the positions where values of two columns match?\n",
        "df = pd.DataFrame({'fruit1': np.random.choice(['apple', 'orange', 'banana'], 10),\n",
        "            'fruit2': np.random.choice(['apple', 'orange', 'banana'], 10)})\n",
        "np.where(df['fruit1'] == df['fruit2'])"
      ],
      "execution_count": 372,
      "outputs": [
        {
          "output_type": "execute_result",
          "data": {
            "text/plain": [
              "(array([0, 4, 6, 8]),)"
            ]
          },
          "metadata": {
            "tags": []
          },
          "execution_count": 372
        }
      ]
    },
    {
      "cell_type": "code",
      "metadata": {
        "id": "fBP-up28NhQd",
        "colab_type": "code",
        "colab": {
          "base_uri": "https://localhost:8080/",
          "height": 206
        },
        "outputId": "51ad6e1d-daad-420b-94b7-9991ec118e7c"
      },
      "source": [
        "# 73. How to create lags and leads of a column in a dataframe?\n",
        "# Create two new columns in df, one of which is a lag1 (shift column a\n",
        "# down by 1 row) of column ‘a’ and the other is a lead1 (shift column b \n",
        "# up by 1 row).\n",
        "df = pd.DataFrame(np.random.randint(1, 100, 20).reshape(-1, 4),\n",
        "                  columns = list('abcd'))\n",
        "df['a_lag1'] = df['a'].shift(1)\n",
        "df['b_lead1'] = df['b'].shift(-1)\n",
        "df"
      ],
      "execution_count": 406,
      "outputs": [
        {
          "output_type": "execute_result",
          "data": {
            "text/html": [
              "<div>\n",
              "<style scoped>\n",
              "    .dataframe tbody tr th:only-of-type {\n",
              "        vertical-align: middle;\n",
              "    }\n",
              "\n",
              "    .dataframe tbody tr th {\n",
              "        vertical-align: top;\n",
              "    }\n",
              "\n",
              "    .dataframe thead th {\n",
              "        text-align: right;\n",
              "    }\n",
              "</style>\n",
              "<table border=\"1\" class=\"dataframe\">\n",
              "  <thead>\n",
              "    <tr style=\"text-align: right;\">\n",
              "      <th></th>\n",
              "      <th>a</th>\n",
              "      <th>b</th>\n",
              "      <th>c</th>\n",
              "      <th>d</th>\n",
              "      <th>a_lag1</th>\n",
              "      <th>b_lead1</th>\n",
              "    </tr>\n",
              "  </thead>\n",
              "  <tbody>\n",
              "    <tr>\n",
              "      <th>0</th>\n",
              "      <td>87</td>\n",
              "      <td>66</td>\n",
              "      <td>96</td>\n",
              "      <td>89</td>\n",
              "      <td>nan</td>\n",
              "      <td>7.0000</td>\n",
              "    </tr>\n",
              "    <tr>\n",
              "      <th>1</th>\n",
              "      <td>52</td>\n",
              "      <td>7</td>\n",
              "      <td>70</td>\n",
              "      <td>41</td>\n",
              "      <td>87.0000</td>\n",
              "      <td>6.0000</td>\n",
              "    </tr>\n",
              "    <tr>\n",
              "      <th>2</th>\n",
              "      <td>23</td>\n",
              "      <td>6</td>\n",
              "      <td>78</td>\n",
              "      <td>98</td>\n",
              "      <td>52.0000</td>\n",
              "      <td>4.0000</td>\n",
              "    </tr>\n",
              "    <tr>\n",
              "      <th>3</th>\n",
              "      <td>24</td>\n",
              "      <td>4</td>\n",
              "      <td>60</td>\n",
              "      <td>45</td>\n",
              "      <td>23.0000</td>\n",
              "      <td>65.0000</td>\n",
              "    </tr>\n",
              "    <tr>\n",
              "      <th>4</th>\n",
              "      <td>96</td>\n",
              "      <td>65</td>\n",
              "      <td>6</td>\n",
              "      <td>11</td>\n",
              "      <td>24.0000</td>\n",
              "      <td>nan</td>\n",
              "    </tr>\n",
              "  </tbody>\n",
              "</table>\n",
              "</div>"
            ],
            "text/plain": [
              "    a   b   c   d  a_lag1  b_lead1\n",
              "0  87  66  96  89     nan   7.0000\n",
              "1  52   7  70  41 87.0000   6.0000\n",
              "2  23   6  78  98 52.0000   4.0000\n",
              "3  24   4  60  45 23.0000  65.0000\n",
              "4  96  65   6  11 24.0000      nan"
            ]
          },
          "metadata": {
            "tags": []
          },
          "execution_count": 406
        }
      ]
    },
    {
      "cell_type": "code",
      "metadata": {
        "id": "LCjM4HAjRztx",
        "colab_type": "code",
        "colab": {
          "base_uri": "https://localhost:8080/",
          "height": 52
        },
        "outputId": "ed0f9948-5771-4f23-9501-cabe2478bb3a"
      },
      "source": [
        "# 74. How to get the frequency of unique values in the entire dataframe?\n",
        "# Get the frequency of unique values in the entire dataframe df.\n",
        "df = pd.DataFrame(np.random.randint(1, 10, 20).reshape(-1, 4),\n",
        "                  columns = list('abcd'))\n",
        "values, count = np.unique(df, return_counts=True)\n"
      ],
      "execution_count": 411,
      "outputs": [
        {
          "output_type": "stream",
          "text": [
            "CPU times: user 1.72 ms, sys: 0 ns, total: 1.72 ms\n",
            "Wall time: 1.56 ms\n"
          ],
          "name": "stdout"
        }
      ]
    },
    {
      "cell_type": "code",
      "metadata": {
        "id": "F8BMF-DJWAVI",
        "colab_type": "code",
        "colab": {
          "base_uri": "https://localhost:8080/",
          "height": 206
        },
        "outputId": "046b2fb6-0155-4e22-cb31-a35299d3319e"
      },
      "source": [
        "# 75. How to split a text column into two separate columns?\n",
        "# Split the string column in df to form a dataframe with 3 columns as shown.\n",
        "df = pd.DataFrame([\"STD, City    State\",\n",
        "                \"33, Kolkata    West Bengal\",\n",
        "                \"44, Chennai    Tamil Nadu\",\n",
        "                \"40, Hyderabad    Telengana\",\n",
        "                \"80, Bangalore    Karnataka\"], columns=['row'])\n",
        "df = df['row'].str.split(' ', expand=True)\n",
        "df"
      ],
      "execution_count": 437,
      "outputs": [
        {
          "output_type": "execute_result",
          "data": {
            "text/html": [
              "<div>\n",
              "<style scoped>\n",
              "    .dataframe tbody tr th:only-of-type {\n",
              "        vertical-align: middle;\n",
              "    }\n",
              "\n",
              "    .dataframe tbody tr th {\n",
              "        vertical-align: top;\n",
              "    }\n",
              "\n",
              "    .dataframe thead th {\n",
              "        text-align: right;\n",
              "    }\n",
              "</style>\n",
              "<table border=\"1\" class=\"dataframe\">\n",
              "  <thead>\n",
              "    <tr style=\"text-align: right;\">\n",
              "      <th></th>\n",
              "      <th>0</th>\n",
              "      <th>1</th>\n",
              "      <th>2</th>\n",
              "      <th>3</th>\n",
              "      <th>4</th>\n",
              "      <th>5</th>\n",
              "      <th>6</th>\n",
              "    </tr>\n",
              "  </thead>\n",
              "  <tbody>\n",
              "    <tr>\n",
              "      <th>0</th>\n",
              "      <td>STD,</td>\n",
              "      <td>City</td>\n",
              "      <td></td>\n",
              "      <td></td>\n",
              "      <td></td>\n",
              "      <td>State</td>\n",
              "      <td>None</td>\n",
              "    </tr>\n",
              "    <tr>\n",
              "      <th>1</th>\n",
              "      <td>33,</td>\n",
              "      <td>Kolkata</td>\n",
              "      <td></td>\n",
              "      <td></td>\n",
              "      <td></td>\n",
              "      <td>West</td>\n",
              "      <td>Bengal</td>\n",
              "    </tr>\n",
              "    <tr>\n",
              "      <th>2</th>\n",
              "      <td>44,</td>\n",
              "      <td>Chennai</td>\n",
              "      <td></td>\n",
              "      <td></td>\n",
              "      <td></td>\n",
              "      <td>Tamil</td>\n",
              "      <td>Nadu</td>\n",
              "    </tr>\n",
              "    <tr>\n",
              "      <th>3</th>\n",
              "      <td>40,</td>\n",
              "      <td>Hyderabad</td>\n",
              "      <td></td>\n",
              "      <td></td>\n",
              "      <td></td>\n",
              "      <td>Telengana</td>\n",
              "      <td>None</td>\n",
              "    </tr>\n",
              "    <tr>\n",
              "      <th>4</th>\n",
              "      <td>80,</td>\n",
              "      <td>Bangalore</td>\n",
              "      <td></td>\n",
              "      <td></td>\n",
              "      <td></td>\n",
              "      <td>Karnataka</td>\n",
              "      <td>None</td>\n",
              "    </tr>\n",
              "  </tbody>\n",
              "</table>\n",
              "</div>"
            ],
            "text/plain": [
              "      0          1 2 3 4          5       6\n",
              "0  STD,       City            State    None\n",
              "1   33,    Kolkata             West  Bengal\n",
              "2   44,    Chennai            Tamil    Nadu\n",
              "3   40,  Hyderabad        Telengana    None\n",
              "4   80,  Bangalore        Karnataka    None"
            ]
          },
          "metadata": {
            "tags": []
          },
          "execution_count": 437
        }
      ]
    },
    {
      "cell_type": "code",
      "metadata": {
        "id": "77njCQp8WRsZ",
        "colab_type": "code",
        "colab": {}
      },
      "source": [
        ""
      ],
      "execution_count": 0,
      "outputs": []
    }
  ]
}