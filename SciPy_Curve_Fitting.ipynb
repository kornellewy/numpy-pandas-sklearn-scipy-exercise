{
  "nbformat": 4,
  "nbformat_minor": 0,
  "metadata": {
    "colab": {
      "name": "SciPy Curve Fitting",
      "version": "0.3.2",
      "provenance": [],
      "collapsed_sections": [],
      "include_colab_link": true
    },
    "kernelspec": {
      "name": "python3",
      "display_name": "Python 3"
    }
  },
  "cells": [
    {
      "cell_type": "markdown",
      "metadata": {
        "id": "view-in-github",
        "colab_type": "text"
      },
      "source": [
        "<a href=\"https://colab.research.google.com/github/kornellewy/numpy-pandas-sklearn-scipy-exercise/blob/master/SciPy_Curve_Fitting.ipynb\" target=\"_parent\"><img src=\"https://colab.research.google.com/assets/colab-badge.svg\" alt=\"Open In Colab\"/></a>"
      ]
    },
    {
      "cell_type": "markdown",
      "metadata": {
        "id": "aFAjJI9rNwBo",
        "colab_type": "text"
      },
      "source": [
        "https://www.geeksforgeeks.org/scipy-curve-fitting/"
      ]
    },
    {
      "cell_type": "code",
      "metadata": {
        "id": "4oGAYso7MCc3",
        "colab_type": "code",
        "colab": {}
      },
      "source": [
        "import numpy as np \n",
        "from scipy.optimize import curve_fit \n",
        "from matplotlib import pyplot as plt "
      ],
      "execution_count": 0,
      "outputs": []
    },
    {
      "cell_type": "code",
      "metadata": {
        "id": "PlEqCbleMaR1",
        "colab_type": "code",
        "outputId": "76b9f13d-d397-4564-caeb-3507ec4234b0",
        "colab": {
          "base_uri": "https://localhost:8080/",
          "height": 391
        }
      },
      "source": [
        "%%time\n",
        "# numpy.linspace with the given arguments \n",
        "# produce an array of 40 numbers between 0 \n",
        "# and 10, both inclusive \n",
        "x = np.linspace(0, 10, num=40)\n",
        "# y is another array which stores 3.45 times \n",
        "# the sine of (values in x) * 1.334.  \n",
        "# The random.normal() draws random sample  \n",
        "# from normal (Gaussian) distribution to make \n",
        "# them scatter across the base line \n",
        "y = 3.45 * np.sin(1.334 * x) + np.random.normal(size = 40) \n",
        "# Test function with coefficients as parameters \n",
        "def test(x, a, b):\n",
        "    return np.multiply(a, np.sin(np.multiply(b,x)))\n",
        "# curve_fit() function takes the test-function \n",
        "# x-data and y-data as argument and returns  \n",
        "# the coefficients a and b in param and \n",
        "# the estimated covariance of param in param_cov \n",
        "param, param_cov = curve_fit(test, x, y)\n",
        "# print params\n",
        "print(\"Sine funcion coefficients:\") \n",
        "print(param) \n",
        "print(\"Covariance of coefficients:\") \n",
        "print(param_cov) \n",
        "# ans stores the new y-data according to  \n",
        "# the coefficients given by curve-fit() function \n",
        "ans = (param[0]*(np.sin(param[1]*x)))\n",
        "# plot\n",
        "plt.plot(x, y, 'o', color ='red', label =\"data\") \n",
        "plt.plot(x, ans, '--', color ='blue', label =\"optimized data\") \n",
        "plt.legend() \n",
        "plt.show() "
      ],
      "execution_count": 0,
      "outputs": [
        {
          "output_type": "stream",
          "text": [
            "Sine funcion coefficients:\n",
            "[3.4270654 1.3356519]\n",
            "Covariance of coefficients:\n",
            "[[ 5.96757431e-02 -6.66589032e-05]\n",
            " [-6.66589032e-05  1.29962307e-04]]\n"
          ],
          "name": "stdout"
        },
        {
          "output_type": "display_data",
          "data": {
            "image/png": "[encoded data removed]",
            "text/plain": [
              "<Figure size 432x288 with 1 Axes>"
            ]
          },
          "metadata": {
            "tags": []
          }
        },
        {
          "output_type": "stream",
          "text": [
            "CPU times: user 199 ms, sys: 104 ms, total: 303 ms\n",
            "Wall time: 174 ms\n"
          ],
          "name": "stdout"
        }
      ]
    },
    {
      "cell_type": "code",
      "metadata": {
        "id": "TS7_Trd2Nola",
        "colab_type": "code",
        "outputId": "1ff867ec-29eb-457a-a103-a1859d0bacec",
        "colab": {
          "base_uri": "https://localhost:8080/",
          "height": 304
        }
      },
      "source": [
        "%%time\n",
        "# example can be achieved by using the numpy exponential function\n",
        "# shown as follows:\n",
        "x = np.linspace(0, 1, 40)\n",
        "#y = 3.45 * np.exp(np.multiply(1.334, x)) * np.random.normal(size=40)\n",
        "y = np.multiply(np.multiply(3.45, np.exp(np.multiply(1.334, x))),\n",
        "                np.random.normal(size=40))\n",
        "def test(x, a, b):\n",
        "    return np.multiply(a, np.exp(np.multiply(b,x)))\n",
        "    \n",
        "param, param_cov = curve_fit(test, x, y) \n",
        "# plot\n",
        "plt.plot(x, y, 'o', color ='red', label =\"data\") \n",
        "plt.plot(x, ans, '--', color ='blue', label =\"optimized data\") \n",
        "plt.legend() \n",
        "plt.show() "
      ],
      "execution_count": 0,
      "outputs": [
        {
          "output_type": "display_data",
          "data": {
            "image/png": "[encoded data removed]",
            "text/plain": [
              "<Figure size 432x288 with 1 Axes>"
            ]
          },
          "metadata": {
            "tags": []
          }
        },
        {
          "output_type": "stream",
          "text": [
            "CPU times: user 228 ms, sys: 105 ms, total: 333 ms\n",
            "Wall time: 187 ms\n"
          ],
          "name": "stdout"
        }
      ]
    },
    {
      "cell_type": "code",
      "metadata": {
        "id": "kVuch0UhPyI-",
        "colab_type": "code",
        "outputId": "f306feab-e95a-493c-a431-c38ec2d42a59",
        "colab": {
          "base_uri": "https://localhost:8080/",
          "height": 356
        }
      },
      "source": [
        "# However, if the coefficinets are too large, the curve flattens and fails to\n",
        "# provide the best fit. The following code explains this fact:\n",
        "x = np.linspace(0, 10, num = 40) \n",
        "y = 10.45 * np.sin(5.334 * x) + np.random.normal(size = 40) \n",
        "def test(x, a, b): \n",
        "    return a * np.sin(b * x) \n",
        "param, param_cov = curve_fit(test, x, y) \n",
        "print(\"Sine funcion coefficients:\") \n",
        "print(param) \n",
        "print(\"Covariance of coefficients:\") \n",
        "print(param_cov) \n",
        "ans = (param[0]*(np.sin(param[1]*x))) \n",
        "plt.plot(x, y, 'o', color ='red', label =\"data\") \n",
        "plt.plot(x, ans, '--', color ='blue', label =\"optimized data\") \n",
        "plt.legend() \n",
        "plt.show() "
      ],
      "execution_count": 0,
      "outputs": [
        {
          "output_type": "stream",
          "text": [
            "Sine funcion coefficients:\n",
            "[-0.70588585  1.71558553]\n",
            "Covariance of coefficients:\n",
            "[[2.84020391 0.03536384]\n",
            " [0.03536384 0.17142439]]\n"
          ],
          "name": "stdout"
        },
        {
          "output_type": "display_data",
          "data": {
            "image/png": "[encoded data removed]",
            "text/plain": [
              "<Figure size 432x288 with 1 Axes>"
            ]
          },
          "metadata": {
            "tags": []
          }
        }
      ]
    },
    {
      "cell_type": "code",
      "metadata": {
        "id": "9YyT8qjkP2MP",
        "colab_type": "code",
        "colab": {}
      },
      "source": [
        "\"\"\"\n",
        "The blue dotted line is undoubtedly the line with best-optimized distances from\n",
        "all points of the dataset, but it fails to provide a sine function with the \n",
        "best fit.\n",
        "\n",
        "Curve Fitting should not be confused with Regression. They both involve \n",
        "approximating data with functions. But the goal of Curve-fitting is to get \n",
        "the values for a Dataset through which a given set of explanatory variables \n",
        "can actually depict another variable. Regression is a special case of curve\n",
        "fitting but here you just don’t need a curve which fits the training data \n",
        "in the best possible way(which may lead to overfitting) but a model which \n",
        "is able to generalize the learning and thus predict new points efficiently.\n",
        "\"\"\""
      ],
      "execution_count": 0,
      "outputs": []
    }
  ]
}