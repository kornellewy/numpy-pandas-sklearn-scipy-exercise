{
  "nbformat": 4,
  "nbformat_minor": 0,
  "metadata": {
    "colab": {
      "name": "np_cw_1",
      "version": "0.3.2",
      "provenance": [],
      "collapsed_sections": [],
      "include_colab_link": true
    },
    "kernelspec": {
      "name": "python3",
      "display_name": "Python 3"
    }
  },
  "cells": [
    {
      "cell_type": "markdown",
      "metadata": {
        "id": "view-in-github",
        "colab_type": "text"
      },
      "source": [
        "<a href=\"https://colab.research.google.com/github/kornellewy/numpy-pandas-sklearn-scipy-exercise/blob/master/np_cw_1.ipynb\" target=\"_parent\"><img src=\"https://colab.research.google.com/assets/colab-badge.svg\" alt=\"Open In Colab\"/></a>"
      ]
    },
    {
      "cell_type": "markdown",
      "metadata": {
        "id": "ZvtZj7HhddkA",
        "colab_type": "text"
      },
      "source": [
        "https://www.machinelearningplus.com/python/101-numpy-exercises-python/"
      ]
    },
    {
      "cell_type": "code",
      "metadata": {
        "id": "3_GSTEM2LkDE",
        "colab_type": "code",
        "colab": {}
      },
      "source": [
        "import numpy as np\n",
        "import pandas as pd\n",
        "import sklearn\n",
        "import scipy"
      ],
      "execution_count": 0,
      "outputs": []
    },
    {
      "cell_type": "code",
      "metadata": {
        "id": "oQabGeEILyaP",
        "colab_type": "code",
        "outputId": "cc74fc8c-8435-48bf-8a09-5a2636ee9be2",
        "colab": {
          "base_uri": "https://localhost:8080/",
          "height": 52
        }
      },
      "source": [
        "# 2. How to create a 1D array?\n",
        "arrey1 = np.array([0, 1, 2, 3, 4, 5, 6, 7, 8, 9])\n",
        "# lub\n",
        "arrey2 = np.arange(10)\n",
        "print(arrey1)\n",
        "print(arrey2)"
      ],
      "execution_count": 0,
      "outputs": [
        {
          "output_type": "stream",
          "text": [
            "[0 1 2 3 4 5 6 7 8 9]\n",
            "[0 1 2 3 4 5 6 7 8 9]\n"
          ],
          "name": "stdout"
        }
      ]
    },
    {
      "cell_type": "code",
      "metadata": {
        "id": "n5GQeuxCMkl2",
        "colab_type": "code",
        "outputId": "2f65631d-13be-469f-d296-f3bbf3343387",
        "colab": {
          "base_uri": "https://localhost:8080/",
          "height": 69
        }
      },
      "source": [
        "# 3. How to create a boolean array?\n",
        "# Create a 3×3 numpy array of all True’s\n",
        "array_bool = np.ones((3,3), dtype=bool)\n",
        "print(array_bool)"
      ],
      "execution_count": 0,
      "outputs": [
        {
          "output_type": "stream",
          "text": [
            "[[ True  True  True]\n",
            " [ True  True  True]\n",
            " [ True  True  True]]\n"
          ],
          "name": "stdout"
        }
      ]
    },
    {
      "cell_type": "code",
      "metadata": {
        "id": "-qnkir-jYf5x",
        "colab_type": "code",
        "outputId": "1470eb90-2e7c-4dc1-d0d7-dfd937987a89",
        "colab": {
          "base_uri": "https://localhost:8080/",
          "height": 34
        }
      },
      "source": [
        "# 4. How to extract items that satisfy a given condition from 1D array?\n",
        "# Extract all odd numbers from array\n",
        "array = np.array([0, 1, 2, 3, 4, 5, 6, 7, 8, 9])\n",
        "array = array[array % 2 == 1]\n",
        "print(array)"
      ],
      "execution_count": 0,
      "outputs": [
        {
          "output_type": "stream",
          "text": [
            "[1 3 5 7 9]\n"
          ],
          "name": "stdout"
        }
      ]
    },
    {
      "cell_type": "code",
      "metadata": {
        "id": "nYd2arAlZPx2",
        "colab_type": "code",
        "outputId": "443aff63-2c06-44cd-fda5-bcddfd41e858",
        "colab": {
          "base_uri": "https://localhost:8080/",
          "height": 34
        }
      },
      "source": [
        "#5. How to replace items\n",
        "# that satisfy a condition with another value in numpy array?\n",
        "#  Replace all odd numbers in arr with -1\n",
        "array = np.array([0, 1, 2, 3, 4, 5, 6, 7, 8, 9])\n",
        "array[array % 2 == 1] = -1\n",
        "print(array)"
      ],
      "execution_count": 0,
      "outputs": [
        {
          "output_type": "stream",
          "text": [
            "[ 0 -1  2 -1  4 -1  6 -1  8 -1]\n"
          ],
          "name": "stdout"
        }
      ]
    },
    {
      "cell_type": "code",
      "metadata": {
        "id": "SumjE7kBZrqC",
        "colab_type": "code",
        "outputId": "0b897eb7-78a3-446f-ef00-62011003451f",
        "colab": {
          "base_uri": "https://localhost:8080/",
          "height": 52
        }
      },
      "source": [
        "# 6. How to replace items that satisfy a condition without affecting \n",
        "#the original array?\n",
        "# Replace all odd numbers in arr with -1 without changing arr\n",
        "array = np.array([0, 1, 2, 3, 4, 5, 6, 7, 8, 9])\n",
        "out = np.where(array % 2 == 1, -1, array)\n",
        "print(out)\n",
        "print(array)"
      ],
      "execution_count": 0,
      "outputs": [
        {
          "output_type": "stream",
          "text": [
            "[ 0 -1  2 -1  4 -1  6 -1  8 -1]\n",
            "[0 1 2 3 4 5 6 7 8 9]\n"
          ],
          "name": "stdout"
        }
      ]
    },
    {
      "cell_type": "code",
      "metadata": {
        "id": "sb5Ogyn4aebm",
        "colab_type": "code",
        "outputId": "f0630035-8a47-4cd4-f0dd-643f50a8cc0c",
        "colab": {
          "base_uri": "https://localhost:8080/",
          "height": 52
        }
      },
      "source": [
        "# 7. How to reshape an array?\n",
        "# Convert a 1D array to a 2D array with 2 rows\n",
        "array = np.array([0, 1, 2, 3, 4, 5, 6, 7, 8, 9])\n",
        "array = array.reshape((2, 5))\n",
        "print(array)"
      ],
      "execution_count": 0,
      "outputs": [
        {
          "output_type": "stream",
          "text": [
            "[[0 1 2 3 4]\n",
            " [5 6 7 8 9]]\n"
          ],
          "name": "stdout"
        }
      ]
    },
    {
      "cell_type": "code",
      "metadata": {
        "id": "FPx0rfRQbBGJ",
        "colab_type": "code",
        "outputId": "3e7be5a0-201f-4be7-cad0-a2b317b44834",
        "colab": {
          "base_uri": "https://localhost:8080/",
          "height": 86
        }
      },
      "source": [
        "# 8. How to stack two arrays vertically?\n",
        "# Stack arrays a and b vertically\n",
        "a = np.arange(10).reshape(2,-1)\n",
        "b = np.repeat(1, 10).reshape(2,-1)\n",
        "# method 1\n",
        "c = np.concatenate([a, b], axis = 0)\n",
        "# method 2\n",
        "c = np.vstack([a, b])\n",
        "# metohd 3\n",
        "c = np.r_[a, b]\n",
        "print(c)"
      ],
      "execution_count": 0,
      "outputs": [
        {
          "output_type": "stream",
          "text": [
            "[[0 1 2 3 4]\n",
            " [5 6 7 8 9]\n",
            " [1 1 1 1 1]\n",
            " [1 1 1 1 1]]\n"
          ],
          "name": "stdout"
        }
      ]
    },
    {
      "cell_type": "code",
      "metadata": {
        "id": "oKNcGADabTbo",
        "colab_type": "code",
        "outputId": "7d91981b-7fe4-460a-e913-a551efa5083c",
        "colab": {
          "base_uri": "https://localhost:8080/",
          "height": 52
        }
      },
      "source": [
        "# 9. How to stack two arrays horizontally?\n",
        "# Stack the arrays a and b horizontally.\n",
        "a = np.arange(10).reshape(2,-1)\n",
        "b = np.repeat(1, 10).reshape(2,-1)\n",
        "# method 1\n",
        "c = np.concatenate([a, b], axis = -1)\n",
        "# method 2\n",
        "c = np.hstack([a, b])\n",
        "# metohd 3\n",
        "c = np.c_[a, b]\n",
        "print(c)"
      ],
      "execution_count": 0,
      "outputs": [
        {
          "output_type": "stream",
          "text": [
            "[[0 1 2 3 4 1 1 1 1 1]\n",
            " [5 6 7 8 9 1 1 1 1 1]]\n"
          ],
          "name": "stdout"
        }
      ]
    },
    {
      "cell_type": "code",
      "metadata": {
        "id": "KmF7awAMc6F4",
        "colab_type": "code",
        "outputId": "4c864ecb-ac3e-47fe-b11a-02a321f6a9f5",
        "colab": {
          "base_uri": "https://localhost:8080/",
          "height": 34
        }
      },
      "source": [
        "# 10. How to generate custom sequences in numpy without hardcoding?\n",
        "# Create the following pattern without hardcoding. \n",
        "# Use only numpy functions and the below input array a.\n",
        "# input\n",
        "a = np.array([1,2,3])\n",
        "#> array([1, 1, 1, 2, 2, 2, 3, 3, 3, 1, 2, 3, 1, 2, 3, 1, 2, 3])\n",
        "output = np.repeat(a, 3)\n",
        "for i in range(3):\n",
        "    output = np.concatenate([output, a], axis = 0)\n",
        "print(output)"
      ],
      "execution_count": 0,
      "outputs": [
        {
          "output_type": "stream",
          "text": [
            "[1 1 1 2 2 2 3 3 3 1 2 3 1 2 3 1 2 3]\n"
          ],
          "name": "stdout"
        }
      ]
    },
    {
      "cell_type": "code",
      "metadata": {
        "id": "gw-gKwSZiBeB",
        "colab_type": "code",
        "outputId": "d5094f8b-91d4-4b2d-bf85-ab32f5d85f87",
        "colab": {
          "base_uri": "https://localhost:8080/",
          "height": 34
        }
      },
      "source": [
        "# 11. How to get the common items between two python numpy arrays?\n",
        "# Get the common items between a and b\n",
        "a = np.array([1,2,3,2,3,4,3,4,5,6])\n",
        "b = np.array([7,2,10,2,7,4,9,4,9,8])\n",
        "output = np.intersect1d(a,b)\n",
        "print(output)"
      ],
      "execution_count": 0,
      "outputs": [
        {
          "output_type": "stream",
          "text": [
            "[2 4]\n"
          ],
          "name": "stdout"
        }
      ]
    },
    {
      "cell_type": "code",
      "metadata": {
        "id": "5byGkQ5zjQ6X",
        "colab_type": "code",
        "outputId": "3fe22acf-452c-4e90-ea76-e8c544c76859",
        "colab": {
          "base_uri": "https://localhost:8080/",
          "height": 34
        }
      },
      "source": [
        "# 12. How to remove from one array those items that exist in another?\n",
        "# From array a remove all items present in array b\n",
        "a = np.array([1,2,3,4,5])\n",
        "b = np.array([5,6,7,8,9])\n",
        "output = np.setdiff1d(a, b)\n",
        "print(output)"
      ],
      "execution_count": 0,
      "outputs": [
        {
          "output_type": "stream",
          "text": [
            "[1 2 3 4]\n"
          ],
          "name": "stdout"
        }
      ]
    },
    {
      "cell_type": "code",
      "metadata": {
        "id": "Xo0MWnB_j6jH",
        "colab_type": "code",
        "outputId": "621bba3d-c5df-4fde-da6f-61c25058e366",
        "colab": {
          "base_uri": "https://localhost:8080/",
          "height": 34
        }
      },
      "source": [
        "# 13. How to get the positions where elements of two arrays match?\n",
        "# Get the positions where elements of a and b match\n",
        "a = np.array([1,2,3,2,3,4,3,4,5,6])\n",
        "b = np.array([7,2,10,2,7,4,9,4,9,8])\n",
        "output = np.where(a==b)\n",
        "print(output)"
      ],
      "execution_count": 0,
      "outputs": [
        {
          "output_type": "stream",
          "text": [
            "(array([1, 3, 5, 7]),)\n"
          ],
          "name": "stdout"
        }
      ]
    },
    {
      "cell_type": "code",
      "metadata": {
        "id": "1MxVxU0UxJNt",
        "colab_type": "code",
        "outputId": "fe6001e9-1cb0-42e5-f8de-f16fdb10484e",
        "colab": {
          "base_uri": "https://localhost:8080/",
          "height": 34
        }
      },
      "source": [
        "# 14. How to extract all numbers between a given range from a numpy array?\n",
        "# Get all items between 5 and 10 from a.\n",
        "a = np.array([2, 6, 1, 9, 10, 3, 27])\n",
        "# method 1\n",
        "b = np.arange(5,11)\n",
        "output = np.intersect1d(a,b)\n",
        "# method 2\n",
        "output = np.where((a>=5) & (a<=10))\n",
        "output = a[output]\n",
        "# method 3\n",
        "output = a[(a>=5) & (a<=10)]\n",
        "print(output)"
      ],
      "execution_count": 0,
      "outputs": [
        {
          "output_type": "stream",
          "text": [
            "[ 6  9 10]\n"
          ],
          "name": "stdout"
        }
      ]
    },
    {
      "cell_type": "code",
      "metadata": {
        "id": "heE_s_gMx6VF",
        "colab_type": "code",
        "outputId": "f99d3d91-6ba4-4e3e-bf96-3bdfcaf64931",
        "colab": {
          "base_uri": "https://localhost:8080/",
          "height": 34
        }
      },
      "source": [
        "# 15. How to make a python function that handles scalars \n",
        "# to work on numpy arrays?\n",
        "# Convert the function maxx that works on two scalars,\n",
        "#  to work on two arrays.\n",
        "\"\"\"\n",
        "def maxx(x, y):\n",
        "    if x >= y:\n",
        "        return x\n",
        "    else:\n",
        "        return y\n",
        "\n",
        "maxx(1, 5)\n",
        "#> 5\n",
        "\"\"\"\n",
        "a = np.array([5, 7, 9, 8, 6, 4, 5])\n",
        "b = np.array([6, 3, 4, 8, 9, 7, 1])\n",
        "\n",
        "def maxx(x, y):\n",
        "    \"\"\"Get the maximum of two items\"\"\"\n",
        "    if x >= y:\n",
        "        return x\n",
        "    else:\n",
        "        return y\n",
        "\n",
        "pair_max = np.vectorize(maxx, otypes=[float])\n",
        "pair_max(a,b)\n"
      ],
      "execution_count": 0,
      "outputs": [
        {
          "output_type": "execute_result",
          "data": {
            "text/plain": [
              "array([6., 7., 9., 8., 9., 7., 5.])"
            ]
          },
          "metadata": {
            "tags": []
          },
          "execution_count": 270
        }
      ]
    },
    {
      "cell_type": "code",
      "metadata": {
        "id": "SVyLRf8d0i3h",
        "colab_type": "code",
        "outputId": "d6bc67eb-b8ec-4e13-bf0b-2d46d1c64c87",
        "colab": {
          "base_uri": "https://localhost:8080/",
          "height": 69
        }
      },
      "source": [
        "# 16. How to swap two columns in a 2d numpy array?\n",
        "# Swap columns 1 and 2 in the array arr.\n",
        "arr = np.arange(9).reshape(3,3)\n",
        "# method 1\n",
        "arr.T[[0,1]] = arr.T[[1,0]]\n",
        "# method 2\n",
        "arr = arr[:, [1,0,2]]\n",
        "print(arr)"
      ],
      "execution_count": 0,
      "outputs": [
        {
          "output_type": "stream",
          "text": [
            "[[0 1 2]\n",
            " [3 4 5]\n",
            " [6 7 8]]\n"
          ],
          "name": "stdout"
        }
      ]
    },
    {
      "cell_type": "code",
      "metadata": {
        "id": "LCe9h0i808wO",
        "colab_type": "code",
        "outputId": "9e6f29b0-fe17-4ed6-9abb-642bc9a58726",
        "colab": {
          "base_uri": "https://localhost:8080/",
          "height": 69
        }
      },
      "source": [
        "# 17. How to swap two rows in a 2d numpy array?\n",
        "# Swap rows 1 and 2 in the array arr:\n",
        "arr = np.arange(9).reshape(3,3)\n",
        "# method 1\n",
        "arr[[0,1]] = arr[[1,0]]\n",
        "# method 2\n",
        "arr = arr[[1,0,2], :]\n",
        "print(arr)"
      ],
      "execution_count": 0,
      "outputs": [
        {
          "output_type": "stream",
          "text": [
            "[[0 1 2]\n",
            " [3 4 5]\n",
            " [6 7 8]]\n"
          ],
          "name": "stdout"
        }
      ]
    },
    {
      "cell_type": "code",
      "metadata": {
        "id": "n5eMJKwd4_6x",
        "colab_type": "code",
        "outputId": "93074e5d-d31e-4fb1-ddbd-047e8fca5226",
        "colab": {
          "base_uri": "https://localhost:8080/",
          "height": 69
        }
      },
      "source": [
        "# 18. How to reverse the rows of a 2D array?\n",
        "# Q. Reverse the rows of a 2D array arr.\n",
        "a = np.arange(9).reshape(3,3)\n",
        "b = a[::-1]\n",
        "print(b)"
      ],
      "execution_count": 0,
      "outputs": [
        {
          "output_type": "stream",
          "text": [
            "[[6 7 8]\n",
            " [3 4 5]\n",
            " [0 1 2]]\n"
          ],
          "name": "stdout"
        }
      ]
    },
    {
      "cell_type": "code",
      "metadata": {
        "id": "FTKpDp4v5_47",
        "colab_type": "code",
        "outputId": "a667b376-0950-4776-de1b-59b7942bf3dc",
        "colab": {
          "base_uri": "https://localhost:8080/",
          "height": 69
        }
      },
      "source": [
        "# 19. How to reverse the columns of a 2D array?\n",
        "a = np.arange(9).reshape(3,3)\n",
        "b = a[:, ::-1]\n",
        "print(b)"
      ],
      "execution_count": 0,
      "outputs": [
        {
          "output_type": "stream",
          "text": [
            "[[2 1 0]\n",
            " [5 4 3]\n",
            " [8 7 6]]\n"
          ],
          "name": "stdout"
        }
      ]
    },
    {
      "cell_type": "code",
      "metadata": {
        "id": "hC69oC9m6elh",
        "colab_type": "code",
        "outputId": "6e090f85-4bda-4e28-d1b7-b63b11bf6e2f",
        "colab": {
          "base_uri": "https://localhost:8080/",
          "height": 104
        }
      },
      "source": [
        "# 20. How to create a 2D array\n",
        "# containing random floats between 5 and 10?\n",
        "a = np.random.randint(low=5, high =10 ,size=(5,5))\n",
        "print(a)"
      ],
      "execution_count": 0,
      "outputs": [
        {
          "output_type": "stream",
          "text": [
            "[[7 7 6 5 5]\n",
            " [9 8 9 7 5]\n",
            " [8 6 7 8 9]\n",
            " [9 6 8 9 9]\n",
            " [8 8 8 6 6]]\n"
          ],
          "name": "stdout"
        }
      ]
    },
    {
      "cell_type": "code",
      "metadata": {
        "id": "PreRJbNU8QcH",
        "colab_type": "code",
        "outputId": "bc5f4ff5-ea47-41c0-d4cd-70cac82f3e94",
        "colab": {
          "base_uri": "https://localhost:8080/",
          "height": 104
        }
      },
      "source": [
        "# 21. How to print only 3 decimal places in python numpy array?\n",
        "a = np.random.random((5,3))\n",
        "np.set_printoptions(precision=3)\n",
        "print(a)"
      ],
      "execution_count": 0,
      "outputs": [
        {
          "output_type": "stream",
          "text": [
            "[[0.299 0.569 0.179]\n",
            " [0.533 0.647 0.142]\n",
            " [0.581 0.479 0.386]\n",
            " [0.44  0.405 0.442]\n",
            " [0.03  0.776 0.551]]\n"
          ],
          "name": "stdout"
        }
      ]
    },
    {
      "cell_type": "code",
      "metadata": {
        "id": "VlblaUZu7gwF",
        "colab_type": "code",
        "outputId": "6cb56ffb-a110-4a0d-a793-307767e1b2b2",
        "colab": {
          "base_uri": "https://localhost:8080/",
          "height": 69
        }
      },
      "source": [
        "# 22. How to pretty print a numpy array \n",
        "# by suppressing the scientific notation (like 1e10)?\n",
        "np.random.seed(100)\n",
        "a = np.random.random([3,3])/1e3\n",
        "np.set_printoptions(precision=6, suppress=True)\n",
        "print(a)"
      ],
      "execution_count": 0,
      "outputs": [
        {
          "output_type": "stream",
          "text": [
            "[[0.000543 0.000278 0.000425]\n",
            " [0.000845 0.000005 0.000122]\n",
            " [0.000671 0.000826 0.000137]]\n"
          ],
          "name": "stdout"
        }
      ]
    },
    {
      "cell_type": "code",
      "metadata": {
        "id": "t80vKkhs9Hnh",
        "colab_type": "code",
        "outputId": "70b21183-e052-4024-96fb-65be69e86f6d",
        "colab": {
          "base_uri": "https://localhost:8080/",
          "height": 69
        }
      },
      "source": [
        "# 25. How to import a dataset with numbers and texts keeping \n",
        "# the text intact in python numpy?\n",
        "url = 'https://archive.ics.uci.edu/ml/machine-learning-databases/iris/iris.data'\n",
        "iris = np.genfromtxt(url, delimiter=',', dtype='object')\n",
        "names = ('sepallength', 'sepalwidth', 'petallength', 'petalwidth',\n",
        "         'species')\n",
        "print(iris[:3])\n"
      ],
      "execution_count": 0,
      "outputs": [
        {
          "output_type": "stream",
          "text": [
            "[[b'5.1' b'3.5' b'1.4' b'0.2' b'Iris-setosa']\n",
            " [b'4.9' b'3.0' b'1.4' b'0.2' b'Iris-setosa']\n",
            " [b'4.7' b'3.2' b'1.3' b'0.2' b'Iris-setosa']]\n"
          ],
          "name": "stdout"
        }
      ]
    },
    {
      "cell_type": "code",
      "metadata": {
        "id": "7ebwsprh9vkQ",
        "colab_type": "code",
        "outputId": "5bc4e1fc-6c01-4d6e-8534-2d0a5e69e000",
        "colab": {
          "base_uri": "https://localhost:8080/",
          "height": 888
        }
      },
      "source": [
        "# 26. How to extract a particular column from 1D array of tuples?\n",
        "# Extract the text column species from the \n",
        "# 1D iris imported in previous question.\n",
        "url = 'https://archive.ics.uci.edu/ml/machine-learning-databases/iris/iris.data'\n",
        "iris = np.genfromtxt(url, delimiter=',', dtype=None)\n",
        "speace = np.array([row[4] for row in iris])\n",
        "speace"
      ],
      "execution_count": 0,
      "outputs": [
        {
          "output_type": "stream",
          "text": [
            "/usr/local/lib/python3.6/dist-packages/ipykernel_launcher.py:2: VisibleDeprecationWarning: Reading unicode strings without specifying the encoding argument is deprecated. Set the encoding, use None for the system default.\n",
            "  \n"
          ],
          "name": "stderr"
        },
        {
          "output_type": "execute_result",
          "data": {
            "text/plain": [
              "array([b'Iris-setosa', b'Iris-setosa', b'Iris-setosa', b'Iris-setosa',\n",
              "       b'Iris-setosa', b'Iris-setosa', b'Iris-setosa', b'Iris-setosa',\n",
              "       b'Iris-setosa', b'Iris-setosa', b'Iris-setosa', b'Iris-setosa',\n",
              "       b'Iris-setosa', b'Iris-setosa', b'Iris-setosa', b'Iris-setosa',\n",
              "       b'Iris-setosa', b'Iris-setosa', b'Iris-setosa', b'Iris-setosa',\n",
              "       b'Iris-setosa', b'Iris-setosa', b'Iris-setosa', b'Iris-setosa',\n",
              "       b'Iris-setosa', b'Iris-setosa', b'Iris-setosa', b'Iris-setosa',\n",
              "       b'Iris-setosa', b'Iris-setosa', b'Iris-setosa', b'Iris-setosa',\n",
              "       b'Iris-setosa', b'Iris-setosa', b'Iris-setosa', b'Iris-setosa',\n",
              "       b'Iris-setosa', b'Iris-setosa', b'Iris-setosa', b'Iris-setosa',\n",
              "       b'Iris-setosa', b'Iris-setosa', b'Iris-setosa', b'Iris-setosa',\n",
              "       b'Iris-setosa', b'Iris-setosa', b'Iris-setosa', b'Iris-setosa',\n",
              "       b'Iris-setosa', b'Iris-setosa', b'Iris-versicolor',\n",
              "       b'Iris-versicolor', b'Iris-versicolor', b'Iris-versicolor',\n",
              "       b'Iris-versicolor', b'Iris-versicolor', b'Iris-versicolor',\n",
              "       b'Iris-versicolor', b'Iris-versicolor', b'Iris-versicolor',\n",
              "       b'Iris-versicolor', b'Iris-versicolor', b'Iris-versicolor',\n",
              "       b'Iris-versicolor', b'Iris-versicolor', b'Iris-versicolor',\n",
              "       b'Iris-versicolor', b'Iris-versicolor', b'Iris-versicolor',\n",
              "       b'Iris-versicolor', b'Iris-versicolor', b'Iris-versicolor',\n",
              "       b'Iris-versicolor', b'Iris-versicolor', b'Iris-versicolor',\n",
              "       b'Iris-versicolor', b'Iris-versicolor', b'Iris-versicolor',\n",
              "       b'Iris-versicolor', b'Iris-versicolor', b'Iris-versicolor',\n",
              "       b'Iris-versicolor', b'Iris-versicolor', b'Iris-versicolor',\n",
              "       b'Iris-versicolor', b'Iris-versicolor', b'Iris-versicolor',\n",
              "       b'Iris-versicolor', b'Iris-versicolor', b'Iris-versicolor',\n",
              "       b'Iris-versicolor', b'Iris-versicolor', b'Iris-versicolor',\n",
              "       b'Iris-versicolor', b'Iris-versicolor', b'Iris-versicolor',\n",
              "       b'Iris-versicolor', b'Iris-versicolor', b'Iris-versicolor',\n",
              "       b'Iris-versicolor', b'Iris-virginica', b'Iris-virginica',\n",
              "       b'Iris-virginica', b'Iris-virginica', b'Iris-virginica',\n",
              "       b'Iris-virginica', b'Iris-virginica', b'Iris-virginica',\n",
              "       b'Iris-virginica', b'Iris-virginica', b'Iris-virginica',\n",
              "       b'Iris-virginica', b'Iris-virginica', b'Iris-virginica',\n",
              "       b'Iris-virginica', b'Iris-virginica', b'Iris-virginica',\n",
              "       b'Iris-virginica', b'Iris-virginica', b'Iris-virginica',\n",
              "       b'Iris-virginica', b'Iris-virginica', b'Iris-virginica',\n",
              "       b'Iris-virginica', b'Iris-virginica', b'Iris-virginica',\n",
              "       b'Iris-virginica', b'Iris-virginica', b'Iris-virginica',\n",
              "       b'Iris-virginica', b'Iris-virginica', b'Iris-virginica',\n",
              "       b'Iris-virginica', b'Iris-virginica', b'Iris-virginica',\n",
              "       b'Iris-virginica', b'Iris-virginica', b'Iris-virginica',\n",
              "       b'Iris-virginica', b'Iris-virginica', b'Iris-virginica',\n",
              "       b'Iris-virginica', b'Iris-virginica', b'Iris-virginica',\n",
              "       b'Iris-virginica', b'Iris-virginica', b'Iris-virginica',\n",
              "       b'Iris-virginica', b'Iris-virginica', b'Iris-virginica'],\n",
              "      dtype='|S18')"
            ]
          },
          "metadata": {
            "tags": []
          },
          "execution_count": 279
        }
      ]
    },
    {
      "cell_type": "code",
      "metadata": {
        "id": "MFSluxWT-jBP",
        "colab_type": "code",
        "outputId": "b8b234a9-64b0-4090-ade6-cbd3b7ca07e3",
        "colab": {
          "base_uri": "https://localhost:8080/",
          "height": 1000
        }
      },
      "source": [
        "# 27. How to convert a 1d array of tuples to a 2d numpy array?\n",
        "# Convert the 1D iris to 2D array iris_2d \n",
        "# by omitting the species text field.\n",
        "url = 'https://archive.ics.uci.edu/ml/machine-learning-databases/iris/iris.data'\n",
        "iris = np.genfromtxt(url, delimiter=',', dtype=None)\n",
        "# method 1\n",
        "iris = np.array([row.tolist()[:4] for row in iris])\n",
        "# method 2\n",
        "iris = np.genfromtxt(url, delimiter=',', dtype=None, usecols=[0,1,2,3])\n",
        "print(iris)"
      ],
      "execution_count": 0,
      "outputs": [
        {
          "output_type": "stream",
          "text": [
            "[[5.1 3.5 1.4 0.2]\n",
            " [4.9 3.  1.4 0.2]\n",
            " [4.7 3.2 1.3 0.2]\n",
            " [4.6 3.1 1.5 0.2]\n",
            " [5.  3.6 1.4 0.2]\n",
            " [5.4 3.9 1.7 0.4]\n",
            " [4.6 3.4 1.4 0.3]\n",
            " [5.  3.4 1.5 0.2]\n",
            " [4.4 2.9 1.4 0.2]\n",
            " [4.9 3.1 1.5 0.1]\n",
            " [5.4 3.7 1.5 0.2]\n",
            " [4.8 3.4 1.6 0.2]\n",
            " [4.8 3.  1.4 0.1]\n",
            " [4.3 3.  1.1 0.1]\n",
            " [5.8 4.  1.2 0.2]\n",
            " [5.7 4.4 1.5 0.4]\n",
            " [5.4 3.9 1.3 0.4]\n",
            " [5.1 3.5 1.4 0.3]\n",
            " [5.7 3.8 1.7 0.3]\n",
            " [5.1 3.8 1.5 0.3]\n",
            " [5.4 3.4 1.7 0.2]\n",
            " [5.1 3.7 1.5 0.4]\n",
            " [4.6 3.6 1.  0.2]\n",
            " [5.1 3.3 1.7 0.5]\n",
            " [4.8 3.4 1.9 0.2]\n",
            " [5.  3.  1.6 0.2]\n",
            " [5.  3.4 1.6 0.4]\n",
            " [5.2 3.5 1.5 0.2]\n",
            " [5.2 3.4 1.4 0.2]\n",
            " [4.7 3.2 1.6 0.2]\n",
            " [4.8 3.1 1.6 0.2]\n",
            " [5.4 3.4 1.5 0.4]\n",
            " [5.2 4.1 1.5 0.1]\n",
            " [5.5 4.2 1.4 0.2]\n",
            " [4.9 3.1 1.5 0.1]\n",
            " [5.  3.2 1.2 0.2]\n",
            " [5.5 3.5 1.3 0.2]\n",
            " [4.9 3.1 1.5 0.1]\n",
            " [4.4 3.  1.3 0.2]\n",
            " [5.1 3.4 1.5 0.2]\n",
            " [5.  3.5 1.3 0.3]\n",
            " [4.5 2.3 1.3 0.3]\n",
            " [4.4 3.2 1.3 0.2]\n",
            " [5.  3.5 1.6 0.6]\n",
            " [5.1 3.8 1.9 0.4]\n",
            " [4.8 3.  1.4 0.3]\n",
            " [5.1 3.8 1.6 0.2]\n",
            " [4.6 3.2 1.4 0.2]\n",
            " [5.3 3.7 1.5 0.2]\n",
            " [5.  3.3 1.4 0.2]\n",
            " [7.  3.2 4.7 1.4]\n",
            " [6.4 3.2 4.5 1.5]\n",
            " [6.9 3.1 4.9 1.5]\n",
            " [5.5 2.3 4.  1.3]\n",
            " [6.5 2.8 4.6 1.5]\n",
            " [5.7 2.8 4.5 1.3]\n",
            " [6.3 3.3 4.7 1.6]\n",
            " [4.9 2.4 3.3 1. ]\n",
            " [6.6 2.9 4.6 1.3]\n",
            " [5.2 2.7 3.9 1.4]\n",
            " [5.  2.  3.5 1. ]\n",
            " [5.9 3.  4.2 1.5]\n",
            " [6.  2.2 4.  1. ]\n",
            " [6.1 2.9 4.7 1.4]\n",
            " [5.6 2.9 3.6 1.3]\n",
            " [6.7 3.1 4.4 1.4]\n",
            " [5.6 3.  4.5 1.5]\n",
            " [5.8 2.7 4.1 1. ]\n",
            " [6.2 2.2 4.5 1.5]\n",
            " [5.6 2.5 3.9 1.1]\n",
            " [5.9 3.2 4.8 1.8]\n",
            " [6.1 2.8 4.  1.3]\n",
            " [6.3 2.5 4.9 1.5]\n",
            " [6.1 2.8 4.7 1.2]\n",
            " [6.4 2.9 4.3 1.3]\n",
            " [6.6 3.  4.4 1.4]\n",
            " [6.8 2.8 4.8 1.4]\n",
            " [6.7 3.  5.  1.7]\n",
            " [6.  2.9 4.5 1.5]\n",
            " [5.7 2.6 3.5 1. ]\n",
            " [5.5 2.4 3.8 1.1]\n",
            " [5.5 2.4 3.7 1. ]\n",
            " [5.8 2.7 3.9 1.2]\n",
            " [6.  2.7 5.1 1.6]\n",
            " [5.4 3.  4.5 1.5]\n",
            " [6.  3.4 4.5 1.6]\n",
            " [6.7 3.1 4.7 1.5]\n",
            " [6.3 2.3 4.4 1.3]\n",
            " [5.6 3.  4.1 1.3]\n",
            " [5.5 2.5 4.  1.3]\n",
            " [5.5 2.6 4.4 1.2]\n",
            " [6.1 3.  4.6 1.4]\n",
            " [5.8 2.6 4.  1.2]\n",
            " [5.  2.3 3.3 1. ]\n",
            " [5.6 2.7 4.2 1.3]\n",
            " [5.7 3.  4.2 1.2]\n",
            " [5.7 2.9 4.2 1.3]\n",
            " [6.2 2.9 4.3 1.3]\n",
            " [5.1 2.5 3.  1.1]\n",
            " [5.7 2.8 4.1 1.3]\n",
            " [6.3 3.3 6.  2.5]\n",
            " [5.8 2.7 5.1 1.9]\n",
            " [7.1 3.  5.9 2.1]\n",
            " [6.3 2.9 5.6 1.8]\n",
            " [6.5 3.  5.8 2.2]\n",
            " [7.6 3.  6.6 2.1]\n",
            " [4.9 2.5 4.5 1.7]\n",
            " [7.3 2.9 6.3 1.8]\n",
            " [6.7 2.5 5.8 1.8]\n",
            " [7.2 3.6 6.1 2.5]\n",
            " [6.5 3.2 5.1 2. ]\n",
            " [6.4 2.7 5.3 1.9]\n",
            " [6.8 3.  5.5 2.1]\n",
            " [5.7 2.5 5.  2. ]\n",
            " [5.8 2.8 5.1 2.4]\n",
            " [6.4 3.2 5.3 2.3]\n",
            " [6.5 3.  5.5 1.8]\n",
            " [7.7 3.8 6.7 2.2]\n",
            " [7.7 2.6 6.9 2.3]\n",
            " [6.  2.2 5.  1.5]\n",
            " [6.9 3.2 5.7 2.3]\n",
            " [5.6 2.8 4.9 2. ]\n",
            " [7.7 2.8 6.7 2. ]\n",
            " [6.3 2.7 4.9 1.8]\n",
            " [6.7 3.3 5.7 2.1]\n",
            " [7.2 3.2 6.  1.8]\n",
            " [6.2 2.8 4.8 1.8]\n",
            " [6.1 3.  4.9 1.8]\n",
            " [6.4 2.8 5.6 2.1]\n",
            " [7.2 3.  5.8 1.6]\n",
            " [7.4 2.8 6.1 1.9]\n",
            " [7.9 3.8 6.4 2. ]\n",
            " [6.4 2.8 5.6 2.2]\n",
            " [6.3 2.8 5.1 1.5]\n",
            " [6.1 2.6 5.6 1.4]\n",
            " [7.7 3.  6.1 2.3]\n",
            " [6.3 3.4 5.6 2.4]\n",
            " [6.4 3.1 5.5 1.8]\n",
            " [6.  3.  4.8 1.8]\n",
            " [6.9 3.1 5.4 2.1]\n",
            " [6.7 3.1 5.6 2.4]\n",
            " [6.9 3.1 5.1 2.3]\n",
            " [5.8 2.7 5.1 1.9]\n",
            " [6.8 3.2 5.9 2.3]\n",
            " [6.7 3.3 5.7 2.5]\n",
            " [6.7 3.  5.2 2.3]\n",
            " [6.3 2.5 5.  1.9]\n",
            " [6.5 3.  5.2 2. ]\n",
            " [6.2 3.4 5.4 2.3]\n",
            " [5.9 3.  5.1 1.8]]\n"
          ],
          "name": "stdout"
        },
        {
          "output_type": "stream",
          "text": [
            "/usr/local/lib/python3.6/dist-packages/ipykernel_launcher.py:2: VisibleDeprecationWarning: Reading unicode strings without specifying the encoding argument is deprecated. Set the encoding, use None for the system default.\n",
            "  \n"
          ],
          "name": "stderr"
        }
      ]
    },
    {
      "cell_type": "code",
      "metadata": {
        "id": "i6VoSIQYL_Jp",
        "colab_type": "code",
        "outputId": "9c0fd2c7-092c-4935-d5f9-dc8f9fa64a7c",
        "colab": {
          "base_uri": "https://localhost:8080/",
          "height": 34
        }
      },
      "source": [
        "# 28. How to compute the mean, median, \n",
        "# standard deviation of a numpy array?\n",
        "# Find the mean, median, \n",
        "# standard deviation of iris's sepallength (1st column)\n",
        "url = 'https://archive.ics.uci.edu/ml/machine-learning-databases/iris/iris.data'\n",
        "sepallength = np.genfromtxt(url, delimiter=',', dtype='float', usecols=[0])\n",
        "info = (np.median(sepallength), np.mean(sepallength), np.std(sepallength))\n",
        "print(info)"
      ],
      "execution_count": 0,
      "outputs": [
        {
          "output_type": "stream",
          "text": [
            "(5.8, 5.843333333333334, 0.8253012917851409)\n"
          ],
          "name": "stdout"
        }
      ]
    },
    {
      "cell_type": "code",
      "metadata": {
        "id": "Fh-n-HbPOBps",
        "colab_type": "code",
        "outputId": "fe955bb6-ea93-4644-894e-61efe58a4d3f",
        "colab": {
          "base_uri": "https://localhost:8080/",
          "height": 347
        }
      },
      "source": [
        "# 29. How to normalize an array so the values range\n",
        "# exactly between 0 and 1?\n",
        "# Create a normalized form of iriss sepallength whose values\n",
        "# range exactly between 0 and 1 so that the minimum has value\n",
        "# 0 and maximum has value 1\n",
        "url = 'https://archive.ics.uci.edu/ml/machine-learning-databases/iris/iris.data'\n",
        "sepallength = np.genfromtxt(url, delimiter=',', dtype='float', usecols=[0])\n",
        "sepallength = (sepallength - np.min(sepallength))/np.ptp(sepallength)\n",
        "print(sepallength)"
      ],
      "execution_count": 0,
      "outputs": [
        {
          "output_type": "stream",
          "text": [
            "[0.222222 0.166667 0.111111 0.083333 0.194444 0.305556 0.083333 0.194444\n",
            " 0.027778 0.166667 0.305556 0.138889 0.138889 0.       0.416667 0.388889\n",
            " 0.305556 0.222222 0.388889 0.222222 0.305556 0.222222 0.083333 0.222222\n",
            " 0.138889 0.194444 0.194444 0.25     0.25     0.111111 0.138889 0.305556\n",
            " 0.25     0.333333 0.166667 0.194444 0.333333 0.166667 0.027778 0.222222\n",
            " 0.194444 0.055556 0.027778 0.194444 0.222222 0.138889 0.222222 0.083333\n",
            " 0.277778 0.194444 0.75     0.583333 0.722222 0.333333 0.611111 0.388889\n",
            " 0.555556 0.166667 0.638889 0.25     0.194444 0.444444 0.472222 0.5\n",
            " 0.361111 0.666667 0.361111 0.416667 0.527778 0.361111 0.444444 0.5\n",
            " 0.555556 0.5      0.583333 0.638889 0.694444 0.666667 0.472222 0.388889\n",
            " 0.333333 0.333333 0.416667 0.472222 0.305556 0.472222 0.666667 0.555556\n",
            " 0.361111 0.333333 0.333333 0.5      0.416667 0.194444 0.361111 0.388889\n",
            " 0.388889 0.527778 0.222222 0.388889 0.555556 0.416667 0.777778 0.555556\n",
            " 0.611111 0.916667 0.166667 0.833333 0.666667 0.805556 0.611111 0.583333\n",
            " 0.694444 0.388889 0.416667 0.583333 0.611111 0.944444 0.944444 0.472222\n",
            " 0.722222 0.361111 0.944444 0.555556 0.666667 0.805556 0.527778 0.5\n",
            " 0.583333 0.805556 0.861111 1.       0.583333 0.555556 0.5      0.944444\n",
            " 0.555556 0.583333 0.472222 0.722222 0.666667 0.722222 0.416667 0.694444\n",
            " 0.666667 0.666667 0.555556 0.611111 0.527778 0.444444]\n"
          ],
          "name": "stdout"
        }
      ]
    },
    {
      "cell_type": "code",
      "metadata": {
        "id": "ldEBZHEVPg52",
        "colab_type": "code",
        "outputId": "13e0b14a-2076-4e55-a9af-7d9c4f9d3098",
        "colab": {
          "base_uri": "https://localhost:8080/",
          "height": 347
        }
      },
      "source": [
        "# 30. How to compute the softmax score? \n",
        "# softmax  = e ^ x / sum(e ^ x)\n",
        "# Compute the softmax score of sepallength.\n",
        "url = 'https://archive.ics.uci.edu/ml/machine-learning-databases/iris/iris.data'\n",
        "sepallength = np.genfromtxt(url, delimiter=',', dtype='float', usecols=[0])\n",
        "e_x = np.array([np.exp(row) for row in sepallength])\n",
        "softmax = np.array([row/np.sum(e_x) for row in e_x])\n",
        "print(softmax)"
      ],
      "execution_count": 0,
      "outputs": [
        {
          "output_type": "stream",
          "text": [
            "[0.00222  0.001817 0.001488 0.001346 0.002008 0.002996 0.001346 0.002008\n",
            " 0.001102 0.001817 0.002996 0.001644 0.001644 0.000997 0.00447  0.004044\n",
            " 0.002996 0.00222  0.004044 0.00222  0.002996 0.00222  0.001346 0.00222\n",
            " 0.001644 0.002008 0.002008 0.002453 0.002453 0.001488 0.001644 0.002996\n",
            " 0.002453 0.003311 0.001817 0.002008 0.003311 0.001817 0.001102 0.00222\n",
            " 0.002008 0.001218 0.001102 0.002008 0.00222  0.001644 0.00222  0.001346\n",
            " 0.002711 0.002008 0.01484  0.008144 0.013428 0.003311 0.009001 0.004044\n",
            " 0.007369 0.001817 0.009947 0.002453 0.002008 0.00494  0.005459 0.006033\n",
            " 0.003659 0.010994 0.003659 0.00447  0.006668 0.003659 0.00494  0.006033\n",
            " 0.007369 0.006033 0.008144 0.009947 0.01215  0.010994 0.005459 0.004044\n",
            " 0.003311 0.003311 0.00447  0.005459 0.002996 0.005459 0.010994 0.007369\n",
            " 0.003659 0.003311 0.003311 0.006033 0.00447  0.002008 0.003659 0.004044\n",
            " 0.004044 0.006668 0.00222  0.004044 0.007369 0.00447  0.016401 0.007369\n",
            " 0.009001 0.02704  0.001817 0.020032 0.010994 0.018126 0.009001 0.008144\n",
            " 0.01215  0.004044 0.00447  0.008144 0.009001 0.029884 0.029884 0.005459\n",
            " 0.013428 0.003659 0.029884 0.007369 0.010994 0.018126 0.006668 0.006033\n",
            " 0.008144 0.018126 0.022139 0.0365   0.008144 0.007369 0.006033 0.029884\n",
            " 0.007369 0.008144 0.005459 0.013428 0.010994 0.013428 0.00447  0.01215\n",
            " 0.010994 0.010994 0.007369 0.009001 0.006668 0.00494 ]\n"
          ],
          "name": "stdout"
        }
      ]
    },
    {
      "cell_type": "code",
      "metadata": {
        "id": "ZpjAPO3MSEsx",
        "colab_type": "code",
        "outputId": "e1d1328b-2461-4bff-c79d-4580ae9198c2",
        "colab": {
          "base_uri": "https://localhost:8080/",
          "height": 34
        }
      },
      "source": [
        "# 31. How to find the percentile scores of a numpy array?\n",
        "# Find the 5th and 95th percentile of iris's sepallength\n",
        "url = 'https://archive.ics.uci.edu/ml/machine-learning-databases/iris/iris.data'\n",
        "sepallength = np.genfromtxt(url, delimiter=',', dtype='float', usecols=[0])\n",
        "np.percentile(sepallength, q=[5, 95])"
      ],
      "execution_count": 0,
      "outputs": [
        {
          "output_type": "execute_result",
          "data": {
            "text/plain": [
              "array([4.6  , 7.255])"
            ]
          },
          "metadata": {
            "tags": []
          },
          "execution_count": 284
        }
      ]
    },
    {
      "cell_type": "code",
      "metadata": {
        "id": "mLKHQVvcT_Hd",
        "colab_type": "code",
        "outputId": "f771284c-4268-46f3-88a8-a964538d1f8d",
        "colab": {
          "base_uri": "https://localhost:8080/",
          "height": 1000
        }
      },
      "source": [
        "# 32. How to insert values at random positions in an array?\n",
        "# Q. Insert np.nan values at 20 random positions in iris dataset\n",
        "url = 'https://archive.ics.uci.edu/ml/machine-learning-databases/iris/iris.data'\n",
        "iris = np.genfromtxt(url, delimiter=',', dtype='object')\n",
        "np.random.seed(100)\n",
        "iris[np.random.randint(150, size=20),\n",
        "     np.random.randint(4, size=20)] = np.nan\n",
        "print(iris)\n"
      ],
      "execution_count": 0,
      "outputs": [
        {
          "output_type": "stream",
          "text": [
            "[[b'5.1' b'3.5' b'1.4' b'0.2' b'Iris-setosa']\n",
            " [b'4.9' b'3.0' b'1.4' b'0.2' b'Iris-setosa']\n",
            " [b'4.7' b'3.2' b'1.3' b'0.2' b'Iris-setosa']\n",
            " [b'4.6' b'3.1' b'1.5' b'0.2' b'Iris-setosa']\n",
            " [b'5.0' b'3.6' b'1.4' b'0.2' b'Iris-setosa']\n",
            " [b'5.4' b'3.9' b'1.7' b'0.4' b'Iris-setosa']\n",
            " [b'4.6' b'3.4' b'1.4' b'0.3' b'Iris-setosa']\n",
            " [b'5.0' b'3.4' b'1.5' b'0.2' b'Iris-setosa']\n",
            " [b'4.4' nan b'1.4' b'0.2' b'Iris-setosa']\n",
            " [b'4.9' b'3.1' b'1.5' b'0.1' b'Iris-setosa']\n",
            " [b'5.4' b'3.7' b'1.5' b'0.2' b'Iris-setosa']\n",
            " [b'4.8' b'3.4' b'1.6' b'0.2' b'Iris-setosa']\n",
            " [b'4.8' b'3.0' b'1.4' b'0.1' b'Iris-setosa']\n",
            " [b'4.3' b'3.0' b'1.1' b'0.1' b'Iris-setosa']\n",
            " [nan b'4.0' b'1.2' b'0.2' b'Iris-setosa']\n",
            " [b'5.7' b'4.4' b'1.5' b'0.4' b'Iris-setosa']\n",
            " [b'5.4' b'3.9' b'1.3' b'0.4' b'Iris-setosa']\n",
            " [b'5.1' b'3.5' b'1.4' b'0.3' b'Iris-setosa']\n",
            " [b'5.7' b'3.8' b'1.7' b'0.3' b'Iris-setosa']\n",
            " [b'5.1' b'3.8' b'1.5' b'0.3' b'Iris-setosa']\n",
            " [b'5.4' b'3.4' b'1.7' b'0.2' b'Iris-setosa']\n",
            " [b'5.1' b'3.7' b'1.5' b'0.4' b'Iris-setosa']\n",
            " [b'4.6' b'3.6' b'1.0' b'0.2' b'Iris-setosa']\n",
            " [b'5.1' b'3.3' b'1.7' b'0.5' b'Iris-setosa']\n",
            " [b'4.8' b'3.4' nan nan b'Iris-setosa']\n",
            " [b'5.0' b'3.0' b'1.6' b'0.2' b'Iris-setosa']\n",
            " [b'5.0' b'3.4' b'1.6' b'0.4' b'Iris-setosa']\n",
            " [b'5.2' b'3.5' b'1.5' b'0.2' b'Iris-setosa']\n",
            " [b'5.2' b'3.4' b'1.4' b'0.2' b'Iris-setosa']\n",
            " [b'4.7' b'3.2' b'1.6' b'0.2' b'Iris-setosa']\n",
            " [b'4.8' b'3.1' b'1.6' b'0.2' b'Iris-setosa']\n",
            " [b'5.4' b'3.4' b'1.5' b'0.4' b'Iris-setosa']\n",
            " [b'5.2' b'4.1' b'1.5' b'0.1' b'Iris-setosa']\n",
            " [b'5.5' b'4.2' b'1.4' b'0.2' b'Iris-setosa']\n",
            " [nan b'3.1' b'1.5' b'0.1' b'Iris-setosa']\n",
            " [b'5.0' b'3.2' b'1.2' b'0.2' b'Iris-setosa']\n",
            " [b'5.5' b'3.5' b'1.3' b'0.2' b'Iris-setosa']\n",
            " [b'4.9' b'3.1' b'1.5' b'0.1' b'Iris-setosa']\n",
            " [b'4.4' b'3.0' b'1.3' b'0.2' b'Iris-setosa']\n",
            " [b'5.1' b'3.4' b'1.5' b'0.2' b'Iris-setosa']\n",
            " [b'5.0' b'3.5' b'1.3' b'0.3' b'Iris-setosa']\n",
            " [b'4.5' b'2.3' b'1.3' b'0.3' b'Iris-setosa']\n",
            " [b'4.4' b'3.2' b'1.3' b'0.2' b'Iris-setosa']\n",
            " [b'5.0' b'3.5' b'1.6' b'0.6' b'Iris-setosa']\n",
            " [b'5.1' b'3.8' b'1.9' b'0.4' b'Iris-setosa']\n",
            " [b'4.8' b'3.0' b'1.4' b'0.3' b'Iris-setosa']\n",
            " [b'5.1' b'3.8' b'1.6' b'0.2' b'Iris-setosa']\n",
            " [b'4.6' b'3.2' b'1.4' b'0.2' b'Iris-setosa']\n",
            " [b'5.3' b'3.7' b'1.5' b'0.2' b'Iris-setosa']\n",
            " [b'5.0' b'3.3' b'1.4' b'0.2' b'Iris-setosa']\n",
            " [b'7.0' b'3.2' b'4.7' b'1.4' b'Iris-versicolor']\n",
            " [b'6.4' b'3.2' b'4.5' b'1.5' b'Iris-versicolor']\n",
            " [b'6.9' b'3.1' b'4.9' b'1.5' b'Iris-versicolor']\n",
            " [b'5.5' nan b'4.0' b'1.3' b'Iris-versicolor']\n",
            " [b'6.5' b'2.8' b'4.6' b'1.5' b'Iris-versicolor']\n",
            " [b'5.7' b'2.8' b'4.5' b'1.3' b'Iris-versicolor']\n",
            " [b'6.3' b'3.3' b'4.7' b'1.6' b'Iris-versicolor']\n",
            " [b'4.9' b'2.4' b'3.3' b'1.0' b'Iris-versicolor']\n",
            " [b'6.6' nan b'4.6' b'1.3' b'Iris-versicolor']\n",
            " [b'5.2' b'2.7' b'3.9' b'1.4' b'Iris-versicolor']\n",
            " [b'5.0' b'2.0' b'3.5' nan b'Iris-versicolor']\n",
            " [b'5.9' b'3.0' b'4.2' b'1.5' b'Iris-versicolor']\n",
            " [b'6.0' b'2.2' b'4.0' b'1.0' b'Iris-versicolor']\n",
            " [b'6.1' b'2.9' b'4.7' b'1.4' b'Iris-versicolor']\n",
            " [b'5.6' b'2.9' b'3.6' b'1.3' b'Iris-versicolor']\n",
            " [b'6.7' b'3.1' b'4.4' b'1.4' b'Iris-versicolor']\n",
            " [b'5.6' b'3.0' b'4.5' nan b'Iris-versicolor']\n",
            " [b'5.8' b'2.7' nan b'1.0' b'Iris-versicolor']\n",
            " [b'6.2' b'2.2' b'4.5' b'1.5' b'Iris-versicolor']\n",
            " [b'5.6' b'2.5' b'3.9' b'1.1' b'Iris-versicolor']\n",
            " [b'5.9' b'3.2' b'4.8' b'1.8' b'Iris-versicolor']\n",
            " [b'6.1' b'2.8' b'4.0' b'1.3' b'Iris-versicolor']\n",
            " [b'6.3' b'2.5' b'4.9' b'1.5' b'Iris-versicolor']\n",
            " [b'6.1' b'2.8' b'4.7' b'1.2' b'Iris-versicolor']\n",
            " [b'6.4' b'2.9' b'4.3' b'1.3' b'Iris-versicolor']\n",
            " [b'6.6' b'3.0' b'4.4' b'1.4' b'Iris-versicolor']\n",
            " [b'6.8' b'2.8' b'4.8' b'1.4' b'Iris-versicolor']\n",
            " [b'6.7' b'3.0' b'5.0' b'1.7' b'Iris-versicolor']\n",
            " [b'6.0' b'2.9' b'4.5' b'1.5' b'Iris-versicolor']\n",
            " [nan b'2.6' b'3.5' b'1.0' b'Iris-versicolor']\n",
            " [b'5.5' b'2.4' b'3.8' b'1.1' b'Iris-versicolor']\n",
            " [b'5.5' b'2.4' b'3.7' b'1.0' b'Iris-versicolor']\n",
            " [b'5.8' b'2.7' b'3.9' b'1.2' b'Iris-versicolor']\n",
            " [b'6.0' b'2.7' b'5.1' b'1.6' b'Iris-versicolor']\n",
            " [b'5.4' b'3.0' b'4.5' b'1.5' b'Iris-versicolor']\n",
            " [b'6.0' b'3.4' b'4.5' b'1.6' b'Iris-versicolor']\n",
            " [b'6.7' b'3.1' b'4.7' b'1.5' b'Iris-versicolor']\n",
            " [nan b'2.3' b'4.4' b'1.3' b'Iris-versicolor']\n",
            " [b'5.6' b'3.0' b'4.1' b'1.3' b'Iris-versicolor']\n",
            " [b'5.5' b'2.5' b'4.0' b'1.3' b'Iris-versicolor']\n",
            " [b'5.5' b'2.6' b'4.4' b'1.2' b'Iris-versicolor']\n",
            " [b'6.1' b'3.0' b'4.6' b'1.4' b'Iris-versicolor']\n",
            " [b'5.8' b'2.6' b'4.0' b'1.2' b'Iris-versicolor']\n",
            " [b'5.0' b'2.3' b'3.3' b'1.0' b'Iris-versicolor']\n",
            " [b'5.6' nan b'4.2' b'1.3' b'Iris-versicolor']\n",
            " [b'5.7' b'3.0' b'4.2' b'1.2' b'Iris-versicolor']\n",
            " [b'5.7' b'2.9' b'4.2' b'1.3' b'Iris-versicolor']\n",
            " [b'6.2' b'2.9' b'4.3' b'1.3' b'Iris-versicolor']\n",
            " [b'5.1' nan b'3.0' b'1.1' b'Iris-versicolor']\n",
            " [b'5.7' b'2.8' b'4.1' b'1.3' b'Iris-versicolor']\n",
            " [b'6.3' b'3.3' b'6.0' b'2.5' b'Iris-virginica']\n",
            " [b'5.8' b'2.7' b'5.1' b'1.9' b'Iris-virginica']\n",
            " [b'7.1' b'3.0' b'5.9' b'2.1' b'Iris-virginica']\n",
            " [b'6.3' b'2.9' b'5.6' nan b'Iris-virginica']\n",
            " [b'6.5' b'3.0' b'5.8' b'2.2' b'Iris-virginica']\n",
            " [b'7.6' b'3.0' b'6.6' b'2.1' b'Iris-virginica']\n",
            " [b'4.9' b'2.5' b'4.5' b'1.7' b'Iris-virginica']\n",
            " [b'7.3' b'2.9' b'6.3' nan b'Iris-virginica']\n",
            " [b'6.7' b'2.5' b'5.8' b'1.8' b'Iris-virginica']\n",
            " [b'7.2' b'3.6' b'6.1' b'2.5' b'Iris-virginica']\n",
            " [b'6.5' b'3.2' b'5.1' b'2.0' b'Iris-virginica']\n",
            " [b'6.4' b'2.7' b'5.3' b'1.9' b'Iris-virginica']\n",
            " [b'6.8' b'3.0' b'5.5' b'2.1' b'Iris-virginica']\n",
            " [b'5.7' b'2.5' b'5.0' b'2.0' b'Iris-virginica']\n",
            " [b'5.8' b'2.8' b'5.1' b'2.4' b'Iris-virginica']\n",
            " [b'6.4' b'3.2' b'5.3' b'2.3' b'Iris-virginica']\n",
            " [b'6.5' b'3.0' b'5.5' b'1.8' b'Iris-virginica']\n",
            " [b'7.7' b'3.8' b'6.7' b'2.2' b'Iris-virginica']\n",
            " [b'7.7' b'2.6' b'6.9' b'2.3' b'Iris-virginica']\n",
            " [b'6.0' b'2.2' b'5.0' b'1.5' b'Iris-virginica']\n",
            " [b'6.9' b'3.2' b'5.7' b'2.3' b'Iris-virginica']\n",
            " [b'5.6' b'2.8' b'4.9' b'2.0' b'Iris-virginica']\n",
            " [b'7.7' b'2.8' b'6.7' b'2.0' b'Iris-virginica']\n",
            " [b'6.3' b'2.7' b'4.9' b'1.8' b'Iris-virginica']\n",
            " [b'6.7' b'3.3' b'5.7' b'2.1' b'Iris-virginica']\n",
            " [b'7.2' b'3.2' b'6.0' b'1.8' b'Iris-virginica']\n",
            " [b'6.2' b'2.8' b'4.8' b'1.8' b'Iris-virginica']\n",
            " [b'6.1' b'3.0' b'4.9' b'1.8' b'Iris-virginica']\n",
            " [b'6.4' b'2.8' b'5.6' b'2.1' b'Iris-virginica']\n",
            " [b'7.2' b'3.0' b'5.8' b'1.6' b'Iris-virginica']\n",
            " [b'7.4' b'2.8' b'6.1' b'1.9' b'Iris-virginica']\n",
            " [b'7.9' b'3.8' b'6.4' b'2.0' b'Iris-virginica']\n",
            " [b'6.4' b'2.8' b'5.6' b'2.2' b'Iris-virginica']\n",
            " [b'6.3' b'2.8' b'5.1' b'1.5' b'Iris-virginica']\n",
            " [b'6.1' b'2.6' b'5.6' b'1.4' b'Iris-virginica']\n",
            " [b'7.7' b'3.0' b'6.1' b'2.3' b'Iris-virginica']\n",
            " [b'6.3' b'3.4' b'5.6' b'2.4' b'Iris-virginica']\n",
            " [b'6.4' nan b'5.5' b'1.8' b'Iris-virginica']\n",
            " [b'6.0' b'3.0' b'4.8' nan b'Iris-virginica']\n",
            " [b'6.9' b'3.1' b'5.4' b'2.1' b'Iris-virginica']\n",
            " [b'6.7' b'3.1' b'5.6' b'2.4' b'Iris-virginica']\n",
            " [b'6.9' b'3.1' b'5.1' b'2.3' b'Iris-virginica']\n",
            " [b'5.8' b'2.7' b'5.1' b'1.9' b'Iris-virginica']\n",
            " [b'6.8' b'3.2' b'5.9' nan b'Iris-virginica']\n",
            " [b'6.7' b'3.3' b'5.7' nan b'Iris-virginica']\n",
            " [b'6.7' b'3.0' b'5.2' b'2.3' b'Iris-virginica']\n",
            " [b'6.3' b'2.5' b'5.0' b'1.9' b'Iris-virginica']\n",
            " [b'6.5' b'3.0' b'5.2' b'2.0' b'Iris-virginica']\n",
            " [b'6.2' b'3.4' b'5.4' b'2.3' b'Iris-virginica']\n",
            " [b'5.9' b'3.0' b'5.1' b'1.8' b'Iris-virginica']]\n"
          ],
          "name": "stdout"
        }
      ]
    },
    {
      "cell_type": "code",
      "metadata": {
        "id": "5sOBdOeXL3cx",
        "colab_type": "code",
        "outputId": "8d46f94e-2067-47b1-bbdb-a8926f6c82d9",
        "colab": {
          "base_uri": "https://localhost:8080/",
          "height": 364
        }
      },
      "source": [
        "# 33. How to find the position of missing values in numpy array?\n",
        "# Find the number and position of missing values \n",
        "# in iris sepallength (1st column)\n",
        "# Input\n",
        "url = 'https://archive.ics.uci.edu/ml/machine-learning-databases/iris/iris.data'\n",
        "iris = np.genfromtxt(url, delimiter=',', dtype='float', usecols=[0,1,2,3])\n",
        "iris[np.random.randint(150, size=20), np.random.randint(4, size=20)] = np.nan\n",
        "a = np.argwhere(np.isnan(iris))\n",
        "print(a)"
      ],
      "execution_count": 0,
      "outputs": [
        {
          "output_type": "stream",
          "text": [
            "[[  2   2]\n",
            " [ 13   3]\n",
            " [ 14   1]\n",
            " [ 17   3]\n",
            " [ 18   2]\n",
            " [ 27   1]\n",
            " [ 30   3]\n",
            " [ 38   0]\n",
            " [ 47   1]\n",
            " [ 56   2]\n",
            " [ 61   1]\n",
            " [ 63   3]\n",
            " [ 72   2]\n",
            " [ 80   0]\n",
            " [105   3]\n",
            " [106   0]\n",
            " [109   1]\n",
            " [113   0]\n",
            " [121   0]\n",
            " [147   3]]\n"
          ],
          "name": "stdout"
        }
      ]
    },
    {
      "cell_type": "code",
      "metadata": {
        "id": "ylqRmp8IUryi",
        "colab_type": "code",
        "colab": {}
      },
      "source": [
        "# 34. How to filter a numpy array based on two or more conditions?\n",
        "# Filter the rows of iris_2d that has petallength (3rd column) > 1.5\n",
        "# and sepallength (1st column) < 5.\n",
        "url = 'https://archive.ics.uci.edu/ml/machine-learning-databases/iris/iris.data'\n",
        "iris = np.genfromtxt(url, delimiter=',', dtype='float', usecols=[0,1,2,3])\n",
        "warunek = (iris[:, 2]> 1.5) & (iris[:, 0] < 5)\n",
        "a = iris[warunek]\n"
      ],
      "execution_count": 0,
      "outputs": []
    },
    {
      "cell_type": "code",
      "metadata": {
        "id": "TMcDI1MJbEgx",
        "colab_type": "code",
        "outputId": "3199a55a-8552-46eb-d327-fe7915682aef",
        "colab": {
          "base_uri": "https://localhost:8080/",
          "height": 52
        }
      },
      "source": [
        "# 35. How to drop rows that contain a missing value from a numpy array?\n",
        "# Select the rows of iris_2d that does not have any nan value.\n",
        "# Input\n",
        "url='https://archive.ics.uci.edu/ml/machine-learning-databases/iris/iris.data'\n",
        "iris=np.genfromtxt(url, delimiter=',', dtype='float', usecols=[0,1,2,3])\n",
        "print(iris.shape)\n",
        "# insert nan\n",
        "iris[np.random.randint(150, size=20), np.random.randint(4, size=20)] = np.nan\n",
        "# filter\n",
        "iris =  iris[~np.isnan(iris).any(axis=1)]\n",
        "# iris wiout nan\n",
        "print(iris.shape)"
      ],
      "execution_count": 0,
      "outputs": [
        {
          "output_type": "stream",
          "text": [
            "(150, 4)\n",
            "(130, 4)\n"
          ],
          "name": "stdout"
        }
      ]
    },
    {
      "cell_type": "code",
      "metadata": {
        "id": "iqSSVoGngULK",
        "colab_type": "code",
        "colab": {}
      },
      "source": [
        ""
      ],
      "execution_count": 0,
      "outputs": []
    },
    {
      "cell_type": "code",
      "metadata": {
        "id": "JH3S5zxCca5r",
        "colab_type": "code",
        "outputId": "920ad71f-6f5c-47db-8407-ec4f5e8eef52",
        "colab": {
          "base_uri": "https://localhost:8080/",
          "height": 34
        }
      },
      "source": [
        "#36. How to find the correlation between two columns of a numpy array?\n",
        "# Find the correlation between SepalLength(1st column) and\n",
        "# PetalLength(3rd column) in iris_2d\n",
        "# Input\n",
        "url='https://archive.ics.uci.edu/ml/machine-learning-databases/iris/iris.data'\n",
        "iris=np.genfromtxt(url, delimiter=',', dtype='float', usecols=[0,1,2,3])\n",
        "np.corrcoef(iris[:, 0], iris[:, 2])[0][1]"
      ],
      "execution_count": 0,
      "outputs": [
        {
          "output_type": "execute_result",
          "data": {
            "text/plain": [
              "0.8717541573048718"
            ]
          },
          "metadata": {
            "tags": []
          },
          "execution_count": 289
        }
      ]
    },
    {
      "cell_type": "code",
      "metadata": {
        "id": "CPLCzlDLdh9X",
        "colab_type": "code",
        "outputId": "ccdae99c-e8d4-4ad8-9f20-2d580a3603dc",
        "colab": {
          "base_uri": "https://localhost:8080/",
          "height": 52
        }
      },
      "source": [
        "# 37. How to find if a given array has any null values?\n",
        "# Find out if iris_2d has any missing values.\n",
        "url = 'https://archive.ics.uci.edu/ml/machine-learning-databases/iris/iris.data'\n",
        "iris = np.genfromtxt(url, delimiter=',', dtype='float', usecols=[0,1,2,3])\n",
        "a = np.isnan(iris).any()\n",
        "print(a)\n",
        "# insert nan\n",
        "iris[np.random.randint(150, size=20), np.random.randint(4, size=20)]=np.nan\n",
        "a = np.isnan(iris).any()\n",
        "print(a)"
      ],
      "execution_count": 0,
      "outputs": [
        {
          "output_type": "stream",
          "text": [
            "False\n",
            "True\n"
          ],
          "name": "stdout"
        }
      ]
    },
    {
      "cell_type": "code",
      "metadata": {
        "id": "k1TzVe67ifRW",
        "colab_type": "code",
        "outputId": "1e5fa834-744e-4f94-b109-6b35e382520e",
        "colab": {
          "base_uri": "https://localhost:8080/",
          "height": 34
        }
      },
      "source": [
        "# 38. How to replace all missing values with 0 in a numpy array?\n",
        "# Replace all ccurrences of nan with 0 in numpy array\n",
        "url = 'https://archive.ics.uci.edu/ml/machine-learning-databases/iris/iris.data'\n",
        "iris = np.genfromtxt(url, delimiter=',', dtype='float', usecols=[0,1,2,3])\n",
        "# insert nan\n",
        "iris[np.random.randint(150, size=20), np.random.randint(4, size=20)]=np.nan\n",
        "iris[np.argwhere(np.isnan(iris))] = 0\n",
        "np.isnan(iris).any()"
      ],
      "execution_count": 0,
      "outputs": [
        {
          "output_type": "execute_result",
          "data": {
            "text/plain": [
              "False"
            ]
          },
          "metadata": {
            "tags": []
          },
          "execution_count": 291
        }
      ]
    },
    {
      "cell_type": "code",
      "metadata": {
        "id": "S1OUuB6YeFeL",
        "colab_type": "code",
        "outputId": "1ed0789e-b153-4afb-a710-e697899ba0fe",
        "colab": {
          "base_uri": "https://localhost:8080/",
          "height": 54
        }
      },
      "source": [
        "# 39. How to find the count of unique values in a numpy array?\n",
        "# Find the unique values and the count of unique values in iris's species\n",
        "url = 'https://archive.ics.uci.edu/ml/machine-learning-databases/iris/iris.data'\n",
        "iris = np.genfromtxt(url, delimiter=',', dtype='object')\n",
        "names = ('sepallength', 'sepalwidth', 'petallength', 'petalwidth', 'species')\n",
        "keys, count=np.unique(iris[:, 3], return_counts=True)\n",
        "a = dict(zip(keys, count))\n",
        "print(a)"
      ],
      "execution_count": 0,
      "outputs": [
        {
          "output_type": "stream",
          "text": [
            "{b'0.1': 6, b'0.2': 28, b'0.3': 7, b'0.4': 7, b'0.5': 1, b'0.6': 1, b'1.0': 7, b'1.1': 3, b'1.2': 5, b'1.3': 13, b'1.4': 8, b'1.5': 12, b'1.6': 4, b'1.7': 2, b'1.8': 12, b'1.9': 5, b'2.0': 6, b'2.1': 6, b'2.2': 3, b'2.3': 8, b'2.4': 3, b'2.5': 3}\n"
          ],
          "name": "stdout"
        }
      ]
    },
    {
      "cell_type": "code",
      "metadata": {
        "id": "6tYEuEjMgqdk",
        "colab_type": "code",
        "colab": {}
      },
      "source": [
        "# 40. How to convert a numeric to a categorical (text) array?\n",
        "# Bin the petal length (3rd) column of iris_2d to form a text array, such that if petal length is:\n",
        "#    Less than 3 --> 'small'\n",
        "#    3-5 --> 'medium'\n",
        "#    '>=5 --> 'large'\n",
        "url='https://archive.ics.uci.edu/ml/machine-learning-databases/iris/iris.data'\n",
        "iris=np.genfromtxt(url, delimiter=',', dtype='object')\n",
        "names=('sepallength', 'sepalwidth', 'petallength', 'petalwidth', 'species')\n",
        "# Bin petallength \n",
        "petallength = np.digitize(iris[:, 2].astype('float'),[0,3,5,10])\n",
        "# Map it to respective category\n",
        "labelmap = {1: 'small', 2:'medium', 3:'large', 4:np.nan}\n",
        "petallength = [labelmap[i] for i in petallength]"
      ],
      "execution_count": 0,
      "outputs": []
    },
    {
      "cell_type": "code",
      "metadata": {
        "id": "sKjGXe67oaAr",
        "colab_type": "code",
        "colab": {}
      },
      "source": [
        "# 41. How to create a new column from existing columns of a numpy array?\n",
        "# Create a new column for volume in iris_2d, where volume \n",
        "# is (pi x petallength x sepal_length^2)/3\n",
        "url='https://archive.ics.uci.edu/ml/machine-learning-databases/iris/iris.data'\n",
        "iris=np.genfromtxt(url, delimiter=',', dtype='object')\n",
        "names=('sepallength', 'sepalwidth', 'petallength', 'petalwidth', 'species')\n",
        "# conver col 0, 1, 2, 3 to float, rest object\n",
        "iris[:, [0,1,2,3]] = iris[:, [0,1,2,3]].astype('float')\n",
        "# petallength x sepal_length^2\n",
        "y = np.multiply(iris[:, 2], np.power(iris[:, 0], 2))\n",
        "# (pi x petallength x sepal_length^2)/3\n",
        "y = ((np.pi * y)/3.0).astype('float')\n",
        "# round\n",
        "y = np.round(y, decimals=1)\n",
        "y = np.reshape(y, (150,1))\n",
        "np.append(iris, y, axis=1)\n"
      ],
      "execution_count": 0,
      "outputs": []
    },
    {
      "cell_type": "code",
      "metadata": {
        "id": "DGPNqhTOul57",
        "colab_type": "code",
        "outputId": "982e858b-7c07-46ff-e03a-a5d9ca42eebf",
        "colab": {
          "base_uri": "https://localhost:8080/",
          "height": 52
        }
      },
      "source": [
        "# 42. How to do probabilistic sampling in numpy?\n",
        "# Randomly sample iris's species such that \n",
        "# setose is twice the number of versicolor and virginica\n",
        "url='https://archive.ics.uci.edu/ml/machine-learning-databases/iris/iris.data'\n",
        "iris=np.genfromtxt(url, delimiter=',', dtype='object')\n",
        "names=('sepallength', 'sepalwidth', 'petallength', 'petalwidth', 'species')\n",
        "# get speace name\n",
        "keys=np.unique(iris[:, 4])\n",
        "# map\n",
        "y = keys.astype(str)\n",
        "labelmap = {'Iris-setosa': 0.5,\n",
        "            'Iris-versicolor':0.25,\n",
        "            'Iris-virginica':0.25}\n",
        "p = np.array([labelmap[i] for i in y])\n",
        "sample = np.random.choice(y, size =10, p=p)\n",
        "sample\n",
        "# method 2 \n",
        "a = np.array(['Iris-setosa', 'Iris-versicolor', 'Iris-virginica'])\n",
        "species_out = np.random.choice(a, 150, p=[0.5, 0.25, 0.25])\n",
        "# method 3\n",
        "species = iris[:, 4]\n",
        "probs = np.r_[np.linspace(0, 0.500, num=50), np.linspace(0.501, .750, num=50), np.linspace(.751, 1.0, num=50)]\n",
        "index = np.searchsorted(probs, np.random.random(150))\n",
        "species_out = species[index]\n",
        "print(np.unique(species_out, return_counts=True))\n",
        "# check\n",
        "#keys, count=np.unique(sample, return_counts=True)\n",
        "#a = dict(zip(keys, count))\n",
        "#print(a)"
      ],
      "execution_count": 0,
      "outputs": [
        {
          "output_type": "stream",
          "text": [
            "(array([b'Iris-setosa', b'Iris-versicolor', b'Iris-virginica'],\n",
            "      dtype=object), array([79, 42, 29]))\n"
          ],
          "name": "stdout"
        }
      ]
    },
    {
      "cell_type": "code",
      "metadata": {
        "id": "Xam_Jfc698G4",
        "colab_type": "code",
        "outputId": "89704ba4-23f1-4be6-c845-48618392877e",
        "colab": {
          "base_uri": "https://localhost:8080/",
          "height": 34
        }
      },
      "source": [
        "# 43. How to get the second largest value of an array\n",
        "# when grouped by another array?\n",
        "# What is the value of second longest petallength of species setosa\n",
        "url='https://archive.ics.uci.edu/ml/machine-learning-databases/iris/iris.data'\n",
        "iris=np.genfromtxt(url, delimiter=',', dtype='object')\n",
        "names=('sepallength', 'sepalwidth', 'petallength', 'petalwidth', 'species')\n",
        "# conver col 0, 1, 2, 3 to float, rest object\n",
        "iris[:, [0,1,2,3]] = iris[:, [0,1,2,3]].astype('float')\n",
        "# bierzemy tylko Iris-setosa tym : [iris[:,4] == b'Iris-setosa' \n",
        "# i potem 2 kolumne: , [2]\n",
        "setosa = iris[iris[:,4] == b'Iris-setosa', [2]]\n",
        "# tylko unikalne\n",
        "setosa = np.unique(setosa)\n",
        "# sortujemy\n",
        "setosa = np.sort(setosa)\n",
        "# bierzemy 2 najwieksza wartosc\n",
        "setosa[-2]\n"
      ],
      "execution_count": 0,
      "outputs": [
        {
          "output_type": "execute_result",
          "data": {
            "text/plain": [
              "1.7"
            ]
          },
          "metadata": {
            "tags": []
          },
          "execution_count": 296
        }
      ]
    },
    {
      "cell_type": "code",
      "metadata": {
        "id": "F3TiVG3uwJVZ",
        "colab_type": "code",
        "colab": {}
      },
      "source": [
        "# 44. How to sort a 2D array by a column \n",
        "# Sort the iris dataset based on sepallength column.\n",
        "url='https://archive.ics.uci.edu/ml/machine-learning-databases/iris/iris.data'\n",
        "iris=np.genfromtxt(url, delimiter=',', dtype='object')\n",
        "names=('sepallength', 'sepalwidth', 'petallength', 'petalwidth', 'species')\n",
        "# conver col 0, 1, 2, 3 to float, rest object\n",
        "iris[:, [0,1,2,3]] = iris[:, [0,1,2,3]].astype('float')\n",
        "# sortujemy\n",
        "iris = iris[iris[:,0].argsort()]\n",
        "iris"
      ],
      "execution_count": 0,
      "outputs": []
    },
    {
      "cell_type": "code",
      "metadata": {
        "id": "h4N1BltxxjEX",
        "colab_type": "code",
        "outputId": "7891953a-f04c-4fd9-ea5e-881395815215",
        "colab": {
          "base_uri": "https://localhost:8080/",
          "height": 34
        }
      },
      "source": [
        "# 45. How to find the most frequent value in a numpy array?\n",
        "# Find the most frequent value of petal length (3rd column)\n",
        "# in iris dataset.\n",
        "url='https://archive.ics.uci.edu/ml/machine-learning-databases/iris/iris.data'\n",
        "iris=np.genfromtxt(url, delimiter=',', dtype='object')\n",
        "names=('sepallength', 'sepalwidth', 'petallength', 'petalwidth', 'species')\n",
        "# conver col 0, 1, 2, 3 to float, rest object\n",
        "iris[:, [0,1,2,3]] = iris[:, [0,1,2,3]].astype('float')\n",
        "# method 2\n",
        "# get column\n",
        "petallength = iris[:, 2]\n",
        "# get unique values and count\n",
        "(petallength, count) = np.unique(petallength, return_counts=True)\n",
        "value = np.argmax(count)\n",
        "print(petallength[value])"
      ],
      "execution_count": 0,
      "outputs": [
        {
          "output_type": "stream",
          "text": [
            "1.5\n"
          ],
          "name": "stdout"
        }
      ]
    },
    {
      "cell_type": "code",
      "metadata": {
        "id": "sJptMabLzL3A",
        "colab_type": "code",
        "outputId": "6e5506c9-69d1-40f5-f52b-3c71768753ca",
        "colab": {
          "base_uri": "https://localhost:8080/",
          "height": 34
        }
      },
      "source": [
        "# 46. How to find the position of the first occurrence of a \n",
        "# value greater than a given value?\n",
        "# Find the position of the first occurrence of a value greater than 1.0 in \n",
        "# petalwidth 4th column of iris dataset.\n",
        "url='https://archive.ics.uci.edu/ml/machine-learning-databases/iris/iris.data'\n",
        "iris=np.genfromtxt(url, delimiter=',', dtype='object')\n",
        "names=('sepallength', 'sepalwidth', 'petallength', 'petalwidth', 'species')\n",
        "# conver col 0, 1, 2, 3 to float, rest object\n",
        "iris[:, [0,1,2,3]] = iris[:, [0,1,2,3]].astype('float')\n",
        "petalwidth = iris[:, 3]\n",
        "index = np.argwhere(petalwidth>1.0)\n",
        "print(index[0])"
      ],
      "execution_count": 0,
      "outputs": [
        {
          "output_type": "stream",
          "text": [
            "[50]\n"
          ],
          "name": "stdout"
        }
      ]
    },
    {
      "cell_type": "code",
      "metadata": {
        "id": "2R9MYOzh20wm",
        "colab_type": "code",
        "outputId": "e6288264-abb5-43ed-a667-792b9f6d6c94",
        "colab": {
          "base_uri": "https://localhost:8080/",
          "height": 121
        }
      },
      "source": [
        "# 47. How to replace all values greater than a given value to\n",
        "# a given cutoff?\n",
        "# From the array a, replace all values greater\n",
        "# than 30 to 30 and less than 10 to 10.\n",
        "# method 1\n",
        "np.random.seed(100)\n",
        "a = np.random.uniform(1,50, 20)\n",
        "a = np.clip(a, 10, 30)\n",
        "print(a)\n",
        "# method 2\n",
        "np.random.seed(100)\n",
        "a = np.random.uniform(1,50, 20)\n",
        "# replace all values greater than 30 to 30\n",
        "a = np.where(a > 30, 30, a)\n",
        "# replace all values less than 10 to 10.\n",
        "a = np.where(a < 10, 10, a)\n",
        "print(a)"
      ],
      "execution_count": 0,
      "outputs": [
        {
          "output_type": "stream",
          "text": [
            "[27.626842 14.6401   21.801362 30.       10.       10.       30.\n",
            " 30.       10.       29.179573 30.       11.250904 10.081083 10.\n",
            " 11.765177 30.       30.       10.       30.       14.429614]\n",
            "[27.626842 14.6401   21.801362 30.       10.       10.       30.\n",
            " 30.       10.       29.179573 30.       11.250904 10.081083 10.\n",
            " 11.765177 30.       30.       10.       30.       14.429614]\n"
          ],
          "name": "stdout"
        }
      ]
    },
    {
      "cell_type": "code",
      "metadata": {
        "id": "Oxvqg6Fk5AT2",
        "colab_type": "code",
        "outputId": "a9bdd57e-f7b7-475b-cffd-75de0f3a4824",
        "colab": {
          "base_uri": "https://localhost:8080/",
          "height": 34
        }
      },
      "source": [
        "# 48. How to get the positions of top n values from a numpy array?\n",
        "# Get the positions of top 5 maximum values in a given array a.\n",
        "np.random.seed(100)\n",
        "a = np.random.uniform(1,50, 20)\n",
        "b = np.argpartition(a, -5)[-5:]\n",
        "b"
      ],
      "execution_count": 0,
      "outputs": [
        {
          "output_type": "execute_result",
          "data": {
            "text/plain": [
              "array([18,  7,  3, 10, 15])"
            ]
          },
          "metadata": {
            "tags": []
          },
          "execution_count": 301
        }
      ]
    },
    {
      "cell_type": "code",
      "metadata": {
        "id": "Um091cDOEPhZ",
        "colab_type": "code",
        "outputId": "8272c062-5673-4a78-93cc-1ed397f8cdf8",
        "colab": {
          "base_uri": "https://localhost:8080/",
          "height": 139
        }
      },
      "source": [
        "# 49. How to compute the row wise counts of all possible values \n",
        "# in an array?\n",
        "# Compute the counts of unique values row-wise.\n",
        "np.random.seed(100)\n",
        "a = np.random.randint(1,11,size=(6, 10))\n",
        "def counts_of_all_values_rowwise(arr):\n",
        "    c = [np.unique(row, return_counts=True) for row in arr]\n",
        "    output =[]\n",
        "    for a,b in c:\n",
        "        row =[]\n",
        "        for i in np.unique(arr):\n",
        "            if i in a:\n",
        "                row.append(int(b[a==i]))\n",
        "            else:\n",
        "                row.append(0)\n",
        "        output.append(row)\n",
        "    # print list\n",
        "    for i in output:\n",
        "        print(i)      \n",
        "print(np.arange(1,11))\n",
        "counts_of_all_values_rowwise(a)"
      ],
      "execution_count": 0,
      "outputs": [
        {
          "output_type": "stream",
          "text": [
            "[ 1  2  3  4  5  6  7  8  9 10]\n",
            "[1, 0, 2, 1, 1, 1, 0, 2, 2, 0]\n",
            "[2, 1, 3, 0, 1, 0, 1, 0, 1, 1]\n",
            "[0, 3, 0, 2, 3, 1, 0, 1, 0, 0]\n",
            "[1, 0, 2, 1, 0, 1, 0, 2, 1, 2]\n",
            "[2, 2, 2, 0, 0, 1, 1, 1, 1, 0]\n",
            "[1, 1, 1, 1, 1, 2, 0, 0, 2, 1]\n"
          ],
          "name": "stdout"
        }
      ]
    },
    {
      "cell_type": "code",
      "metadata": {
        "id": "EafeGf1fPkon",
        "colab_type": "code",
        "outputId": "f9929ced-e438-42dd-e872-924d380fb3f8",
        "colab": {
          "base_uri": "https://localhost:8080/",
          "height": 34
        }
      },
      "source": [
        "# 50. How to convert an array of arrays into a flat 1d array?\n",
        "# Convert array_of_arrays into a flat linear 1d array.\n",
        "a = np.arange(3)\n",
        "b = np.arange(3,7)\n",
        "c = np.arange(7,10)\n",
        "array_of_arrays = np.array([a, b, c])\n",
        "d = np.concatenate(array_of_arrays)\n",
        "d"
      ],
      "execution_count": 0,
      "outputs": [
        {
          "output_type": "execute_result",
          "data": {
            "text/plain": [
              "array([0, 1, 2, 3, 4, 5, 6, 7, 8, 9])"
            ]
          },
          "metadata": {
            "tags": []
          },
          "execution_count": 303
        }
      ]
    },
    {
      "cell_type": "code",
      "metadata": {
        "id": "MASvb0bak-zR",
        "colab_type": "code",
        "outputId": "c98b8af6-0e4b-4cbb-817a-4cd6da438618",
        "colab": {
          "base_uri": "https://localhost:8080/",
          "height": 121
        }
      },
      "source": [
        "# 51. How to generate one-hot encodings for an array in numpy?\n",
        "# Compute the one-hot encodings (dummy binary variables for each unique \n",
        "# value in the array)\n",
        "np.random.seed(101) \n",
        "a = np.random.randint(1,4, size=6)\n",
        "b = np.zeros((6, 3))\n",
        "b[np.arange(6), a-1] = 1\n",
        "b"
      ],
      "execution_count": 0,
      "outputs": [
        {
          "output_type": "execute_result",
          "data": {
            "text/plain": [
              "array([[0., 1., 0.],\n",
              "       [0., 0., 1.],\n",
              "       [0., 1., 0.],\n",
              "       [0., 1., 0.],\n",
              "       [0., 1., 0.],\n",
              "       [1., 0., 0.]])"
            ]
          },
          "metadata": {
            "tags": []
          },
          "execution_count": 304
        }
      ]
    },
    {
      "cell_type": "code",
      "metadata": {
        "id": "gFBkQbPOpuDC",
        "colab_type": "code",
        "outputId": "f58b7d66-3863-4adc-824b-97a287a29a1f",
        "colab": {
          "base_uri": "https://localhost:8080/",
          "height": 34
        }
      },
      "source": [
        "# 52. How to create row numbers grouped by a categorical variable?\n",
        "# Create row numbers grouped by a categorical variable. Use the following \n",
        "# sample from iris species as input.\n",
        "url = 'https://archive.ics.uci.edu/ml/machine-learning-databases/iris/iris.data'\n",
        "species = np.genfromtxt(url, delimiter=',', dtype='str', usecols=4)\n",
        "species_small = np.sort(np.random.choice(species, size=20))\n",
        "# method 1 beter\n",
        "def row_numbers_grouped_by_categorical(species_small):\n",
        "    temp = ''\n",
        "    idx = 0\n",
        "    species_small2 = []\n",
        "    for name in species_small:\n",
        "        name = str(name)\n",
        "        if (name == temp):\n",
        "            idx += 1\n",
        "            species_small2.append(str(idx)) \n",
        "        else:\n",
        "            temp = name\n",
        "            idx = 0\n",
        "            species_small2.append(str(idx)) \n",
        "    return species_small2\n",
        "row_numbers_grouped_by_categorical(species_small)\n",
        "# method 2\n",
        "print([i for val in np.unique(species_small) for i, grp in enumerate(species_small[species_small==val])])"
      ],
      "execution_count": 0,
      "outputs": [
        {
          "output_type": "stream",
          "text": [
            "[0, 1, 2, 3, 4, 0, 1, 2, 3, 4, 5, 0, 1, 2, 3, 4, 5, 6, 7, 8]\n"
          ],
          "name": "stdout"
        }
      ]
    },
    {
      "cell_type": "code",
      "metadata": {
        "id": "aK6ZzXC0RvLn",
        "colab_type": "code",
        "outputId": "6f1a402c-535e-4e11-986a-c69075c6b4c1",
        "colab": {
          "base_uri": "https://localhost:8080/",
          "height": 34
        }
      },
      "source": [
        "# 53. How to create groud ids based on a given categorical variable?\n",
        "# Create group ids based on a given categorical variable. \n",
        "# Use the following sample from iris species as input.\n",
        "url = 'https://archive.ics.uci.edu/ml/machine-learning-databases/iris/iris.data'\n",
        "species = np.genfromtxt(url, delimiter=',', dtype='str', usecols=4)\n",
        "species_small = np.sort(np.random.choice(species, size=20))\n",
        "_, species_small =np.unique(species_small, return_inverse=True)\n",
        "print(species_small)"
      ],
      "execution_count": 0,
      "outputs": [
        {
          "output_type": "stream",
          "text": [
            "[0 0 0 0 0 0 1 1 1 1 1 1 2 2 2 2 2 2 2 2]\n"
          ],
          "name": "stdout"
        }
      ]
    },
    {
      "cell_type": "code",
      "metadata": {
        "id": "XbhC3zo0X1sF",
        "colab_type": "code",
        "outputId": "1a837e3f-1ccf-49a5-c326-bbec26f7954a",
        "colab": {
          "base_uri": "https://localhost:8080/",
          "height": 34
        }
      },
      "source": [
        "# 54. How to rank items in an array using numpy?\n",
        "# Create the ranks for the given numeric array a.\n",
        "np.random.seed(10)\n",
        "a = np.random.randint(2000000, size=10)\n",
        "# method 1\n",
        "temp = a.argsort()\n",
        "rank = np.empty_like(temp)\n",
        "rank[temp] = np.arange(len(a))\n",
        "rank\n",
        "# method 2 beter bo krocej\n",
        "b=a.argsort().argsort()\n",
        "b"
      ],
      "execution_count": 0,
      "outputs": [
        {
          "output_type": "execute_result",
          "data": {
            "text/plain": [
              "array([4, 7, 1, 8, 5, 0, 2, 6, 9, 3])"
            ]
          },
          "metadata": {
            "tags": []
          },
          "execution_count": 307
        }
      ]
    },
    {
      "cell_type": "code",
      "metadata": {
        "id": "5sL81vpXaNmM",
        "colab_type": "code",
        "outputId": "3fd830e0-80c7-4fdf-ebb7-2c909bb73c19",
        "colab": {
          "base_uri": "https://localhost:8080/",
          "height": 86
        }
      },
      "source": [
        "# 55. How to rank items in a multidimensional array using numpy?\n",
        "# Create a rank array of the same shape as a given numeric array a.\n",
        "np.random.seed(10)\n",
        "a = np.random.randint(20, size=[2,5])\n",
        "print(a)\n",
        "_, b =np.unique(a, return_inverse=True)\n",
        "c = (b+6 - b.max()).reshape(a.shape)\n",
        "c"
      ],
      "execution_count": 0,
      "outputs": [
        {
          "output_type": "stream",
          "text": [
            "[[ 9  4 15  0 17]\n",
            " [16 17  8  9  0]]\n"
          ],
          "name": "stdout"
        },
        {
          "output_type": "execute_result",
          "data": {
            "text/plain": [
              "array([[3, 1, 4, 0, 6],\n",
              "       [5, 6, 2, 3, 0]])"
            ]
          },
          "metadata": {
            "tags": []
          },
          "execution_count": 308
        }
      ]
    },
    {
      "cell_type": "code",
      "metadata": {
        "id": "HZZECBxFappy",
        "colab_type": "code",
        "colab": {}
      },
      "source": [
        "# 56. How to find the maximum value in each row of a numpy array 2d?\n",
        "# Compute the maximum for each row in the given array.\n",
        "np.random.seed(100)\n",
        "a = np.random.randint(1,10, [5,3])\n",
        "# method  1 beter\n",
        "b = np.amax(a, axis=1)\n",
        "# METHOD 2\n",
        "c = [row[row.argmax()] for row in a]\n"
      ],
      "execution_count": 0,
      "outputs": []
    },
    {
      "cell_type": "code",
      "metadata": {
        "id": "gq_MeCM-gShC",
        "colab_type": "code",
        "colab": {}
      },
      "source": [
        "# 57. How to compute the min-by-max for each row for a numpy array 2d?\n",
        "# Compute the min-by-max for each row for given 2d numpy array.\n",
        "np.random.seed(100)\n",
        "a = np.random.randint(1,10, [5,3])\n",
        "b = np.divide(np.amin(a, axis=1), np.amax(a, axis=1))"
      ],
      "execution_count": 0,
      "outputs": []
    },
    {
      "cell_type": "code",
      "metadata": {
        "id": "6BTDOMJJh17z",
        "colab_type": "code",
        "colab": {}
      },
      "source": [
        "# 58. How to find the duplicate records in a numpy array?\n",
        "# Find the duplicate entries (2nd occurrence onwards) in the given numpy array \n",
        "# and mark them as True. First time occurrences should be False.\n",
        "np.random.seed(100)\n",
        "a = np.random.randint(0, 5, 10)\n",
        "# method 1\n",
        "b = []\n",
        "c = []\n",
        "for i in a:\n",
        "    i = int(i)\n",
        "    if i in b:\n",
        "        c.append(True)\n",
        "    else:\n",
        "        b.append(int(i))\n",
        "        c.append(False)\n",
        "# method 2 beter\n",
        "np.random.seed(100)\n",
        "a = np.random.randint(0, 5, 10)\n",
        "# Create an all True array\n",
        "out = np.full(a.shape[0], True)\n",
        "# Find the index positions of unique elements\n",
        "_, idx = np.unique(a, return_index=True)\n",
        "# Mark those positions as False\n",
        "out[idx] = False"
      ],
      "execution_count": 0,
      "outputs": []
    },
    {
      "cell_type": "code",
      "metadata": {
        "id": "0ob1s8F5hjeR",
        "colab_type": "code",
        "colab": {}
      },
      "source": [
        "# 59. How to find the grouped mean in numpy?\n",
        "# Find the mean of a numeric column grouped by a \n",
        "# categorical column in a 2D numpy array\n",
        "url = 'https://archive.ics.uci.edu/ml/machine-learning-databases/iris/iris.data'\n",
        "iris = np.genfromtxt(url, delimiter=',', dtype='object')\n",
        "names = ('sepallength', 'sepalwidth', 'petallength', 'petalwidth', 'species')\n",
        "# conver col 0, 1, 2, 3 to float\n",
        "iris[:, [0,1,2,3]] = iris[:, [0,1,2,3]].astype('float')\n",
        "# convert col 5 to str\n",
        "iris[:, 4] = iris[:, 4].astype('str')\n",
        "# mean for all coluns\n",
        "keys = np.unique(iris[:, 4])\n",
        "b =[]\n",
        "for key in keys:\n",
        "    a = iris[np.where(iris[:, 4]==key), :-1].mean()\n",
        "    b.append((key, a))\n",
        "# mean for 1 col np. 1\n",
        "keys = np.unique(iris[:, 4])\n",
        "b =[]\n",
        "for key in keys:\n",
        "    a = iris[np.where(iris[:, 4]==key), 1].mean()# 1 is nr of col\n",
        "    b.append((key, a))"
      ],
      "execution_count": 0,
      "outputs": []
    },
    {
      "cell_type": "code",
      "metadata": {
        "id": "Fy4nHB9bvyRD",
        "colab_type": "code",
        "colab": {}
      },
      "source": [
        "# 60. How to convert a PIL image to numpy array?\n",
        "# Import the image from the following URL and \n",
        "# convert it to a numpy array.\n",
        "from io import BytesIO\n",
        "from PIL import Image\n",
        "import PIL, requests\n",
        "url='https://upload.wikimedia.org/wikipedia/commons/8/8b/Denali_Mt_McKinley.jpg'\n",
        "img = requests.get(url)\n",
        "# read as img\n",
        "img = Image.open(BytesIO(img.content))\n",
        "# img to np array\n",
        "img = np.asarray(img)\n",
        "# np array to img\n",
        "img = PIL.Image.fromarray(np.uint8(img))\n"
      ],
      "execution_count": 0,
      "outputs": []
    },
    {
      "cell_type": "code",
      "metadata": {
        "id": "VQARp6-W6yeS",
        "colab_type": "code",
        "outputId": "c5f28565-23bb-4dd1-a086-1be48b0a1de0",
        "colab": {
          "base_uri": "https://localhost:8080/",
          "height": 34
        }
      },
      "source": [
        "# 61. How to drop all missing values from a numpy array?\n",
        "# Drop all nan values from a 1D numpy array\n",
        "a = np.array([1,2,3,np.nan,5,6,7,np.nan])\n",
        "a = a[~np.isnan(a)]\n",
        "a"
      ],
      "execution_count": 0,
      "outputs": [
        {
          "output_type": "execute_result",
          "data": {
            "text/plain": [
              "array([1., 2., 3., 5., 6., 7.])"
            ]
          },
          "metadata": {
            "tags": []
          },
          "execution_count": 314
        }
      ]
    },
    {
      "cell_type": "code",
      "metadata": {
        "id": "2aZH3v7264nj",
        "colab_type": "code",
        "outputId": "e5b63d70-4ac5-4a99-adc9-49daea98f519",
        "colab": {
          "base_uri": "https://localhost:8080/",
          "height": 34
        }
      },
      "source": [
        "# 62. How to compute the euclidean distance between two arrays?\n",
        "# Compute the euclidean distance between two arrays a and b.\n",
        "a = np.array([1,2,3,4,5])\n",
        "b = np.array([4,5,6,7,8])\n",
        "dist = np.linalg.norm(a-b)\n",
        "dist"
      ],
      "execution_count": 0,
      "outputs": [
        {
          "output_type": "execute_result",
          "data": {
            "text/plain": [
              "6.708203932499369"
            ]
          },
          "metadata": {
            "tags": []
          },
          "execution_count": 315
        }
      ]
    },
    {
      "cell_type": "code",
      "metadata": {
        "id": "NwFrxEkO0eki",
        "colab_type": "code",
        "colab": {}
      },
      "source": [
        "# 63. How to find all the local maxima (or peaks) in a 1d array?\n",
        "a = np.array([1, 3, 7, 1, 2, 6, 0, 1])\n",
        "# method 1\n",
        "from scipy.signal import argrelextrema\n",
        "index = argrelextrema(a, np.greater)\n",
        "# method 2\n",
        "doublediff = np.diff(np.sign(np.diff(a)))\n",
        "peak_locations = np.where(doublediff == -2)[0] + 1"
      ],
      "execution_count": 0,
      "outputs": []
    },
    {
      "cell_type": "code",
      "metadata": {
        "id": "6ZBVtENl01IL",
        "colab_type": "code",
        "outputId": "63e27e82-7e15-4560-e577-e9ca77184cc9",
        "colab": {
          "base_uri": "https://localhost:8080/",
          "height": 69
        }
      },
      "source": [
        "# 64. How to subtract a 1d array from a 2d array, where each item of 1d \n",
        "# array subtracts from respective row?\n",
        "# Subtract the 1d array b_1d from the 2d array a_2d, such that each item of\n",
        "# b_1d subtracts from respective row of a_2d.\n",
        "a_2d = np.array([[3,3,3],[4,4,4],[5,5,5]])\n",
        "b_1d = np.array([1,1,1])\n",
        "a = np.subtract(a_2d, b_1d)\n",
        "a"
      ],
      "execution_count": 0,
      "outputs": [
        {
          "output_type": "execute_result",
          "data": {
            "text/plain": [
              "array([[2, 2, 2],\n",
              "       [3, 3, 3],\n",
              "       [4, 4, 4]])"
            ]
          },
          "metadata": {
            "tags": []
          },
          "execution_count": 317
        }
      ]
    },
    {
      "cell_type": "code",
      "metadata": {
        "id": "ENT4veM61rM_",
        "colab_type": "code",
        "outputId": "a37d7da3-64b7-46c6-9482-b6ca30669234",
        "colab": {
          "base_uri": "https://localhost:8080/",
          "height": 34
        }
      },
      "source": [
        "# 65. How to find the index of n'th repetition of an item in an array\n",
        "# Find the index of 5th repetition of number 1 in x.\n",
        "x = np.array([1, 2, 1, 1, 3, 4, 3, 1, 1, 2, 1, 1, 2])\n",
        "# method 1\n",
        "n= 5\n",
        "i = np.where(x==1)[0][n-1]\n",
        "print(i)\n",
        "# method 2\n",
        "def idex(x):\n",
        "    n = 0\n",
        "    idx = 0\n",
        "    for i in x:\n",
        "        if (int(i) == 1):\n",
        "            n += 1\n",
        "            if (n==5):\n",
        "                return idx\n",
        "        idx += 1"
      ],
      "execution_count": 0,
      "outputs": [
        {
          "output_type": "stream",
          "text": [
            "8\n"
          ],
          "name": "stdout"
        }
      ]
    },
    {
      "cell_type": "code",
      "metadata": {
        "id": "DI2Hw4HM3dJe",
        "colab_type": "code",
        "colab": {}
      },
      "source": [
        "# 66. How to convert numpy's datetime64 object to datetime's\n",
        "# datetime object?\n",
        "# Convert numpy's datetime64 object to datetime's datetime object\n",
        "# method 1\n",
        "from datetime import datetime\n",
        "import pandas as pd\n",
        "dt64 = np.datetime64('2018-02-25 22:10:10')\n",
        "dt = dt64.astype(datetime)\n",
        "# method 2\n",
        "dt =  pd.Timestamp(dt64).to_pydatetime()"
      ],
      "execution_count": 0,
      "outputs": []
    },
    {
      "cell_type": "code",
      "metadata": {
        "id": "x-WvyXgy8Yo3",
        "colab_type": "code",
        "colab": {}
      },
      "source": [
        "# 67. How to compute the moving average of a numpy array?\n",
        "# Compute the moving average of window size 3, for the given 1D array.\n",
        "np.random.seed(100)\n",
        "b = np.random.randint(10, size=10)\n",
        "a = np.convolve(b, np.ones((3,))/3, mode='valid')\n",
        "c = pd.Series(b).rolling(window=3).mean().iloc[3-1:].values"
      ],
      "execution_count": 0,
      "outputs": []
    },
    {
      "cell_type": "code",
      "metadata": {
        "id": "51NAlBNZAfwT",
        "colab_type": "code",
        "colab": {}
      },
      "source": [
        "# 68. How to create a numpy array sequence given only the starting point,\n",
        "# length and the step?\n",
        "i =5\n",
        "b = []\n",
        "for n in range(10):\n",
        "    b.append(i)\n",
        "    i = i+3"
      ],
      "execution_count": 0,
      "outputs": []
    },
    {
      "cell_type": "code",
      "metadata": {
        "id": "NJfo4UMH8mKs",
        "colab_type": "code",
        "colab": {}
      },
      "source": [
        "# 69. How to fill in missing dates in an irregular series of numpy dates?\n",
        "# Given an array of a non-continuous sequence of dates. Make it a continuous\n",
        "# sequence of dates, by filling in the missing dates.\n",
        "dates = np.arange(np.datetime64('2018-02-01'), np.datetime64('2018-02-25')\n",
        ", 2)\n",
        "a= np.arange(dates[0], dates[-1], 1)\n",
        "a = np.hstack([a, dates[-1]])\n"
      ],
      "execution_count": 0,
      "outputs": []
    },
    {
      "cell_type": "code",
      "metadata": {
        "id": "3aQfE5Fw8rQs",
        "colab_type": "code",
        "outputId": "e247b2d3-50c0-419e-84f0-02259843cbe6",
        "colab": {
          "base_uri": "https://localhost:8080/",
          "height": 121
        }
      },
      "source": [
        "# 70. How to create strides from a given 1D array?\n",
        "# From the given 1d array arr, generate a 2d matrix using strides, with\n",
        "# a window length of 4 and strides of 2, like [[0,1,2,3], [2,3,4,5],\n",
        "# [4,5,6,7]..]\n",
        "# method 1 faster\n",
        "a = []\n",
        "b = np.arange(4)\n",
        "a.append(b)\n",
        "for i in range(4):\n",
        "    b=np.add(b,2)\n",
        "    a.append(b)\n",
        "a = np.array(a)\n",
        "# method 2\n",
        "def gen_strides(a, stride_len=5, window_len=5):\n",
        "    n_strides = ((a.size-window_len)//stride_len) + 1\n",
        "    # return np.array([a[s:(s+window_len)] for s in np.arange(0, a.size, stride_len)[:n_strides]])\n",
        "    return np.array([a[s:(s+window_len)] for s in np.arange(0, n_strides*stride_len, stride_len)])\n",
        "print(gen_strides(np.arange(15), stride_len=2, window_len=4))"
      ],
      "execution_count": 0,
      "outputs": [
        {
          "output_type": "stream",
          "text": [
            "[[ 0  1  2  3]\n",
            " [ 2  3  4  5]\n",
            " [ 4  5  6  7]\n",
            " [ 6  7  8  9]\n",
            " [ 8  9 10 11]\n",
            " [10 11 12 13]]\n"
          ],
          "name": "stdout"
        }
      ]
    },
    {
      "cell_type": "markdown",
      "metadata": {
        "id": "9eXdb2M6dcN5",
        "colab_type": "text"
      },
      "source": [
        ""
      ]
    }
  ]
}